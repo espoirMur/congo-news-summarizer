{
 "cells": [
  {
   "cell_type": "code",
   "execution_count": 1,
   "id": "d39e5f93-6606-489f-9464-87a28e83013a",
   "metadata": {},
   "outputs": [
    {
     "name": "stdout",
     "output_type": "stream",
     "text": [
      "/Users/esp.py/Projects/Personal/end-to-end-rag/.venv/bin/python\n"
     ]
    }
   ],
   "source": [
    "!which python"
   ]
  },
  {
   "cell_type": "markdown",
   "id": "4ad95e2c-cebb-4965-9062-4d7de97328a0",
   "metadata": {},
   "source": [
    "\n",
    "## Congo News Summarizer. Part one: News Clustering"
   ]
  },
  {
   "cell_type": "markdown",
   "id": "34a827ba-aa76-4a85-8098-dcbe67ba6410",
   "metadata": {},
   "source": [
    "Over the past months, I have been collecting a lot of news articles from major Congolese news websites. I have those articles saved in a Postgres database. There is a lot of fun stuff I can do with them. Among them is a news summarizer. I want to analyze the daily news and find out what the websites are talking about.\n",
    "\n",
    "In this blog or series of posts, I will try to build that news summarizer.\n",
    "\n",
    "In the first part, I will talk about how I built the news clustering model, Then in the second part, I will talk about how I built an LLM that summarizes each news cluster and how I deployed it. Finally, in the last part, I will talk about how to scale the model and deploy it in a production setting.\n",
    "\n",
    "The end goal of this project is two folds. First, I want  to have a news summarizer that I can open a morning and it will give me a summary of major news that is happening in Congo. Second, while building this news summarizer I would like to sharpen my ML Engineering Knowledge and illustrate that I can build an end-to-end production-ready project with the latest Python stack.\n",
    "\n",
    "To start, let us talk about how I build the news clustering model."
   ]
  },
  {
   "cell_type": "markdown",
   "id": "63f24ba8-f0d8-4e7a-8abe-d453bd503fba",
   "metadata": {},
   "source": [
    "## 1. Data Collection\n",
    "\n",
    "\n",
    "### The Data\n",
    "\n",
    "I have scrappers that run every day and scrape the data that Congolese news websites produce, those articles are saved as text in a Postgres database.  \n",
    "\n",
    "\n",
    "I  will query that database and load the data in the pandas dataframe for better analysis. I have the code to connect and read from the Postgres database embedded in modules."
   ]
  },
  {
   "cell_type": "code",
   "execution_count": 27,
   "id": "d51c3fea-c548-4030-b857-7db9366e8caa",
   "metadata": {},
   "outputs": [
    {
     "name": "stdout",
     "output_type": "stream",
     "text": [
      "The dotenv extension is already loaded. To reload it, use:\n",
      "  %reload_ext dotenv\n"
     ]
    }
   ],
   "source": [
    "%load_ext dotenv"
   ]
  },
  {
   "cell_type": "code",
   "execution_count": 28,
   "id": "b5a97c90-20f7-496b-be2e-b024cd270793",
   "metadata": {},
   "outputs": [
    {
     "name": "stdout",
     "output_type": "stream",
     "text": [
      "cannot find .env file\n"
     ]
    }
   ],
   "source": [
    "%dotenv ./.env_prod -o"
   ]
  },
  {
   "cell_type": "markdown",
   "id": "b48bf007-62e8-4532-b4c4-31bbf16b81fa",
   "metadata": {},
   "source": [
    "The above line loads the database credentials so that we can query the database."
   ]
  },
  {
   "cell_type": "code",
   "execution_count": 29,
   "id": "f92c6ef8-470e-42f1-ab8d-d0b987abf83f",
   "metadata": {},
   "outputs": [],
   "source": [
    "from src.shared.database import execute_query, generate_database_connection"
   ]
  },
  {
   "cell_type": "code",
   "execution_count": 30,
   "id": "034d0781-d8da-4ea7-b3f8-ca9041392298",
   "metadata": {},
   "outputs": [],
   "source": [
    "experiment_date = \"2024-11-06\""
   ]
  },
  {
   "cell_type": "code",
   "execution_count": 31,
   "id": "52db7bed-b387-4d77-95e0-de2ad43145d7",
   "metadata": {},
   "outputs": [],
   "source": [
    "yesterday_article_query = f\"select content, title, posted_at,url from article where posted_at::date = '{experiment_date}'\""
   ]
  },
  {
   "cell_type": "code",
   "execution_count": 32,
   "id": "329ca245-70d6-4883-b669-aa2db8886ef6",
   "metadata": {},
   "outputs": [
    {
     "data": {
      "text/plain": [
       "\"select content, title, posted_at,url from article where posted_at::date = '2024-11-06'\""
      ]
     },
     "execution_count": 32,
     "metadata": {},
     "output_type": "execute_result"
    }
   ],
   "source": [
    "yesterday_article_query"
   ]
  },
  {
   "cell_type": "code",
   "execution_count": 33,
   "id": "fa1db0ab-e09f-4902-a754-878071f2316f",
   "metadata": {},
   "outputs": [],
   "source": [
    "from os import getenv"
   ]
  },
  {
   "cell_type": "code",
   "execution_count": 34,
   "id": "684204f3-df24-49dc-b0df-3e315b416269",
   "metadata": {},
   "outputs": [],
   "source": [
    "database_user = getenv('POSTGRES_USER')\n",
    "database_password = getenv('POSTGRES_PASSWORD')\n",
    "database_host = getenv('POSTGRES_HOST')\n",
    "database_port = getenv('POSTGRES_PORT')\n",
    "database_name = getenv('POSTGRES_DB')"
   ]
  },
  {
   "cell_type": "code",
   "execution_count": 35,
   "id": "8ee77219-df10-4432-a131-9d2ee19e8509",
   "metadata": {},
   "outputs": [],
   "source": [
    "database_credentials = {\n",
    "    'user': database_user,\n",
    "    'password': database_password,\n",
    "    'host': database_host,\n",
    "    'port': database_port,\n",
    "    'database': database_name\n",
    "}"
   ]
  },
  {
   "cell_type": "code",
   "execution_count": null,
   "id": "1c30c8ed-3e97-4f3c-9653-c696a18dfca6",
   "metadata": {},
   "outputs": [
    {
     "ename": "TypeError",
     "evalue": "generate_database_connection() got an unexpected keyword argument 'database_crendentials'",
     "output_type": "error",
     "traceback": [
      "\u001b[0;31m---------------------------------------------------------------------------\u001b[0m",
      "\u001b[0;31mTypeError\u001b[0m                                 Traceback (most recent call last)",
      "Cell \u001b[0;32mIn[36], line 1\u001b[0m\n\u001b[0;32m----> 1\u001b[0m connection \u001b[38;5;241m=\u001b[39m \u001b[43mgenerate_database_connection\u001b[49m\u001b[43m(\u001b[49m\u001b[43mdatabase_crendentials\u001b[49m\u001b[38;5;241;43m=\u001b[39;49m\u001b[43mdatabase_credentials\u001b[49m\u001b[43m)\u001b[49m\n",
      "\u001b[0;31mTypeError\u001b[0m: generate_database_connection() got an unexpected keyword argument 'database_crendentials'"
     ]
    }
   ],
   "source": [
    "connection = generate_database_connection(database_credential=database_credentials)"
   ]
  },
  {
   "cell_type": "markdown",
   "id": "22e31740-d68a-45c6-9952-17dee6eb2278",
   "metadata": {},
   "source": [
    "With the credentials, the database connection, the query we can go ahead and query the database to retrieve the data."
   ]
  },
  {
   "cell_type": "code",
   "execution_count": null,
   "id": "251cc08d-4b84-457e-80e6-899b0df0d7ca",
   "metadata": {},
   "outputs": [],
   "source": [
    "results =execute_query(query=yesterday_article_query, database_connection=connection)"
   ]
  },
  {
   "cell_type": "code",
   "execution_count": null,
   "id": "3a169c42-0cdc-43b9-82a7-fe4dcd9c051e",
   "metadata": {},
   "outputs": [
    {
     "data": {
      "text/plain": [
       "'Ligue 2 : après la préparation, New Soger de retour à Lubumbashi et ambitionne la première division du championnat national, recrutement et staff technique au grand complet avant le démarrage | Actualite.cd'"
      ]
     },
     "execution_count": 13,
     "metadata": {},
     "output_type": "execute_result"
    }
   ],
   "source": [
    "results[0].title"
   ]
  },
  {
   "cell_type": "markdown",
   "id": "a10b5fa4-a8c7-4f4c-93de-d753613d6387",
   "metadata": {},
   "source": [
    "We have our results in a list now we can put them in a dataframe from further analysis."
   ]
  },
  {
   "cell_type": "code",
   "execution_count": null,
   "id": "88c4230a-79e2-4cf7-9a1d-a0f18b26991d",
   "metadata": {},
   "outputs": [],
   "source": [
    "import pandas as pd"
   ]
  },
  {
   "cell_type": "code",
   "execution_count": null,
   "id": "5a144f2b-14fd-4878-ac2f-ee1a4420f16f",
   "metadata": {},
   "outputs": [],
   "source": [
    "news_df  = pd.DataFrame.from_records(results)"
   ]
  },
  {
   "cell_type": "code",
   "execution_count": null,
   "id": "6e321c50-045f-4a62-9d11-2207288dc677",
   "metadata": {},
   "outputs": [
    {
     "data": {
      "text/html": [
       "<div>\n",
       "<style scoped>\n",
       "    .dataframe tbody tr th:only-of-type {\n",
       "        vertical-align: middle;\n",
       "    }\n",
       "\n",
       "    .dataframe tbody tr th {\n",
       "        vertical-align: top;\n",
       "    }\n",
       "\n",
       "    .dataframe thead th {\n",
       "        text-align: right;\n",
       "    }\n",
       "</style>\n",
       "<table border=\"1\" class=\"dataframe\">\n",
       "  <thead>\n",
       "    <tr style=\"text-align: right;\">\n",
       "      <th></th>\n",
       "      <th>0</th>\n",
       "      <th>1</th>\n",
       "      <th>2</th>\n",
       "      <th>3</th>\n",
       "    </tr>\n",
       "  </thead>\n",
       "  <tbody>\n",
       "    <tr>\n",
       "      <th>0</th>\n",
       "      <td>La ligue nationale de football, dans sa deuxiè...</td>\n",
       "      <td>Ligue 2 : après la préparation, New Soger de r...</td>\n",
       "      <td>2024-11-06 07:41:00</td>\n",
       "      <td>https://actualite.cd/2024/11/06/ligue-2-apres-...</td>\n",
       "    </tr>\n",
       "    <tr>\n",
       "      <th>1</th>\n",
       "      <td>Au cours d'un point de presse lundi dernier, l...</td>\n",
       "      <td>Affaire Mike Mukebayi: “Croyez-moi, nous somme...</td>\n",
       "      <td>2024-11-06 08:05:00</td>\n",
       "      <td>https://actualite.cd/index.php/2024/11/06/affa...</td>\n",
       "    </tr>\n",
       "    <tr>\n",
       "      <th>2</th>\n",
       "      <td>Parmi les avancées majeures de ce projet, la S...</td>\n",
       "      <td>Kinshasa : la SNEL SA modernise son Réseau éle...</td>\n",
       "      <td>2024-11-06 00:00:00</td>\n",
       "      <td>https://econewsrdc.com/kinshasa-la-snel-sa-mod...</td>\n",
       "    </tr>\n",
       "    <tr>\n",
       "      <th>3</th>\n",
       "      <td>novembre 6, 2024 Linafoot 2024/25 : L’OC Renai...</td>\n",
       "      <td>Linafoot 2024/25 : L’OC Renaissance frappée pa...</td>\n",
       "      <td>2024-11-06 00:00:00</td>\n",
       "      <td>https://depeche.cd/2024/11/06/linafoot-2024-25...</td>\n",
       "    </tr>\n",
       "    <tr>\n",
       "      <th>4</th>\n",
       "      <td>novembre 6, 2024 Présidentielle Américaine: Fé...</td>\n",
       "      <td>Présidentielle Américaine: Félix Tshisekedi fé...</td>\n",
       "      <td>2024-11-06 00:00:00</td>\n",
       "      <td>https://depeche.cd/2024/11/06/presidentielle-a...</td>\n",
       "    </tr>\n",
       "  </tbody>\n",
       "</table>\n",
       "</div>"
      ],
      "text/plain": [
       "                                                   0  \\\n",
       "0  La ligue nationale de football, dans sa deuxiè...   \n",
       "1  Au cours d'un point de presse lundi dernier, l...   \n",
       "2  Parmi les avancées majeures de ce projet, la S...   \n",
       "3  novembre 6, 2024 Linafoot 2024/25 : L’OC Renai...   \n",
       "4  novembre 6, 2024 Présidentielle Américaine: Fé...   \n",
       "\n",
       "                                                   1                   2  \\\n",
       "0  Ligue 2 : après la préparation, New Soger de r... 2024-11-06 07:41:00   \n",
       "1  Affaire Mike Mukebayi: “Croyez-moi, nous somme... 2024-11-06 08:05:00   \n",
       "2  Kinshasa : la SNEL SA modernise son Réseau éle... 2024-11-06 00:00:00   \n",
       "3  Linafoot 2024/25 : L’OC Renaissance frappée pa... 2024-11-06 00:00:00   \n",
       "4  Présidentielle Américaine: Félix Tshisekedi fé... 2024-11-06 00:00:00   \n",
       "\n",
       "                                                   3  \n",
       "0  https://actualite.cd/2024/11/06/ligue-2-apres-...  \n",
       "1  https://actualite.cd/index.php/2024/11/06/affa...  \n",
       "2  https://econewsrdc.com/kinshasa-la-snel-sa-mod...  \n",
       "3  https://depeche.cd/2024/11/06/linafoot-2024-25...  \n",
       "4  https://depeche.cd/2024/11/06/presidentielle-a...  "
      ]
     },
     "execution_count": 16,
     "metadata": {},
     "output_type": "execute_result"
    }
   ],
   "source": [
    "news_df.head()"
   ]
  },
  {
   "cell_type": "code",
   "execution_count": null,
   "id": "88fb08e3-023c-4665-9f0c-e943692faaaf",
   "metadata": {},
   "outputs": [],
   "source": [
    "news_df.columns =  [\"content\", \"title\", \"posted_at\", \"url\"]"
   ]
  },
  {
   "cell_type": "code",
   "execution_count": null,
   "id": "e11157fd-6a83-43db-a22f-3201f7135c64",
   "metadata": {},
   "outputs": [],
   "source": [
    "from pathlib import Path"
   ]
  },
  {
   "cell_type": "code",
   "execution_count": null,
   "id": "4b8b691e-2573-4ad2-8777-7555112abfb8",
   "metadata": {},
   "outputs": [],
   "source": [
    "current_directory = Path.cwd().parent.parent"
   ]
  },
  {
   "cell_type": "code",
   "execution_count": null,
   "id": "dd69c2ce-2dad-48c1-8b84-abd8861c07b4",
   "metadata": {},
   "outputs": [],
   "source": []
  },
  {
   "cell_type": "code",
   "execution_count": null,
   "id": "68bf6534-6f15-486f-8013-f41b900f2920",
   "metadata": {},
   "outputs": [
    {
     "data": {
      "text/plain": [
       "PosixPath('/Users/esp.py/Projects/Personal/end-to-end-rag')"
      ]
     },
     "execution_count": 20,
     "metadata": {},
     "output_type": "execute_result"
    }
   ],
   "source": [
    "current_directory"
   ]
  },
  {
   "cell_type": "code",
   "execution_count": null,
   "id": "b8265b63-f037-4fd2-980d-a6c185a10d37",
   "metadata": {},
   "outputs": [],
   "source": [
    "news_directory = current_directory.joinpath(\"datasets\", \"today_news\")"
   ]
  },
  {
   "cell_type": "code",
   "execution_count": null,
   "id": "ad23171b-1972-44d5-9515-cc49448d286b",
   "metadata": {},
   "outputs": [],
   "source": [
    "news_directory.mkdir(exist_ok=True)"
   ]
  },
  {
   "cell_type": "code",
   "execution_count": null,
   "id": "c736a278-2358-46d8-8ea4-fbf5e25eb93e",
   "metadata": {},
   "outputs": [],
   "source": [
    "from datetime import datetime"
   ]
  },
  {
   "cell_type": "code",
   "execution_count": null,
   "id": "8cf80033-65fe-4289-b196-d8a1028b8e7f",
   "metadata": {},
   "outputs": [],
   "source": [
    "today = datetime.now().strftime(\"%Y-%m-%d\")"
   ]
  },
  {
   "cell_type": "code",
   "execution_count": null,
   "id": "981211a5-e921-47dd-b7ff-3f9c596d83d2",
   "metadata": {},
   "outputs": [],
   "source": [
    "news_df.to_csv(news_directory.joinpath(f\"{today}-news.csv\"))"
   ]
  },
  {
   "cell_type": "code",
   "execution_count": null,
   "id": "41a1cc3a-d06a-4b57-85a1-2e251e25e396",
   "metadata": {},
   "outputs": [
    {
     "data": {
      "text/html": [
       "<div>\n",
       "<style scoped>\n",
       "    .dataframe tbody tr th:only-of-type {\n",
       "        vertical-align: middle;\n",
       "    }\n",
       "\n",
       "    .dataframe tbody tr th {\n",
       "        vertical-align: top;\n",
       "    }\n",
       "\n",
       "    .dataframe thead th {\n",
       "        text-align: right;\n",
       "    }\n",
       "</style>\n",
       "<table border=\"1\" class=\"dataframe\">\n",
       "  <thead>\n",
       "    <tr style=\"text-align: right;\">\n",
       "      <th></th>\n",
       "      <th>content</th>\n",
       "      <th>title</th>\n",
       "      <th>posted_at</th>\n",
       "      <th>url</th>\n",
       "    </tr>\n",
       "  </thead>\n",
       "  <tbody>\n",
       "    <tr>\n",
       "      <th>0</th>\n",
       "      <td>La ligue nationale de football, dans sa deuxiè...</td>\n",
       "      <td>Ligue 2 : après la préparation, New Soger de r...</td>\n",
       "      <td>2024-11-06 07:41:00</td>\n",
       "      <td>https://actualite.cd/2024/11/06/ligue-2-apres-...</td>\n",
       "    </tr>\n",
       "    <tr>\n",
       "      <th>1</th>\n",
       "      <td>Au cours d'un point de presse lundi dernier, l...</td>\n",
       "      <td>Affaire Mike Mukebayi: “Croyez-moi, nous somme...</td>\n",
       "      <td>2024-11-06 08:05:00</td>\n",
       "      <td>https://actualite.cd/index.php/2024/11/06/affa...</td>\n",
       "    </tr>\n",
       "    <tr>\n",
       "      <th>2</th>\n",
       "      <td>Parmi les avancées majeures de ce projet, la S...</td>\n",
       "      <td>Kinshasa : la SNEL SA modernise son Réseau éle...</td>\n",
       "      <td>2024-11-06 00:00:00</td>\n",
       "      <td>https://econewsrdc.com/kinshasa-la-snel-sa-mod...</td>\n",
       "    </tr>\n",
       "    <tr>\n",
       "      <th>3</th>\n",
       "      <td>novembre 6, 2024 Linafoot 2024/25 : L’OC Renai...</td>\n",
       "      <td>Linafoot 2024/25 : L’OC Renaissance frappée pa...</td>\n",
       "      <td>2024-11-06 00:00:00</td>\n",
       "      <td>https://depeche.cd/2024/11/06/linafoot-2024-25...</td>\n",
       "    </tr>\n",
       "    <tr>\n",
       "      <th>4</th>\n",
       "      <td>novembre 6, 2024 Présidentielle Américaine: Fé...</td>\n",
       "      <td>Présidentielle Américaine: Félix Tshisekedi fé...</td>\n",
       "      <td>2024-11-06 00:00:00</td>\n",
       "      <td>https://depeche.cd/2024/11/06/presidentielle-a...</td>\n",
       "    </tr>\n",
       "  </tbody>\n",
       "</table>\n",
       "</div>"
      ],
      "text/plain": [
       "                                             content  \\\n",
       "0  La ligue nationale de football, dans sa deuxiè...   \n",
       "1  Au cours d'un point de presse lundi dernier, l...   \n",
       "2  Parmi les avancées majeures de ce projet, la S...   \n",
       "3  novembre 6, 2024 Linafoot 2024/25 : L’OC Renai...   \n",
       "4  novembre 6, 2024 Présidentielle Américaine: Fé...   \n",
       "\n",
       "                                               title           posted_at  \\\n",
       "0  Ligue 2 : après la préparation, New Soger de r... 2024-11-06 07:41:00   \n",
       "1  Affaire Mike Mukebayi: “Croyez-moi, nous somme... 2024-11-06 08:05:00   \n",
       "2  Kinshasa : la SNEL SA modernise son Réseau éle... 2024-11-06 00:00:00   \n",
       "3  Linafoot 2024/25 : L’OC Renaissance frappée pa... 2024-11-06 00:00:00   \n",
       "4  Présidentielle Américaine: Félix Tshisekedi fé... 2024-11-06 00:00:00   \n",
       "\n",
       "                                                 url  \n",
       "0  https://actualite.cd/2024/11/06/ligue-2-apres-...  \n",
       "1  https://actualite.cd/index.php/2024/11/06/affa...  \n",
       "2  https://econewsrdc.com/kinshasa-la-snel-sa-mod...  \n",
       "3  https://depeche.cd/2024/11/06/linafoot-2024-25...  \n",
       "4  https://depeche.cd/2024/11/06/presidentielle-a...  "
      ]
     },
     "execution_count": 26,
     "metadata": {},
     "output_type": "execute_result"
    }
   ],
   "source": [
    "news_df.head()"
   ]
  },
  {
   "cell_type": "markdown",
   "id": "b76ccf76",
   "metadata": {},
   "source": [
    "## Reading the data from LocalFile\n",
    "Alternatively to reading the data from the database you can read it form the CSV file at this [path](../data/2024-11-06-news.csv) and load it in a dataframe named `news_df`."
   ]
  },
  {
   "cell_type": "code",
   "execution_count": 1,
   "id": "ec77c27e",
   "metadata": {},
   "outputs": [],
   "source": [
    "import pandas as pd"
   ]
  },
  {
   "cell_type": "code",
   "execution_count": 2,
   "id": "13d12f36",
   "metadata": {},
   "outputs": [],
   "source": [
    "from pathlib import Path\n",
    "current_directory = Path.cwd()"
   ]
  },
  {
   "cell_type": "code",
   "execution_count": 3,
   "id": "2fee035d",
   "metadata": {},
   "outputs": [],
   "source": [
    "data_path = current_directory.joinpath(\"data\", \"2024-11-06-news.csv\")"
   ]
  },
  {
   "cell_type": "code",
   "execution_count": 8,
   "id": "7706b02c",
   "metadata": {},
   "outputs": [],
   "source": [
    "news_df = pd.read_csv(data_path, index_col=0)"
   ]
  },
  {
   "cell_type": "markdown",
   "id": "e4428962-3e2d-4011-b9d6-58b8467519e6",
   "metadata": {},
   "source": [
    "### Preprocessing.\n",
    "\n",
    "\n",
    "In the above code, we have collected the data for the previous day. For one given day, we can have up to 72 news articles written by different news outlets.\n",
    "\n",
    "We have got our news dataset, we need to now do some preprocessing. The only preprocessing we will do will be to drop the duplicate in the content."
   ]
  },
  {
   "cell_type": "code",
   "execution_count": 10,
   "id": "c5088e74-ec03-49dc-a51e-99ea9c8a09f6",
   "metadata": {},
   "outputs": [],
   "source": [
    "news_df = news_df.drop_duplicates(subset=\"content\").reset_index(drop=True)"
   ]
  },
  {
   "cell_type": "code",
   "execution_count": 11,
   "id": "be3af6dc-1f5d-400d-8854-67b66926804b",
   "metadata": {},
   "outputs": [
    {
     "data": {
      "text/html": [
       "<div>\n",
       "<style scoped>\n",
       "    .dataframe tbody tr th:only-of-type {\n",
       "        vertical-align: middle;\n",
       "    }\n",
       "\n",
       "    .dataframe tbody tr th {\n",
       "        vertical-align: top;\n",
       "    }\n",
       "\n",
       "    .dataframe thead th {\n",
       "        text-align: right;\n",
       "    }\n",
       "</style>\n",
       "<table border=\"1\" class=\"dataframe\">\n",
       "  <thead>\n",
       "    <tr style=\"text-align: right;\">\n",
       "      <th></th>\n",
       "      <th>content</th>\n",
       "      <th>title</th>\n",
       "      <th>posted_at</th>\n",
       "      <th>url</th>\n",
       "    </tr>\n",
       "  </thead>\n",
       "  <tbody>\n",
       "    <tr>\n",
       "      <th>0</th>\n",
       "      <td>Au cours d'un point de presse lundi dernier, l...</td>\n",
       "      <td>Affaire Mike Mukebayi: “Croyez-moi, nous somme...</td>\n",
       "      <td>2024-11-06 08:05:00</td>\n",
       "      <td>https://actualite.cd/index.php/2024/11/06/affa...</td>\n",
       "    </tr>\n",
       "    <tr>\n",
       "      <th>1</th>\n",
       "      <td>Parmi les avancées majeures de ce projet, la S...</td>\n",
       "      <td>Kinshasa : la SNEL SA modernise son Réseau éle...</td>\n",
       "      <td>2024-11-06 00:00:00</td>\n",
       "      <td>https://econewsrdc.com/kinshasa-la-snel-sa-mod...</td>\n",
       "    </tr>\n",
       "    <tr>\n",
       "      <th>2</th>\n",
       "      <td>Désavouée par 17 députés nationaux de 3 Allian...</td>\n",
       "      <td>Désavouée par les députés nationaux de 3 Allia...</td>\n",
       "      <td>2024-11-06 08:08:15</td>\n",
       "      <td>https://scooprdc.net/2024/11/06/desavouee-par-...</td>\n",
       "    </tr>\n",
       "    <tr>\n",
       "      <th>3</th>\n",
       "      <td>novembre 6, 2024 Linafoot 2024/25 : L’OC Renai...</td>\n",
       "      <td>Linafoot 2024/25 : L’OC Renaissance frappée pa...</td>\n",
       "      <td>2024-11-06 00:00:00</td>\n",
       "      <td>https://depeche.cd/2024/11/06/linafoot-2024-25...</td>\n",
       "    </tr>\n",
       "    <tr>\n",
       "      <th>4</th>\n",
       "      <td>novembre 6, 2024 Présidentielle Américaine: Fé...</td>\n",
       "      <td>Présidentielle Américaine: Félix Tshisekedi fé...</td>\n",
       "      <td>2024-11-06 00:00:00</td>\n",
       "      <td>https://depeche.cd/2024/11/06/presidentielle-a...</td>\n",
       "    </tr>\n",
       "  </tbody>\n",
       "</table>\n",
       "</div>"
      ],
      "text/plain": [
       "                                             content  \\\n",
       "0  Au cours d'un point de presse lundi dernier, l...   \n",
       "1  Parmi les avancées majeures de ce projet, la S...   \n",
       "2  Désavouée par 17 députés nationaux de 3 Allian...   \n",
       "3  novembre 6, 2024 Linafoot 2024/25 : L’OC Renai...   \n",
       "4  novembre 6, 2024 Présidentielle Américaine: Fé...   \n",
       "\n",
       "                                               title            posted_at  \\\n",
       "0  Affaire Mike Mukebayi: “Croyez-moi, nous somme...  2024-11-06 08:05:00   \n",
       "1  Kinshasa : la SNEL SA modernise son Réseau éle...  2024-11-06 00:00:00   \n",
       "2  Désavouée par les députés nationaux de 3 Allia...  2024-11-06 08:08:15   \n",
       "3  Linafoot 2024/25 : L’OC Renaissance frappée pa...  2024-11-06 00:00:00   \n",
       "4  Présidentielle Américaine: Félix Tshisekedi fé...  2024-11-06 00:00:00   \n",
       "\n",
       "                                                 url  \n",
       "0  https://actualite.cd/index.php/2024/11/06/affa...  \n",
       "1  https://econewsrdc.com/kinshasa-la-snel-sa-mod...  \n",
       "2  https://scooprdc.net/2024/11/06/desavouee-par-...  \n",
       "3  https://depeche.cd/2024/11/06/linafoot-2024-25...  \n",
       "4  https://depeche.cd/2024/11/06/presidentielle-a...  "
      ]
     },
     "execution_count": 11,
     "metadata": {},
     "output_type": "execute_result"
    }
   ],
   "source": [
    "news_df.head()"
   ]
  },
  {
   "cell_type": "markdown",
   "id": "fc9569e5-8b8d-478c-9eaf-2ea62b472d72",
   "metadata": {},
   "source": [
    "## 2. Embedding phase.\n",
    "\n",
    "Machine learning models don't work with text data, we need to convert the text into a representation that computers can understand. To achieve this we need to use embeddings. We will use an  embedding  model to learn the representation of our dataset in an embedding space.\n",
    "\n",
    "We will be using the `dunzhang/stella_en_400M_v5`, it is a good model from Huggingface, It offers a good trade-off between size and performance.  It has a good score on different tasks in both French and English on the [MTEB leaderboard.](https://huggingface.co/spaces/mteb/leaderboard)\n",
    "\n",
    "The below code section assumes that we have the model downloaded in a local repository of our machine. If you want to download the model locally you can refer to this [script](put the path here) to learn how to download the model locally.\n",
    "\n",
    "The code will load the embedding model and use it to encode the news. After the encoding, we will have for each news article an embedding vector of shape 1024."
   ]
  },
  {
   "cell_type": "code",
   "execution_count": 12,
   "id": "f5366596-166a-498b-83bc-3cddccd93d0e",
   "metadata": {},
   "outputs": [],
   "source": [
    "embedding_model_id = \"dunzhang/stella_en_400M_v5\""
   ]
  },
  {
   "cell_type": "code",
   "execution_count": 13,
   "id": "cd91f7fd-6ee4-4d8d-ae5c-4e0863470404",
   "metadata": {},
   "outputs": [
    {
     "data": {
      "text/plain": [
       "PosixPath('/Users/esp.py/Projects/Personal/congo-news-summarizer')"
      ]
     },
     "execution_count": 13,
     "metadata": {},
     "output_type": "execute_result"
    }
   ],
   "source": [
    "current_directory"
   ]
  },
  {
   "cell_type": "code",
   "execution_count": 14,
   "id": "ddd3d4ae-23d3-41bf-a71f-56e8706a50e9",
   "metadata": {},
   "outputs": [],
   "source": [
    "model_path  = current_directory.joinpath(embedding_model_id)"
   ]
  },
  {
   "cell_type": "code",
   "execution_count": 15,
   "id": "d8de2515-33c6-4c57-bf56-d6dd9edaa06e",
   "metadata": {},
   "outputs": [],
   "source": [
    "embedding_model_path = current_directory.joinpath(\"models\", embedding_model_id)"
   ]
  },
  {
   "cell_type": "code",
   "execution_count": 16,
   "id": "ed17da72-e126-4149-8a33-54a204280d04",
   "metadata": {},
   "outputs": [],
   "source": [
    "\n",
    "transformer_kwargs = {\"model_name_or_path\": embedding_model_path.__str__(),\n",
    "                      \"trust_remote_code\": True,\n",
    "                      \"device\": \"cpu\",\n",
    "                      \"config_kwargs\": {\"use_memory_efficient_attention\": False,\n",
    "                                        \"unpad_inputs\": False},\n",
    "                      \"cache_folder\": model_path}"
   ]
  },
  {
   "cell_type": "code",
   "execution_count": 17,
   "id": "751f3124-8d8e-4317-8f8b-2c12e34bda5a",
   "metadata": {},
   "outputs": [
    {
     "name": "stderr",
     "output_type": "stream",
     "text": [
      "/Users/esp.py/Projects/Personal/congo-news-summarizer/.venv/lib/python3.10/site-packages/sentence_transformers/cross_encoder/CrossEncoder.py:13: TqdmWarning: IProgress not found. Please update jupyter and ipywidgets. See https://ipywidgets.readthedocs.io/en/stable/user_install.html\n",
      "  from tqdm.autonotebook import tqdm, trange\n"
     ]
    }
   ],
   "source": [
    "from sentence_transformers import SentenceTransformer"
   ]
  },
  {
   "cell_type": "code",
   "execution_count": 18,
   "id": "ea05843a-b276-4573-98ed-b146c1886ad0",
   "metadata": {},
   "outputs": [
    {
     "name": "stderr",
     "output_type": "stream",
     "text": [
      "Some weights of the model checkpoint at /Users/esp.py/Projects/Personal/congo-news-summarizer/models/dunzhang/stella_en_400M_v5 were not used when initializing NewModel: ['new.pooler.dense.bias', 'new.pooler.dense.weight']\n",
      "- This IS expected if you are initializing NewModel from the checkpoint of a model trained on another task or with another architecture (e.g. initializing a BertForSequenceClassification model from a BertForPreTraining model).\n",
      "- This IS NOT expected if you are initializing NewModel from the checkpoint of a model that you expect to be exactly identical (initializing a BertForSequenceClassification model from a BertForSequenceClassification model).\n"
     ]
    }
   ],
   "source": [
    "sentence_transformer_model = SentenceTransformer(\n",
    "    **transformer_kwargs)"
   ]
  },
  {
   "cell_type": "code",
   "execution_count": 19,
   "id": "45ac51a9-0c80-4896-bb73-622ced506b9b",
   "metadata": {},
   "outputs": [
    {
     "name": "stderr",
     "output_type": "stream",
     "text": [
      "/Users/esp.py/Projects/Personal/congo-news-summarizer/.venv/lib/python3.10/site-packages/transformers/modeling_utils.py:1161: FutureWarning: The `device` argument is deprecated and will be removed in v5 of Transformers.\n",
      "  warnings.warn(\n"
     ]
    }
   ],
   "source": [
    "today_news_embeddings = sentence_transformer_model.encode(\n",
    "    news_df.content.tolist())"
   ]
  },
  {
   "cell_type": "code",
   "execution_count": 20,
   "id": "4804887e-cd95-4b08-a461-73243a132899",
   "metadata": {},
   "outputs": [
    {
     "data": {
      "text/plain": [
       "(79, 1024)"
      ]
     },
     "execution_count": 20,
     "metadata": {},
     "output_type": "execute_result"
    }
   ],
   "source": [
    "today_news_embeddings.shape"
   ]
  },
  {
   "cell_type": "markdown",
   "id": "c8b6afb4-991f-4088-ad41-da1e501deaf5",
   "metadata": {},
   "source": [
    "Now we have encoded our news for each news we have an embedding vector of shape 1024. With those embeddings, we can now start clustering."
   ]
  },
  {
   "cell_type": "markdown",
   "id": "2e8de53d",
   "metadata": {},
   "source": [
    "## 3. Clustering Experiments"
   ]
  },
  {
   "cell_type": "markdown",
   "id": "043d6672-72ff-4bf2-a4ab-1198a47b8777",
   "metadata": {},
   "source": [
    "### Kmeans\n",
    "\n",
    "\n",
    "In this step, we will group our news embeddings in a cluster using the K-mean algorithm. The algorithm will try to group the news in clusters based on the similarity of their embedding vectors. After the clustering, we will have similar news grouped in similar clusters. You can learn more about the clustering algorithm [here](https://www.reddit.com/r/learnmachinelearning/comments/rmx04g/what_is_K-means_clustering_a_2minute_visual_guide/)\n",
    "\n",
    "#### How do we pick the number of clusters?\n",
    "\n",
    "One question that is still unclear in the literature about K-mean is how to pick the number of clusters in the K-mean. \n",
    "A common approach is to use the Silhouette Coefficient. In the next section, I will explain that coefficient. \n",
    "\n",
    "#### Silhouette Score.\n",
    "\n",
    "\n",
    "\n",
    ">The Silhouette Coefficient is a measure of how well samples are clustered with samples that are similar to themselves. Clustering models with a high Silhouette Coefficient are said to be dense, where samples in the same cluster are similar to each other, and well separated, where samples in different clusters are not very similar to each other.\n"
   ]
  },
  {
   "cell_type": "markdown",
   "id": "fe97ac23-3bb4-43fa-85b6-33afdd0eda20",
   "metadata": {},
   "source": [
    "\n",
    "Given a point $x_i$ that belongs to a cluster labeled $c_i$. To compute the silhouette score:\n",
    "- We compute the mean distance of the $x_i$ to all the other points in cluster $c_i$, we call it $a_i$.\n",
    "\n",
    "  ${\\displaystyle a_i={\\frac {1}{|C_{I}|-1}}\\sum _{j\\in C_{I},i\\neq j}d(i,j)}$\n",
    "\n",
    "  Note that we divide $C_i - 1$ which is the number of points in the cluster minus the current point.\n",
    "  \n",
    "- Then we compute $b_i$, which  measure how the point $x_i$ in cluster $c_i$ is dissimilar to all other clusters $c_j$ with $c_j != c_i$.\n",
    "\n",
    "For each other clusters different $c_i$ we compute the mean distance between $x_i$ and all the points in the cluster.  Then we take the cluster that has the mean distance as the closest cluster to $x_i$.\n",
    "\n",
    "We define $b_i$ as:\n",
    "\n",
    "${\\displaystyle b_i=\\min _{J\\neq I}{\\frac {1}{|C_{J}|}}\\sum _{j\\in C_{J}}d(i,j)}$\n",
    "\n",
    "\n",
    "With those $a_i$, and $b_I$ we define the silhouette score of the point $x_i$ as $s_i$ to be\n",
    "\n",
    "${\\displaystyle s_i={\\frac {b_i-a_i}{\\max\\{a_i,b_i\\}}}}$\n",
    "\n",
    "This value varies between -1 and 1. 1 means our clusters are dense, and -1 means the opposite.\n",
    "\n",
    "Let us write a Python function that will perform the clustering and return the k that gives us the best cluster.\n",
    "\n"
   ]
  },
  {
   "cell_type": "code",
   "execution_count": 21,
   "id": "9ac7d2ae-5dc2-40e8-a1d2-94f9961f78b4",
   "metadata": {},
   "outputs": [],
   "source": [
    "from sklearn.cluster import KMeans\n",
    "from sklearn.metrics import silhouette_score"
   ]
  },
  {
   "cell_type": "code",
   "execution_count": 22,
   "id": "e9c83533-7b2d-43a8-8d08-3b0ee95bf6c2",
   "metadata": {},
   "outputs": [],
   "source": [
    "\n",
    "def find_best_estimator (X):\n",
    "    \"\"\" compute the k mean clustering, and return the best k that maximizes the silhouette score\n",
    "    \"\"\"\n",
    "    k_mean_estimators = [\n",
    "        (f\"KMeans_{i}\", KMeans(n_clusters=i, random_state=42, max_iter=3000)) for i in range(3, X.shape[0])]\n",
    "    scores = []\n",
    "\n",
    "    best_estimator = None\n",
    "    best_metric = float(\"-inf\")\n",
    "    for estimator_name, estimator in k_mean_estimators :\n",
    "        estimator.fit(X)\n",
    "        labels = estimator. labels_\n",
    "        score = silhouette_score(\n",
    "            X, labels)\n",
    "        if score > best_metric :\n",
    "            best_metric = score\n",
    "            best_estimator = estimator\n",
    "        scores.append(score)\n",
    "    return best_estimator, scores"
   ]
  },
  {
   "cell_type": "markdown",
   "id": "a2a3b3a0",
   "metadata": {},
   "source": [
    "In the above function, we perform a clustering by selecting the number of clusters to be between 3 and the total number of documents, which is less than 100 in our case.\n",
    "\n",
    "The we compute the silhouette score, after computing the scores we return the estimator that gives us the best value of that score."
   ]
  },
  {
   "cell_type": "code",
   "execution_count": 23,
   "id": "5b9bd9c9-b3ef-40b6-a5c3-412fb4c62db1",
   "metadata": {},
   "outputs": [
    {
     "name": "stderr",
     "output_type": "stream",
     "text": [
      "huggingface/tokenizers: The current process just got forked, after parallelism has already been used. Disabling parallelism to avoid deadlocks...\n",
      "To disable this warning, you can either:\n",
      "\t- Avoid using `tokenizers` before the fork if possible\n",
      "\t- Explicitly set the environment variable TOKENIZERS_PARALLELISM=(true | false)\n"
     ]
    }
   ],
   "source": [
    "best_estimator, scores = find_best_estimator(today_news_embeddings)"
   ]
  },
  {
   "cell_type": "markdown",
   "id": "8a1cbc7d-79a8-4327-9e0a-cadaae1de65b",
   "metadata": {
    "collapsed": true,
    "jupyter": {
     "outputs_hidden": true
    }
   },
   "source": [
    "Let plot now the similarity shilouette score and see how it grow with the number of cluster selected."
   ]
  },
  {
   "cell_type": "code",
   "execution_count": 24,
   "id": "7e3e21df-cfe4-4996-96c8-a90275fd7da9",
   "metadata": {},
   "outputs": [],
   "source": [
    "import matplotlib.pyplot as plt"
   ]
  },
  {
   "cell_type": "code",
   "execution_count": 25,
   "id": "cb40dad8-fd90-43fd-b484-01597966e912",
   "metadata": {},
   "outputs": [
    {
     "data": {
      "text/plain": [
       "<Figure size 500x1000 with 0 Axes>"
      ]
     },
     "metadata": {},
     "output_type": "display_data"
    }
   ],
   "source": [
    "axes = plt.figure(figsize=(5, 10))"
   ]
  },
  {
   "cell_type": "code",
   "execution_count": 26,
   "id": "fd789e45-e0cb-4089-95a0-a37afc9f5954",
   "metadata": {},
   "outputs": [
    {
     "data": {
      "text/plain": [
       "<Figure size 500x1000 with 0 Axes>"
      ]
     },
     "metadata": {},
     "output_type": "display_data"
    }
   ],
   "source": [
    "axes = plt.figure(figsize=(5, 10))"
   ]
  },
  {
   "cell_type": "code",
   "execution_count": 27,
   "id": "589eeacc-f9d2-4867-8fcd-89c096912657",
   "metadata": {},
   "outputs": [
    {
     "data": {
      "text/plain": [
       "Text(0.5, 1.0, 'silhouette score vs Number of Cluster')"
      ]
     },
     "execution_count": 27,
     "metadata": {},
     "output_type": "execute_result"
    },
    {
     "data": {
      "image/png": "[encoded data removed]",
      "text/plain": [
       "<Figure size 640x480 with 1 Axes>"
      ]
     },
     "metadata": {},
     "output_type": "display_data"
    }
   ],
   "source": [
    "fig, ax = plt.subplots()\n",
    "ax.plot(range(3, today_news_embeddings.shape[0]), scores)\n",
    "ax.set_xlabel(\"Number of Clusters\")\n",
    "ax.set_ylabel(\"silhouette score\")\n",
    "ax.set_title(\"silhouette score vs Number of Cluster\")"
   ]
  },
  {
   "cell_type": "code",
   "execution_count": 28,
   "id": "1a496d41-a338-4d86-9825-0544fe901869",
   "metadata": {},
   "outputs": [
    {
     "data": {
      "text/html": [
       "<style>#sk-container-id-1 {\n",
       "  /* Definition of color scheme common for light and dark mode */\n",
       "  --sklearn-color-text: black;\n",
       "  --sklearn-color-line: gray;\n",
       "  /* Definition of color scheme for unfitted estimators */\n",
       "  --sklearn-color-unfitted-level-0: #fff5e6;\n",
       "  --sklearn-color-unfitted-level-1: #f6e4d2;\n",
       "  --sklearn-color-unfitted-level-2: #ffe0b3;\n",
       "  --sklearn-color-unfitted-level-3: chocolate;\n",
       "  /* Definition of color scheme for fitted estimators */\n",
       "  --sklearn-color-fitted-level-0: #f0f8ff;\n",
       "  --sklearn-color-fitted-level-1: #d4ebff;\n",
       "  --sklearn-color-fitted-level-2: #b3dbfd;\n",
       "  --sklearn-color-fitted-level-3: cornflowerblue;\n",
       "\n",
       "  /* Specific color for light theme */\n",
       "  --sklearn-color-text-on-default-background: var(--sg-text-color, var(--theme-code-foreground, var(--jp-content-font-color1, black)));\n",
       "  --sklearn-color-background: var(--sg-background-color, var(--theme-background, var(--jp-layout-color0, white)));\n",
       "  --sklearn-color-border-box: var(--sg-text-color, var(--theme-code-foreground, var(--jp-content-font-color1, black)));\n",
       "  --sklearn-color-icon: #696969;\n",
       "\n",
       "  @media (prefers-color-scheme: dark) {\n",
       "    /* Redefinition of color scheme for dark theme */\n",
       "    --sklearn-color-text-on-default-background: var(--sg-text-color, var(--theme-code-foreground, var(--jp-content-font-color1, white)));\n",
       "    --sklearn-color-background: var(--sg-background-color, var(--theme-background, var(--jp-layout-color0, #111)));\n",
       "    --sklearn-color-border-box: var(--sg-text-color, var(--theme-code-foreground, var(--jp-content-font-color1, white)));\n",
       "    --sklearn-color-icon: #878787;\n",
       "  }\n",
       "}\n",
       "\n",
       "#sk-container-id-1 {\n",
       "  color: var(--sklearn-color-text);\n",
       "}\n",
       "\n",
       "#sk-container-id-1 pre {\n",
       "  padding: 0;\n",
       "}\n",
       "\n",
       "#sk-container-id-1 input.sk-hidden--visually {\n",
       "  border: 0;\n",
       "  clip: rect(1px 1px 1px 1px);\n",
       "  clip: rect(1px, 1px, 1px, 1px);\n",
       "  height: 1px;\n",
       "  margin: -1px;\n",
       "  overflow: hidden;\n",
       "  padding: 0;\n",
       "  position: absolute;\n",
       "  width: 1px;\n",
       "}\n",
       "\n",
       "#sk-container-id-1 div.sk-dashed-wrapped {\n",
       "  border: 1px dashed var(--sklearn-color-line);\n",
       "  margin: 0 0.4em 0.5em 0.4em;\n",
       "  box-sizing: border-box;\n",
       "  padding-bottom: 0.4em;\n",
       "  background-color: var(--sklearn-color-background);\n",
       "}\n",
       "\n",
       "#sk-container-id-1 div.sk-container {\n",
       "  /* jupyter's `normalize.less` sets `[hidden] { display: none; }`\n",
       "     but bootstrap.min.css set `[hidden] { display: none !important; }`\n",
       "     so we also need the `!important` here to be able to override the\n",
       "     default hidden behavior on the sphinx rendered scikit-learn.org.\n",
       "     See: https://github.com/scikit-learn/scikit-learn/issues/21755 */\n",
       "  display: inline-block !important;\n",
       "  position: relative;\n",
       "}\n",
       "\n",
       "#sk-container-id-1 div.sk-text-repr-fallback {\n",
       "  display: none;\n",
       "}\n",
       "\n",
       "div.sk-parallel-item,\n",
       "div.sk-serial,\n",
       "div.sk-item {\n",
       "  /* draw centered vertical line to link estimators */\n",
       "  background-image: linear-gradient(var(--sklearn-color-text-on-default-background), var(--sklearn-color-text-on-default-background));\n",
       "  background-size: 2px 100%;\n",
       "  background-repeat: no-repeat;\n",
       "  background-position: center center;\n",
       "}\n",
       "\n",
       "/* Parallel-specific style estimator block */\n",
       "\n",
       "#sk-container-id-1 div.sk-parallel-item::after {\n",
       "  content: \"\";\n",
       "  width: 100%;\n",
       "  border-bottom: 2px solid var(--sklearn-color-text-on-default-background);\n",
       "  flex-grow: 1;\n",
       "}\n",
       "\n",
       "#sk-container-id-1 div.sk-parallel {\n",
       "  display: flex;\n",
       "  align-items: stretch;\n",
       "  justify-content: center;\n",
       "  background-color: var(--sklearn-color-background);\n",
       "  position: relative;\n",
       "}\n",
       "\n",
       "#sk-container-id-1 div.sk-parallel-item {\n",
       "  display: flex;\n",
       "  flex-direction: column;\n",
       "}\n",
       "\n",
       "#sk-container-id-1 div.sk-parallel-item:first-child::after {\n",
       "  align-self: flex-end;\n",
       "  width: 50%;\n",
       "}\n",
       "\n",
       "#sk-container-id-1 div.sk-parallel-item:last-child::after {\n",
       "  align-self: flex-start;\n",
       "  width: 50%;\n",
       "}\n",
       "\n",
       "#sk-container-id-1 div.sk-parallel-item:only-child::after {\n",
       "  width: 0;\n",
       "}\n",
       "\n",
       "/* Serial-specific style estimator block */\n",
       "\n",
       "#sk-container-id-1 div.sk-serial {\n",
       "  display: flex;\n",
       "  flex-direction: column;\n",
       "  align-items: center;\n",
       "  background-color: var(--sklearn-color-background);\n",
       "  padding-right: 1em;\n",
       "  padding-left: 1em;\n",
       "}\n",
       "\n",
       "\n",
       "/* Toggleable style: style used for estimator/Pipeline/ColumnTransformer box that is\n",
       "clickable and can be expanded/collapsed.\n",
       "- Pipeline and ColumnTransformer use this feature and define the default style\n",
       "- Estimators will overwrite some part of the style using the `sk-estimator` class\n",
       "*/\n",
       "\n",
       "/* Pipeline and ColumnTransformer style (default) */\n",
       "\n",
       "#sk-container-id-1 div.sk-toggleable {\n",
       "  /* Default theme specific background. It is overwritten whether we have a\n",
       "  specific estimator or a Pipeline/ColumnTransformer */\n",
       "  background-color: var(--sklearn-color-background);\n",
       "}\n",
       "\n",
       "/* Toggleable label */\n",
       "#sk-container-id-1 label.sk-toggleable__label {\n",
       "  cursor: pointer;\n",
       "  display: block;\n",
       "  width: 100%;\n",
       "  margin-bottom: 0;\n",
       "  padding: 0.5em;\n",
       "  box-sizing: border-box;\n",
       "  text-align: center;\n",
       "}\n",
       "\n",
       "#sk-container-id-1 label.sk-toggleable__label-arrow:before {\n",
       "  /* Arrow on the left of the label */\n",
       "  content: \"▸\";\n",
       "  float: left;\n",
       "  margin-right: 0.25em;\n",
       "  color: var(--sklearn-color-icon);\n",
       "}\n",
       "\n",
       "#sk-container-id-1 label.sk-toggleable__label-arrow:hover:before {\n",
       "  color: var(--sklearn-color-text);\n",
       "}\n",
       "\n",
       "/* Toggleable content - dropdown */\n",
       "\n",
       "#sk-container-id-1 div.sk-toggleable__content {\n",
       "  max-height: 0;\n",
       "  max-width: 0;\n",
       "  overflow: hidden;\n",
       "  text-align: left;\n",
       "  /* unfitted */\n",
       "  background-color: var(--sklearn-color-unfitted-level-0);\n",
       "}\n",
       "\n",
       "#sk-container-id-1 div.sk-toggleable__content.fitted {\n",
       "  /* fitted */\n",
       "  background-color: var(--sklearn-color-fitted-level-0);\n",
       "}\n",
       "\n",
       "#sk-container-id-1 div.sk-toggleable__content pre {\n",
       "  margin: 0.2em;\n",
       "  border-radius: 0.25em;\n",
       "  color: var(--sklearn-color-text);\n",
       "  /* unfitted */\n",
       "  background-color: var(--sklearn-color-unfitted-level-0);\n",
       "}\n",
       "\n",
       "#sk-container-id-1 div.sk-toggleable__content.fitted pre {\n",
       "  /* unfitted */\n",
       "  background-color: var(--sklearn-color-fitted-level-0);\n",
       "}\n",
       "\n",
       "#sk-container-id-1 input.sk-toggleable__control:checked~div.sk-toggleable__content {\n",
       "  /* Expand drop-down */\n",
       "  max-height: 200px;\n",
       "  max-width: 100%;\n",
       "  overflow: auto;\n",
       "}\n",
       "\n",
       "#sk-container-id-1 input.sk-toggleable__control:checked~label.sk-toggleable__label-arrow:before {\n",
       "  content: \"▾\";\n",
       "}\n",
       "\n",
       "/* Pipeline/ColumnTransformer-specific style */\n",
       "\n",
       "#sk-container-id-1 div.sk-label input.sk-toggleable__control:checked~label.sk-toggleable__label {\n",
       "  color: var(--sklearn-color-text);\n",
       "  background-color: var(--sklearn-color-unfitted-level-2);\n",
       "}\n",
       "\n",
       "#sk-container-id-1 div.sk-label.fitted input.sk-toggleable__control:checked~label.sk-toggleable__label {\n",
       "  background-color: var(--sklearn-color-fitted-level-2);\n",
       "}\n",
       "\n",
       "/* Estimator-specific style */\n",
       "\n",
       "/* Colorize estimator box */\n",
       "#sk-container-id-1 div.sk-estimator input.sk-toggleable__control:checked~label.sk-toggleable__label {\n",
       "  /* unfitted */\n",
       "  background-color: var(--sklearn-color-unfitted-level-2);\n",
       "}\n",
       "\n",
       "#sk-container-id-1 div.sk-estimator.fitted input.sk-toggleable__control:checked~label.sk-toggleable__label {\n",
       "  /* fitted */\n",
       "  background-color: var(--sklearn-color-fitted-level-2);\n",
       "}\n",
       "\n",
       "#sk-container-id-1 div.sk-label label.sk-toggleable__label,\n",
       "#sk-container-id-1 div.sk-label label {\n",
       "  /* The background is the default theme color */\n",
       "  color: var(--sklearn-color-text-on-default-background);\n",
       "}\n",
       "\n",
       "/* On hover, darken the color of the background */\n",
       "#sk-container-id-1 div.sk-label:hover label.sk-toggleable__label {\n",
       "  color: var(--sklearn-color-text);\n",
       "  background-color: var(--sklearn-color-unfitted-level-2);\n",
       "}\n",
       "\n",
       "/* Label box, darken color on hover, fitted */\n",
       "#sk-container-id-1 div.sk-label.fitted:hover label.sk-toggleable__label.fitted {\n",
       "  color: var(--sklearn-color-text);\n",
       "  background-color: var(--sklearn-color-fitted-level-2);\n",
       "}\n",
       "\n",
       "/* Estimator label */\n",
       "\n",
       "#sk-container-id-1 div.sk-label label {\n",
       "  font-family: monospace;\n",
       "  font-weight: bold;\n",
       "  display: inline-block;\n",
       "  line-height: 1.2em;\n",
       "}\n",
       "\n",
       "#sk-container-id-1 div.sk-label-container {\n",
       "  text-align: center;\n",
       "}\n",
       "\n",
       "/* Estimator-specific */\n",
       "#sk-container-id-1 div.sk-estimator {\n",
       "  font-family: monospace;\n",
       "  border: 1px dotted var(--sklearn-color-border-box);\n",
       "  border-radius: 0.25em;\n",
       "  box-sizing: border-box;\n",
       "  margin-bottom: 0.5em;\n",
       "  /* unfitted */\n",
       "  background-color: var(--sklearn-color-unfitted-level-0);\n",
       "}\n",
       "\n",
       "#sk-container-id-1 div.sk-estimator.fitted {\n",
       "  /* fitted */\n",
       "  background-color: var(--sklearn-color-fitted-level-0);\n",
       "}\n",
       "\n",
       "/* on hover */\n",
       "#sk-container-id-1 div.sk-estimator:hover {\n",
       "  /* unfitted */\n",
       "  background-color: var(--sklearn-color-unfitted-level-2);\n",
       "}\n",
       "\n",
       "#sk-container-id-1 div.sk-estimator.fitted:hover {\n",
       "  /* fitted */\n",
       "  background-color: var(--sklearn-color-fitted-level-2);\n",
       "}\n",
       "\n",
       "/* Specification for estimator info (e.g. \"i\" and \"?\") */\n",
       "\n",
       "/* Common style for \"i\" and \"?\" */\n",
       "\n",
       ".sk-estimator-doc-link,\n",
       "a:link.sk-estimator-doc-link,\n",
       "a:visited.sk-estimator-doc-link {\n",
       "  float: right;\n",
       "  font-size: smaller;\n",
       "  line-height: 1em;\n",
       "  font-family: monospace;\n",
       "  background-color: var(--sklearn-color-background);\n",
       "  border-radius: 1em;\n",
       "  height: 1em;\n",
       "  width: 1em;\n",
       "  text-decoration: none !important;\n",
       "  margin-left: 1ex;\n",
       "  /* unfitted */\n",
       "  border: var(--sklearn-color-unfitted-level-1) 1pt solid;\n",
       "  color: var(--sklearn-color-unfitted-level-1);\n",
       "}\n",
       "\n",
       ".sk-estimator-doc-link.fitted,\n",
       "a:link.sk-estimator-doc-link.fitted,\n",
       "a:visited.sk-estimator-doc-link.fitted {\n",
       "  /* fitted */\n",
       "  border: var(--sklearn-color-fitted-level-1) 1pt solid;\n",
       "  color: var(--sklearn-color-fitted-level-1);\n",
       "}\n",
       "\n",
       "/* On hover */\n",
       "div.sk-estimator:hover .sk-estimator-doc-link:hover,\n",
       ".sk-estimator-doc-link:hover,\n",
       "div.sk-label-container:hover .sk-estimator-doc-link:hover,\n",
       ".sk-estimator-doc-link:hover {\n",
       "  /* unfitted */\n",
       "  background-color: var(--sklearn-color-unfitted-level-3);\n",
       "  color: var(--sklearn-color-background);\n",
       "  text-decoration: none;\n",
       "}\n",
       "\n",
       "div.sk-estimator.fitted:hover .sk-estimator-doc-link.fitted:hover,\n",
       ".sk-estimator-doc-link.fitted:hover,\n",
       "div.sk-label-container:hover .sk-estimator-doc-link.fitted:hover,\n",
       ".sk-estimator-doc-link.fitted:hover {\n",
       "  /* fitted */\n",
       "  background-color: var(--sklearn-color-fitted-level-3);\n",
       "  color: var(--sklearn-color-background);\n",
       "  text-decoration: none;\n",
       "}\n",
       "\n",
       "/* Span, style for the box shown on hovering the info icon */\n",
       ".sk-estimator-doc-link span {\n",
       "  display: none;\n",
       "  z-index: 9999;\n",
       "  position: relative;\n",
       "  font-weight: normal;\n",
       "  right: .2ex;\n",
       "  padding: .5ex;\n",
       "  margin: .5ex;\n",
       "  width: min-content;\n",
       "  min-width: 20ex;\n",
       "  max-width: 50ex;\n",
       "  color: var(--sklearn-color-text);\n",
       "  box-shadow: 2pt 2pt 4pt #999;\n",
       "  /* unfitted */\n",
       "  background: var(--sklearn-color-unfitted-level-0);\n",
       "  border: .5pt solid var(--sklearn-color-unfitted-level-3);\n",
       "}\n",
       "\n",
       ".sk-estimator-doc-link.fitted span {\n",
       "  /* fitted */\n",
       "  background: var(--sklearn-color-fitted-level-0);\n",
       "  border: var(--sklearn-color-fitted-level-3);\n",
       "}\n",
       "\n",
       ".sk-estimator-doc-link:hover span {\n",
       "  display: block;\n",
       "}\n",
       "\n",
       "/* \"?\"-specific style due to the `<a>` HTML tag */\n",
       "\n",
       "#sk-container-id-1 a.estimator_doc_link {\n",
       "  float: right;\n",
       "  font-size: 1rem;\n",
       "  line-height: 1em;\n",
       "  font-family: monospace;\n",
       "  background-color: var(--sklearn-color-background);\n",
       "  border-radius: 1rem;\n",
       "  height: 1rem;\n",
       "  width: 1rem;\n",
       "  text-decoration: none;\n",
       "  /* unfitted */\n",
       "  color: var(--sklearn-color-unfitted-level-1);\n",
       "  border: var(--sklearn-color-unfitted-level-1) 1pt solid;\n",
       "}\n",
       "\n",
       "#sk-container-id-1 a.estimator_doc_link.fitted {\n",
       "  /* fitted */\n",
       "  border: var(--sklearn-color-fitted-level-1) 1pt solid;\n",
       "  color: var(--sklearn-color-fitted-level-1);\n",
       "}\n",
       "\n",
       "/* On hover */\n",
       "#sk-container-id-1 a.estimator_doc_link:hover {\n",
       "  /* unfitted */\n",
       "  background-color: var(--sklearn-color-unfitted-level-3);\n",
       "  color: var(--sklearn-color-background);\n",
       "  text-decoration: none;\n",
       "}\n",
       "\n",
       "#sk-container-id-1 a.estimator_doc_link.fitted:hover {\n",
       "  /* fitted */\n",
       "  background-color: var(--sklearn-color-fitted-level-3);\n",
       "}\n",
       "</style><div id=\"sk-container-id-1\" class=\"sk-top-container\"><div class=\"sk-text-repr-fallback\"><pre>KMeans(max_iter=3000, n_clusters=3, random_state=42)</pre><b>In a Jupyter environment, please rerun this cell to show the HTML representation or trust the notebook. <br />On GitHub, the HTML representation is unable to render, please try loading this page with nbviewer.org.</b></div><div class=\"sk-container\" hidden><div class=\"sk-item\"><div class=\"sk-estimator fitted sk-toggleable\"><input class=\"sk-toggleable__control sk-hidden--visually\" id=\"sk-estimator-id-1\" type=\"checkbox\" checked><label for=\"sk-estimator-id-1\" class=\"sk-toggleable__label fitted sk-toggleable__label-arrow fitted\">&nbsp;&nbsp;KMeans<a class=\"sk-estimator-doc-link fitted\" rel=\"noreferrer\" target=\"_blank\" href=\"https://scikit-learn.org/1.4/modules/generated/sklearn.cluster.KMeans.html\">?<span>Documentation for KMeans</span></a><span class=\"sk-estimator-doc-link fitted\">i<span>Fitted</span></span></label><div class=\"sk-toggleable__content fitted\"><pre>KMeans(max_iter=3000, n_clusters=3, random_state=42)</pre></div> </div></div></div></div>"
      ],
      "text/plain": [
       "KMeans(max_iter=3000, n_clusters=3, random_state=42)"
      ]
     },
     "execution_count": 28,
     "metadata": {},
     "output_type": "execute_result"
    }
   ],
   "source": [
    "best_estimator"
   ]
  },
  {
   "cell_type": "markdown",
   "id": "34857d0b-ef3e-4652-a81b-491ab2180986",
   "metadata": {},
   "source": [
    "We can see that the best estimator gave us the n cluster equal to 50"
   ]
  },
  {
   "cell_type": "code",
   "execution_count": 29,
   "id": "e64053a4-29f2-48ca-b8f1-9a9a59f1eaf3",
   "metadata": {},
   "outputs": [],
   "source": [
    "news_df[\"k_means_labels\"] = best_estimator.labels_"
   ]
  },
  {
   "cell_type": "markdown",
   "id": "699dcbd6-c591-411b-98b9-32659bafec96",
   "metadata": {},
   "source": [
    "Now let us analyze the clustering results."
   ]
  },
  {
   "cell_type": "code",
   "execution_count": 30,
   "id": "fcdf776c-dbdd-404f-bd76-34b624b7bef7",
   "metadata": {},
   "outputs": [],
   "source": [
    "def analyse_embeddings(dataframe, embeddings, index, label_column=\"labels\"):\n",
    "    \"\"\" take a matrix of embeddings and the labels.\n",
    "    for each label compute the cosine similarity of the document with that label.\n",
    "    \"\"\"\n",
    "    document_in_index = dataframe.query(f\"{label_column} == {index}\")\n",
    "    with pd.option_context('display.max_colwidth', None):\n",
    "        display(document_in_index.title)\n",
    "    document_index = document_in_index.index\n",
    "    vectors = embeddings[document_index]\n",
    "    return sentence_transformer_model.similarity(vectors,  vectors)"
   ]
  },
  {
   "cell_type": "code",
   "execution_count": 31,
   "id": "64f9f7a5-3a49-4524-8730-f7194c33c861",
   "metadata": {},
   "outputs": [
    {
     "data": {
      "text/plain": [
       "Series([], Name: title, dtype: object)"
      ]
     },
     "metadata": {},
     "output_type": "display_data"
    },
    {
     "data": {
      "text/plain": [
       "tensor([], size=(0, 0))"
      ]
     },
     "execution_count": 31,
     "metadata": {},
     "output_type": "execute_result"
    }
   ],
   "source": [
    "analyse_embeddings(news_df, today_news_embeddings,29, label_column=\"k_means_labels\")"
   ]
  },
  {
   "cell_type": "code",
   "execution_count": 32,
   "id": "40d44eb2-da12-484d-9841-5f60f82601ee",
   "metadata": {},
   "outputs": [
    {
     "data": {
      "text/plain": [
       "(79, 5)"
      ]
     },
     "execution_count": 32,
     "metadata": {},
     "output_type": "execute_result"
    }
   ],
   "source": [
    "news_df.shape"
   ]
  },
  {
   "cell_type": "markdown",
   "id": "da1e4314-381f-4814-9847-1b661ce0476a",
   "metadata": {},
   "source": [
    "After the first look at the results we can see that the results are good, we have around 50 news clusters, for 79 news.\n",
    "Some news clusters have only one article which makes sense, and others have up to 6 articles. In the later analysis, we will only keep news articles that have more than one document.\n",
    "\n",
    "Can we do better than that? Let's now try hierarchical clustering.\n"
   ]
  },
  {
   "cell_type": "markdown",
   "id": "f000cb32-4a9b-442f-8c9e-9e44449a7c02",
   "metadata": {},
   "source": [
    "## Hierarchical Clustering\n",
    "\n",
    "Hierarchical clustering is a clustering that uses an iterative approach to build the `dendrogram`.\n",
    "\n",
    "A dendrogram is a representation of a tree. Hierarchical clustering illustrates the arrangement of the clusters produced by the corresponding analyses.\n",
    "\n",
    "**How do we build a dendrogram?**\n",
    "\n",
    "Assuming we have `n` points that we would like to cluster, the algorithm starts with them and a similarity metric to use.\n",
    "In the first step, all the `n` points are grouped in a `n ` cluster, as each observation is treated as a separate cluster.\n",
    "Then, the next two similar clusters are fused into a cluster; at this point, we have `n-1` clusters.\n",
    "The algorithm will process iteratively  by fusing similar clusters into each other until we have one cluster.  \n",
    "With one cluster we have our dendrogram complete.\n",
    "\n",
    "In the figure, [Put the figure here], illustrate a dendrogram resulting from the clustering.\n",
    "\n",
    "\n",
    "**How do we compute the similarity between clusters?**\n",
    "\n",
    "We have the notion of similarity between two points but how do we compute the similarity between a point and a cluster or between two clusters?\n",
    "The notion of similarity between two points can be extended to develop the notion of `linkage` which is how we evaluate the similarity between two groups of observation or clusters.\n",
    "Given two clusters A and B, linkage metrics start by computing the pairwise  dissimilarity between the observations in cluster A and those in cluster B. \n",
    "\n",
    "Depending on how we compute the overall dissimilarity from those pairwise dissimilarities, the linkage metric will be defined.\n",
    "\n",
    "The linkage is called:\n",
    "\n",
    "- __complete__: When overall dissimilarity is the largest of the pairwise dissimilarity.\n",
    "\n",
    "- __single__:  When overall dissimilarity is the smallest of the pairwise dissimilarity.  \n",
    "\n",
    "- __average__: When overall dissimilarity is the average of the pairwise dissimilarity.\n",
    "\n",
    "\n",
    "With the understanding of Hierarchical clustering and the linkage metric, let's implement hierarchical clustering using the `scipy package`.\n",
    "\n",
    "### Hierarchical Clustering with Scipy.\n",
    "\n",
    "\n",
    "To implement the hierarchical clustering, we will use two functions from the `scipy` package, the `linkage` and the `dendrogram` function.\n",
    "\n",
    "The linkage function performs the clustering, it takes the input embeddings a numpy array, the linkage method, and the similarity metric and it returns the hierarchical clustering tree encoded as a linkage matrix. \n",
    "\n",
    "We use the `dendrogram` function to generate the tree plot of the linkage matrix.\n",
    "The bellow code illustrates how the clustering is performed.\n",
    "\n"
   ]
  },
  {
   "cell_type": "code",
   "execution_count": 33,
   "id": "e1e79d1c-b8e8-4674-b473-5351198aa30c",
   "metadata": {},
   "outputs": [],
   "source": [
    "from scipy.cluster.hierarchy import dendrogram, linkage"
   ]
  },
  {
   "cell_type": "code",
   "execution_count": 34,
   "id": "918a7622-a14c-4ce5-8b39-8e5a3597fbd5",
   "metadata": {
    "scrolled": true
   },
   "outputs": [
    {
     "data": {
      "image/png": "[encoded data removed]",
      "text/plain": [
       "<Figure size 2000x1000 with 1 Axes>"
      ]
     },
     "metadata": {},
     "output_type": "display_data"
    }
   ],
   "source": [
    "# Complete Linkage\n",
    "plt.figure(figsize = (20,10))\n",
    "mergings = linkage(today_news_embeddings,\n",
    "                   method='complete', metric='cosine')\n",
    "dendrogram(mergings)\n",
    "plt.show()"
   ]
  },
  {
   "cell_type": "code",
   "execution_count": null,
   "id": "a0c86a36",
   "metadata": {},
   "outputs": [],
   "source": []
  },
  {
   "cell_type": "markdown",
   "id": "5827a512",
   "metadata": {},
   "source": [
    "As the result of the hierarchical clustering is a tree, which can be visualized as a dendrogram."
   ]
  },
  {
   "cell_type": "markdown",
   "id": "478421e5",
   "metadata": {},
   "source": [
    "In the above plot, the x-axis represents the documents that are grouped into clusters based on the color, and the y-axis represents the distance cut-off used while computing the merging. The distance on the `y` axis is 1-cosine similarity.\n",
    "\n",
    "\n",
    "The _y_ axis represents the distance cut-off used while computing the merging.\n",
    "The _x_ axis represents the documents that are grouped into clusters based on the color.\n",
    "\n",
    "__A quick note on the `merging` value__: \n",
    "    \n",
    "The result of the linkage function is a matrix, we will call it `merging matrix`.\n",
    "\n",
    "Each row of the merging matrix is in the format `[cluster_index, cluster_index, distance, sample_count]`, the column index is the ith iteration at which that merging was done.\n",
    "\n",
    "Recall that we said that hierarchical clustering considers each point as a separate cluster to start with and then iteratively merges those points two by two to create new clusters. \n",
    "\n",
    "Let's have a look at what happened in the first 8 iterations of our algorithm.\n"
   ]
  },
  {
   "cell_type": "code",
   "execution_count": 35,
   "id": "b30141d9-984e-4435-985b-a1d64eb0ffc6",
   "metadata": {},
   "outputs": [],
   "source": [
    "import numpy as np"
   ]
  },
  {
   "cell_type": "code",
   "execution_count": 36,
   "id": "18b9b8c4",
   "metadata": {},
   "outputs": [
    {
     "name": "stdout",
     "output_type": "stream",
     "text": [
      "[[ 9.    40.     0.927  2.   ]\n",
      " [19.    72.     0.918  2.   ]\n",
      " [ 8.    42.     0.906  2.   ]\n",
      " [34.    71.     0.898  2.   ]\n",
      " [27.    52.     0.889  2.   ]\n",
      " [17.    49.     0.887  2.   ]\n",
      " [25.    47.     0.882  2.   ]\n",
      " [30.    81.     0.878  3.   ]\n",
      " [44.    80.     0.869  3.   ]]\n"
     ]
    }
   ],
   "source": [
    "\n",
    "merging_with_cosine_distance = mergings.copy()\n",
    "merging_with_cosine_distance[:, 2] = 1 - merging_with_cosine_distance[:, 2] # the distance is 1 - the cosine similarity\n",
    "with np.printoptions(precision=3, suppress=True):\n",
    "    print(merging_with_cosine_distance[:9])"
   ]
  },
  {
   "cell_type": "markdown",
   "id": "8a9d1bee",
   "metadata": {},
   "source": [
    "\n",
    "In the above matrix, we can see the first element contains `[9, 46, 0.92, 2]`. It tells us that after the first iteration  the document with id 9 and 46 were grouped together and their cosine similarity is 0.92.\n",
    "\n",
    "Let see how what is inside those two documents: \n"
   ]
  },
  {
   "cell_type": "code",
   "execution_count": 37,
   "id": "2871021d",
   "metadata": {},
   "outputs": [
    {
     "data": {
      "text/plain": [
       "9     RD -États généraux de la justice : “Un minimum de volonté de nous tous suffit pour que nous ayons un appareil judiciaire fort” (Félix Tshisekedi)\n",
       "46                                   Liberté de la presse : « Il y a une loi aujourd’hui qui garantit la protection des journalistes » (Patrick Miyaya)\n",
       "Name: title, dtype: object"
      ]
     },
     "metadata": {},
     "output_type": "display_data"
    }
   ],
   "source": [
    "\n",
    "with pd.option_context('display.max_colwidth', None):\n",
    "        display(news_df.iloc[[9, 46]].title)\n",
    "\n",
    "\n"
   ]
  },
  {
   "cell_type": "markdown",
   "id": "8190d62d",
   "metadata": {},
   "source": [
    "\n",
    "\n",
    "\n",
    "We can check other documents in the merging to understand how the merging works. When we get to the 9th iteration we can see that it merged 3 samples and the second cluster index  at that iteration is not a single document, its index is 80 which is greater than the number of documents we have in our set(79). That means that cluster 50 has only one document: document 50 was merged with cluster 80 which contains 2 documents. They were merged at a distance of 0.878.\n",
    "\n",
    "The cluster 80 is built with documents merged in the `80 - len(document)th` iteration. In our case, it represents the documents merged in the 1st iteration(80 - 79). From the above matrix, we can see that in the first iteration documents 9 and 40 were merged. With that, we can say that at the 9th iteration, the three documents that were merged are documents with ID: 9, 46, and 50. Let's see what those documents look like from our set.\n"
   ]
  },
  {
   "cell_type": "code",
   "execution_count": null,
   "id": "9d8fd0ab-bb7a-48b8-a0bd-8dc650e34e67",
   "metadata": {},
   "outputs": [],
   "source": []
  },
  {
   "cell_type": "code",
   "execution_count": 38,
   "id": "a8353454-7104-4ff6-860b-760d7e77e152",
   "metadata": {},
   "outputs": [
    {
     "data": {
      "text/plain": [
       "9     RD -États généraux de la justice : “Un minimum de volonté de nous tous suffit pour que nous ayons un appareil judiciaire fort” (Félix Tshisekedi)\n",
       "46                                   Liberté de la presse : « Il y a une loi aujourd’hui qui garantit la protection des journalistes » (Patrick Miyaya)\n",
       "50                                                                      Goma: le gouvernement provincial remet un lot de vivres à la prison de Munzenze\n",
       "Name: title, dtype: object"
      ]
     },
     "metadata": {},
     "output_type": "display_data"
    }
   ],
   "source": [
    "with pd.option_context('display.max_colwidth', None):\n",
    "        display(news_df.iloc[[9, 46, 50]].title)"
   ]
  },
  {
   "cell_type": "markdown",
   "id": "34d1dfae-8398-4376-b6d6-dc0a6a74173f",
   "metadata": {},
   "source": [
    "By looking at the merging matrix we can understand how our clustering algorithm works! One of the main advantages of hierachical clustering is its explainability, in most business cases stakeholders will prefer to work with an explainable model than a non-explainable model or  black box model."
   ]
  },
  {
   "cell_type": "code",
   "execution_count": 39,
   "id": "0220ec26-a2ff-40e8-a32b-811340f664c9",
   "metadata": {},
   "outputs": [],
   "source": [
    "import numpy as np\n",
    "from scipy.cluster.hierarchy import fcluster"
   ]
  },
  {
   "cell_type": "markdown",
   "id": "b9ddfcf3-f1e7-473c-970e-bf5f177db94e",
   "metadata": {},
   "source": [
    "\n",
    "### Selecting the cluster labels for the documents.\n",
    "\n",
    "The `fcluster` function helps take a distance cut-off and return the cluster label of each document with the value of k as the distance cut-off. So if we say k = 0.2, the function will give us the clustering of the document assuming that the max distance of the document in a cluster is 0.2.\n",
    "\n",
    "But how do we find the best k to select? \n",
    "\n",
    "- We can use domain knowledge. \n",
    "- We can fine-tune that metric. We have decided to fine-tune, and by fine-tuning we select the k that gives us the best silhouette score. \n",
    "\n",
    "The below code performs fine-tuning and returns the k that maximizes the silhouette score."
   ]
  },
  {
   "cell_type": "code",
   "execution_count": 40,
   "id": "286e2aaa-ce59-43d2-9bc7-270e30ba42c0",
   "metadata": {},
   "outputs": [],
   "source": [
    "def select_best_distance(X, merging):\n",
    "    \"\"\" start with the document embedding x, and the hierarchical clustering, find the k that maximize the shilouette score\"\"\"\n",
    "    max_shilouette = float(\"-inf\")\n",
    "    return_labels = np.zeros(X.shape[0])\n",
    "    scores = []\n",
    "    number_of_clusters = []\n",
    "    best_k = 0\n",
    "    all_k = []\n",
    "    for k in np.arange(0.1, 0.5, 0.01):\n",
    "        labels = fcluster(merging, k, criterion=\"distance\")\n",
    "        n_clusters = np.unique(labels).shape[0]\n",
    "        if n_clusters <=2 or n_clusters >=(X.shape[0]-1):\n",
    "            continue\n",
    "            # doesn't meet the condition\n",
    "        score = silhouette_score(\n",
    "            X, labels\n",
    "        )\n",
    "        scores.append(score)\n",
    "        all_k.append(k)\n",
    "        number_of_clusters.append(n_clusters)\n",
    "        if score > max_shilouette:\n",
    "            max_shilouette = score\n",
    "            return_labels = labels\n",
    "            best_k = k\n",
    "    return scores, return_labels, number_of_clusters, all_k, best_k"
   ]
  },
  {
   "cell_type": "code",
   "execution_count": 41,
   "id": "e4f77885-f273-4908-8794-8782eabdc475",
   "metadata": {},
   "outputs": [],
   "source": [
    "scores, label_hierarchical, number_of_clusters, all_k, best_k =  select_best_distance(today_news_embeddings, mergings)"
   ]
  },
  {
   "cell_type": "code",
   "execution_count": 42,
   "id": "186fa23e-1e29-40b6-8ddd-ad23b1e9afbb",
   "metadata": {},
   "outputs": [
    {
     "data": {
      "text/plain": [
       "0.4199999999999998"
      ]
     },
     "execution_count": 42,
     "metadata": {},
     "output_type": "execute_result"
    }
   ],
   "source": [
    "best_k"
   ]
  },
  {
   "cell_type": "code",
   "execution_count": 43,
   "id": "4db06ed2-7550-4517-bef2-4f93ae4b4c56",
   "metadata": {},
   "outputs": [
    {
     "data": {
      "text/plain": [
       "Text(0.5, 1.0, 'silhouette score vs distance metric')"
      ]
     },
     "execution_count": 43,
     "metadata": {},
     "output_type": "execute_result"
    },
    {
     "data": {
      "image/png": "[encoded data removed]",
      "text/plain": [
       "<Figure size 640x480 with 1 Axes>"
      ]
     },
     "metadata": {},
     "output_type": "display_data"
    }
   ],
   "source": [
    "fig, ax = plt.subplots()\n",
    "ax.plot(all_k, scores)\n",
    "ax.set_xlabel(\"Distance metric\")\n",
    "ax.set_ylabel(\"silhouette score\")\n",
    "ax.set_title(\"silhouette score vs distance metric\")"
   ]
  },
  {
   "cell_type": "markdown",
   "id": "26ebaf11",
   "metadata": {},
   "source": [
    "The above plot illustrates how the silhouette score varies by the distance metric we select.\n",
    "Either at 0.4 stabilize at that point before a jump at around 0.4 to 0.65."
   ]
  },
  {
   "cell_type": "code",
   "execution_count": 44,
   "id": "ffb55eab-4e0e-4062-ab76-0e95c876542c",
   "metadata": {},
   "outputs": [
    {
     "data": {
      "text/plain": [
       "(28,)"
      ]
     },
     "execution_count": 44,
     "metadata": {},
     "output_type": "execute_result"
    }
   ],
   "source": [
    "np.unique(label_hierarchical).shape"
   ]
  },
  {
   "cell_type": "code",
   "execution_count": 45,
   "id": "96a74677-6270-4b2c-86ef-a89eeaaf10ff",
   "metadata": {},
   "outputs": [
    {
     "data": {
      "text/plain": [
       "0.12144723"
      ]
     },
     "execution_count": 45,
     "metadata": {},
     "output_type": "execute_result"
    }
   ],
   "source": [
    "max(scores)"
   ]
  },
  {
   "cell_type": "code",
   "execution_count": 46,
   "id": "b15f3a8c-1e73-4898-a37c-eecd5062f69e",
   "metadata": {},
   "outputs": [
    {
     "data": {
      "text/plain": [
       "0.4199999999999998"
      ]
     },
     "execution_count": 46,
     "metadata": {},
     "output_type": "execute_result"
    }
   ],
   "source": [
    "best_k"
   ]
  },
  {
   "cell_type": "code",
   "execution_count": 47,
   "id": "735bc649-85e1-4df2-ade7-6a54ab8d282f",
   "metadata": {},
   "outputs": [
    {
     "data": {
      "text/plain": [
       "Text(0.5, 1.0, 'distance vs number of clusters')"
      ]
     },
     "execution_count": 47,
     "metadata": {},
     "output_type": "execute_result"
    },
    {
     "data": {
      "image/png": "[encoded data removed]",
      "text/plain": [
       "<Figure size 640x480 with 1 Axes>"
      ]
     },
     "metadata": {},
     "output_type": "display_data"
    }
   ],
   "source": [
    "fig, ax = plt.subplots()\n",
    "ax.plot(all_k, number_of_clusters)\n",
    "ax.set_xlabel(\"Distance metric\")\n",
    "ax.set_ylabel(\"Number of clusters\")\n",
    "ax.set_title(\"distance vs number of clusters\")"
   ]
  },
  {
   "cell_type": "code",
   "execution_count": 48,
   "id": "1e25e47f-ccbc-4dc1-9b5e-0b3d9e5cd680",
   "metadata": {},
   "outputs": [
    {
     "data": {
      "text/html": [
       "<div>\n",
       "<style scoped>\n",
       "    .dataframe tbody tr th:only-of-type {\n",
       "        vertical-align: middle;\n",
       "    }\n",
       "\n",
       "    .dataframe tbody tr th {\n",
       "        vertical-align: top;\n",
       "    }\n",
       "\n",
       "    .dataframe thead th {\n",
       "        text-align: right;\n",
       "    }\n",
       "</style>\n",
       "<table border=\"1\" class=\"dataframe\">\n",
       "  <thead>\n",
       "    <tr style=\"text-align: right;\">\n",
       "      <th></th>\n",
       "      <th>content</th>\n",
       "      <th>title</th>\n",
       "      <th>posted_at</th>\n",
       "      <th>url</th>\n",
       "      <th>k_means_labels</th>\n",
       "    </tr>\n",
       "  </thead>\n",
       "  <tbody>\n",
       "    <tr>\n",
       "      <th>0</th>\n",
       "      <td>Au cours d'un point de presse lundi dernier, l...</td>\n",
       "      <td>Affaire Mike Mukebayi: “Croyez-moi, nous somme...</td>\n",
       "      <td>2024-11-06 08:05:00</td>\n",
       "      <td>https://actualite.cd/index.php/2024/11/06/affa...</td>\n",
       "      <td>1</td>\n",
       "    </tr>\n",
       "    <tr>\n",
       "      <th>1</th>\n",
       "      <td>Parmi les avancées majeures de ce projet, la S...</td>\n",
       "      <td>Kinshasa : la SNEL SA modernise son Réseau éle...</td>\n",
       "      <td>2024-11-06 00:00:00</td>\n",
       "      <td>https://econewsrdc.com/kinshasa-la-snel-sa-mod...</td>\n",
       "      <td>1</td>\n",
       "    </tr>\n",
       "    <tr>\n",
       "      <th>2</th>\n",
       "      <td>Désavouée par 17 députés nationaux de 3 Allian...</td>\n",
       "      <td>Désavouée par les députés nationaux de 3 Allia...</td>\n",
       "      <td>2024-11-06 08:08:15</td>\n",
       "      <td>https://scooprdc.net/2024/11/06/desavouee-par-...</td>\n",
       "      <td>1</td>\n",
       "    </tr>\n",
       "    <tr>\n",
       "      <th>3</th>\n",
       "      <td>novembre 6, 2024 Linafoot 2024/25 : L’OC Renai...</td>\n",
       "      <td>Linafoot 2024/25 : L’OC Renaissance frappée pa...</td>\n",
       "      <td>2024-11-06 00:00:00</td>\n",
       "      <td>https://depeche.cd/2024/11/06/linafoot-2024-25...</td>\n",
       "      <td>0</td>\n",
       "    </tr>\n",
       "    <tr>\n",
       "      <th>4</th>\n",
       "      <td>novembre 6, 2024 Présidentielle Américaine: Fé...</td>\n",
       "      <td>Présidentielle Américaine: Félix Tshisekedi fé...</td>\n",
       "      <td>2024-11-06 00:00:00</td>\n",
       "      <td>https://depeche.cd/2024/11/06/presidentielle-a...</td>\n",
       "      <td>2</td>\n",
       "    </tr>\n",
       "  </tbody>\n",
       "</table>\n",
       "</div>"
      ],
      "text/plain": [
       "                                             content  \\\n",
       "0  Au cours d'un point de presse lundi dernier, l...   \n",
       "1  Parmi les avancées majeures de ce projet, la S...   \n",
       "2  Désavouée par 17 députés nationaux de 3 Allian...   \n",
       "3  novembre 6, 2024 Linafoot 2024/25 : L’OC Renai...   \n",
       "4  novembre 6, 2024 Présidentielle Américaine: Fé...   \n",
       "\n",
       "                                               title            posted_at  \\\n",
       "0  Affaire Mike Mukebayi: “Croyez-moi, nous somme...  2024-11-06 08:05:00   \n",
       "1  Kinshasa : la SNEL SA modernise son Réseau éle...  2024-11-06 00:00:00   \n",
       "2  Désavouée par les députés nationaux de 3 Allia...  2024-11-06 08:08:15   \n",
       "3  Linafoot 2024/25 : L’OC Renaissance frappée pa...  2024-11-06 00:00:00   \n",
       "4  Présidentielle Américaine: Félix Tshisekedi fé...  2024-11-06 00:00:00   \n",
       "\n",
       "                                                 url  k_means_labels  \n",
       "0  https://actualite.cd/index.php/2024/11/06/affa...               1  \n",
       "1  https://econewsrdc.com/kinshasa-la-snel-sa-mod...               1  \n",
       "2  https://scooprdc.net/2024/11/06/desavouee-par-...               1  \n",
       "3  https://depeche.cd/2024/11/06/linafoot-2024-25...               0  \n",
       "4  https://depeche.cd/2024/11/06/presidentielle-a...               2  "
      ]
     },
     "execution_count": 48,
     "metadata": {},
     "output_type": "execute_result"
    }
   ],
   "source": [
    "news_df.head()"
   ]
  },
  {
   "cell_type": "code",
   "execution_count": 49,
   "id": "dcb682fb-77dd-40b6-9e9d-6bb3f64afeac",
   "metadata": {},
   "outputs": [],
   "source": [
    "news_df[\"label_hierachical\"] = label_hierarchical"
   ]
  },
  {
   "cell_type": "code",
   "execution_count": 50,
   "id": "257847f6",
   "metadata": {},
   "outputs": [
    {
     "data": {
      "text/plain": [
       "label_hierachical\n",
       "12    11\n",
       "11     8\n",
       "26     5\n",
       "19     5\n",
       "7      5\n",
       "4      5\n",
       "22     5\n",
       "13     4\n",
       "8      4\n",
       "23     3\n",
       "21     3\n",
       "3      2\n",
       "17     2\n",
       "25     2\n",
       "10     2\n",
       "18     1\n",
       "27     1\n",
       "15     1\n",
       "1      1\n",
       "28     1\n",
       "9      1\n",
       "5      1\n",
       "6      1\n",
       "2      1\n",
       "20     1\n",
       "14     1\n",
       "16     1\n",
       "24     1\n",
       "Name: count, dtype: int64"
      ]
     },
     "execution_count": 50,
     "metadata": {},
     "output_type": "execute_result"
    }
   ],
   "source": [
    "news_df[\"label_hierachical\"].value_counts()"
   ]
  },
  {
   "cell_type": "code",
   "execution_count": 51,
   "id": "327419a3-4025-4102-a929-924b3ee120ad",
   "metadata": {},
   "outputs": [
    {
     "data": {
      "text/html": [
       "<div>\n",
       "<style scoped>\n",
       "    .dataframe tbody tr th:only-of-type {\n",
       "        vertical-align: middle;\n",
       "    }\n",
       "\n",
       "    .dataframe tbody tr th {\n",
       "        vertical-align: top;\n",
       "    }\n",
       "\n",
       "    .dataframe thead th {\n",
       "        text-align: right;\n",
       "    }\n",
       "</style>\n",
       "<table border=\"1\" class=\"dataframe\">\n",
       "  <thead>\n",
       "    <tr style=\"text-align: right;\">\n",
       "      <th></th>\n",
       "      <th>content</th>\n",
       "      <th>title</th>\n",
       "      <th>posted_at</th>\n",
       "      <th>url</th>\n",
       "      <th>k_means_labels</th>\n",
       "      <th>label_hierachical</th>\n",
       "    </tr>\n",
       "  </thead>\n",
       "  <tbody>\n",
       "    <tr>\n",
       "      <th>14</th>\n",
       "      <td>Intervenant ce mardi 05 novembre 2024 lors de ...</td>\n",
       "      <td>Droits de l’homme en RDC: à l'ONU, le Conseil ...</td>\n",
       "      <td>2024-11-06 11:08:00</td>\n",
       "      <td>https://actualite.cd/2024/11/06/droits-de-lhom...</td>\n",
       "      <td>1</td>\n",
       "      <td>11</td>\n",
       "    </tr>\n",
       "    <tr>\n",
       "      <th>27</th>\n",
       "      <td>À l’issue de cette audience, Adama Dieng a fél...</td>\n",
       "      <td>L’UA promet d’accompagner la RDC dans la prote...</td>\n",
       "      <td>2024-11-06 05:34:07</td>\n",
       "      <td>https://actu30.cd/2024/11/lua-promet-daccompag...</td>\n",
       "      <td>1</td>\n",
       "      <td>11</td>\n",
       "    </tr>\n",
       "    <tr>\n",
       "      <th>32</th>\n",
       "      <td>À l’en croire, en dépit de la situation sécuri...</td>\n",
       "      <td>RDC : « La pratique de LGBT ne fait pas partie...</td>\n",
       "      <td>2024-11-06 00:51:31</td>\n",
       "      <td>https://actu30.cd/2024/11/rdc-la-pratique-de-l...</td>\n",
       "      <td>1</td>\n",
       "      <td>11</td>\n",
       "    </tr>\n",
       "    <tr>\n",
       "      <th>37</th>\n",
       "      <td>C’est une escale verbale entre le ministre con...</td>\n",
       "      <td>Au conseil des droits de l’homme de l’ONU : Mu...</td>\n",
       "      <td>2024-11-06 00:00:00</td>\n",
       "      <td>https://www.mediacongo.net/article-actualite-1...</td>\n",
       "      <td>1</td>\n",
       "      <td>11</td>\n",
       "    </tr>\n",
       "    <tr>\n",
       "      <th>46</th>\n",
       "      <td>Dans son intervention, ce mardi, lors de l’exa...</td>\n",
       "      <td>Liberté de la presse : « Il y a une loi aujour...</td>\n",
       "      <td>2024-11-06 00:00:00</td>\n",
       "      <td>https://www.mediacongo.net/article-actualite-1...</td>\n",
       "      <td>1</td>\n",
       "      <td>11</td>\n",
       "    </tr>\n",
       "    <tr>\n",
       "      <th>52</th>\n",
       "      <td>Ce mardi 5 novembre 2024, le président de la R...</td>\n",
       "      <td>RDC-UA : le Président Félix Tshisekedi et Adam...</td>\n",
       "      <td>2024-11-06 00:00:00</td>\n",
       "      <td>https://www.mediacongo.net/article-actualite-1...</td>\n",
       "      <td>1</td>\n",
       "      <td>11</td>\n",
       "    </tr>\n",
       "    <tr>\n",
       "      <th>61</th>\n",
       "      <td>L’état de guerre (bien que non déclarée) entre...</td>\n",
       "      <td>Luanda : une bataille sémantique</td>\n",
       "      <td>2024-11-06 00:00:00</td>\n",
       "      <td>https://econewsrdc.com/luanda-une-bataille-sem...</td>\n",
       "      <td>1</td>\n",
       "      <td>11</td>\n",
       "    </tr>\n",
       "    <tr>\n",
       "      <th>62</th>\n",
       "      <td>La complexité des relations entre Kinshasa et ...</td>\n",
       "      <td>Les relations en dents de scie entre Kinshasa ...</td>\n",
       "      <td>2024-11-06 00:00:00</td>\n",
       "      <td>https://econewsrdc.com/les-relations-en-dents-...</td>\n",
       "      <td>1</td>\n",
       "      <td>11</td>\n",
       "    </tr>\n",
       "  </tbody>\n",
       "</table>\n",
       "</div>"
      ],
      "text/plain": [
       "                                              content  \\\n",
       "14  Intervenant ce mardi 05 novembre 2024 lors de ...   \n",
       "27  À l’issue de cette audience, Adama Dieng a fél...   \n",
       "32  À l’en croire, en dépit de la situation sécuri...   \n",
       "37  C’est une escale verbale entre le ministre con...   \n",
       "46  Dans son intervention, ce mardi, lors de l’exa...   \n",
       "52  Ce mardi 5 novembre 2024, le président de la R...   \n",
       "61  L’état de guerre (bien que non déclarée) entre...   \n",
       "62  La complexité des relations entre Kinshasa et ...   \n",
       "\n",
       "                                                title            posted_at  \\\n",
       "14  Droits de l’homme en RDC: à l'ONU, le Conseil ...  2024-11-06 11:08:00   \n",
       "27  L’UA promet d’accompagner la RDC dans la prote...  2024-11-06 05:34:07   \n",
       "32  RDC : « La pratique de LGBT ne fait pas partie...  2024-11-06 00:51:31   \n",
       "37  Au conseil des droits de l’homme de l’ONU : Mu...  2024-11-06 00:00:00   \n",
       "46  Liberté de la presse : « Il y a une loi aujour...  2024-11-06 00:00:00   \n",
       "52  RDC-UA : le Président Félix Tshisekedi et Adam...  2024-11-06 00:00:00   \n",
       "61                   Luanda : une bataille sémantique  2024-11-06 00:00:00   \n",
       "62  Les relations en dents de scie entre Kinshasa ...  2024-11-06 00:00:00   \n",
       "\n",
       "                                                  url  k_means_labels  \\\n",
       "14  https://actualite.cd/2024/11/06/droits-de-lhom...               1   \n",
       "27  https://actu30.cd/2024/11/lua-promet-daccompag...               1   \n",
       "32  https://actu30.cd/2024/11/rdc-la-pratique-de-l...               1   \n",
       "37  https://www.mediacongo.net/article-actualite-1...               1   \n",
       "46  https://www.mediacongo.net/article-actualite-1...               1   \n",
       "52  https://www.mediacongo.net/article-actualite-1...               1   \n",
       "61  https://econewsrdc.com/luanda-une-bataille-sem...               1   \n",
       "62  https://econewsrdc.com/les-relations-en-dents-...               1   \n",
       "\n",
       "    label_hierachical  \n",
       "14                 11  \n",
       "27                 11  \n",
       "32                 11  \n",
       "37                 11  \n",
       "46                 11  \n",
       "52                 11  \n",
       "61                 11  \n",
       "62                 11  "
      ]
     },
     "execution_count": 51,
     "metadata": {},
     "output_type": "execute_result"
    }
   ],
   "source": [
    "news_df.query(\"label_hierachical == 11\")"
   ]
  },
  {
   "cell_type": "code",
   "execution_count": 52,
   "id": "2f5cde67-7aef-433b-823e-506439300a3d",
   "metadata": {},
   "outputs": [
    {
     "data": {
      "text/plain": [
       "4                                                                 Présidentielle Américaine: Félix Tshisekedi félicite Donald Trump pour sa victoire \n",
       "12                 États-Unis-RDC : tensions, sanctions et partenariats sous Trump et Biden, vers une politique africaine incertaine ? | Actualite.cd\n",
       "15                                          Félix Tshisekedi félicite Donald Trump et appelle à un renforcement du partenariat RDC-USA | Actualite.cd\n",
       "24                                                                   Présidentielle américaine : les félicitations de Félix Tshisekedi à Donald Trump\n",
       "41    Le Président Félix Tshisekedi Félicite Donald Trump pour sa victoire à la présidentielle américaine et souhaite renforcer les relations RDC-USA\n",
       "Name: title, dtype: object"
      ]
     },
     "metadata": {},
     "output_type": "display_data"
    },
    {
     "data": {
      "text/plain": [
       "tensor([[1.0000, 0.8071, 0.8000, 0.8352, 0.8468],\n",
       "        [0.8071, 1.0000, 0.7536, 0.8064, 0.7537],\n",
       "        [0.8000, 0.7536, 1.0000, 0.6866, 0.7909],\n",
       "        [0.8352, 0.8064, 0.6866, 1.0000, 0.7866],\n",
       "        [0.8468, 0.7537, 0.7909, 0.7866, 1.0000]])"
      ]
     },
     "execution_count": 52,
     "metadata": {},
     "output_type": "execute_result"
    }
   ],
   "source": [
    "analyse_embeddings(news_df, today_news_embeddings, 4, \"label_hierachical\")"
   ]
  },
  {
   "cell_type": "markdown",
   "id": "8bb946ea-d769-4931-a061-d3aa2d5c27f7",
   "metadata": {},
   "source": [
    "Once i have got the best labeling, i can go ahead and select the most important cluster. \n",
    "\n",
    "This will be all the cluster with more than 1 document, the rest of the document will be considered as noise. "
   ]
  },
  {
   "cell_type": "code",
   "execution_count": 53,
   "id": "b66c22c8-37a1-4a22-bb2b-06d08b7e576e",
   "metadata": {},
   "outputs": [],
   "source": [
    "cluster_counts = news_df.label_hierachical.value_counts()\n",
    "labels_with_more_than_one = cluster_counts[cluster_counts > 1].index"
   ]
  },
  {
   "cell_type": "code",
   "execution_count": 54,
   "id": "b4ff8db6-2aa8-41c9-a1f4-05c0ab031ee8",
   "metadata": {},
   "outputs": [],
   "source": [
    "important_news_df = news_df.loc[news_df.label_hierachical.isin(labels_with_more_than_one)]"
   ]
  },
  {
   "cell_type": "code",
   "execution_count": 55,
   "id": "6134dde8",
   "metadata": {},
   "outputs": [
    {
     "data": {
      "text/plain": [
       "15"
      ]
     },
     "execution_count": 55,
     "metadata": {},
     "output_type": "execute_result"
    }
   ],
   "source": [
    "np.unique(important_news_df.label_hierachical).shape[0]"
   ]
  },
  {
   "cell_type": "markdown",
   "id": "29ba61bc",
   "metadata": {},
   "source": [
    "### Conclusions\n",
    "\n",
    "\n",
    "In this notebook, we went through the process of building a new clustering system. We started by pulling the data from the database, then we computed the news embedding using the embedding model. With the embedding vectors of the news, we started the clustering. We explained the silhouette score, which is the metric we use to evaluate the quality of clusters resulting from a clustering algorithm, and then we explained and performed hierarchical clustering on our news embeddings. At the end of the hierarchical clustering, we ended up with news clusters finally we saved those data in a file for further analysis and downstream applications.\n",
    "\n",
    "In the next post, we will move from the jupyter notebook to a production-ready application. We will learn how to productionarize this simple news clustering system. Stay tuned for that post.\n",
    "\n",
    "At this point we have a notebook with the clustering results and those results are saved back in the folder. The next step will be to build a new cluster component that will be used in a downstream application.\n",
    "\n",
    "\n",
    "Reference:\n",
    "\n",
    "- [Article on The clustering](https://joernhees.de/blog/2015/08/26/scipy-hierarchical-clustering-and-dendrogram-tutorial/)\n",
    "- Introduction to Statistical learning page 520-534.\n",
    "- Wikipedia on the clustering.\n"
   ]
  },
  {
   "cell_type": "code",
   "execution_count": null,
   "id": "6c824ba9",
   "metadata": {},
   "outputs": [],
   "source": []
  }
 ],
 "metadata": {
  "kernelspec": {
   "display_name": ".venv",
   "language": "python",
   "name": "python3"
  },
  "language_info": {
   "codemirror_mode": {
    "name": "ipython",
    "version": 3
   },
   "file_extension": ".py",
   "mimetype": "text/x-python",
   "name": "python",
   "nbconvert_exporter": "python",
   "pygments_lexer": "ipython3",
   "version": "3.10.4"
  }
 },
 "nbformat": 4,
 "nbformat_minor": 5
}
