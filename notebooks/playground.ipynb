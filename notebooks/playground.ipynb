{
 "cells": [
  {
   "cell_type": "code",
   "execution_count": 1,
   "metadata": {},
   "outputs": [],
   "source": [
    "%load_ext dotenv"
   ]
  },
  {
   "cell_type": "code",
   "execution_count": 2,
   "metadata": {},
   "outputs": [],
   "source": [
    "%dotenv ./.env_local -o"
   ]
  },
  {
   "cell_type": "code",
   "execution_count": 3,
   "metadata": {},
   "outputs": [],
   "source": [
    "from src.shared.cloud_storage import BackBlazeCloudStorage\n",
    "from os import getenv"
   ]
  },
  {
   "cell_type": "code",
   "execution_count": 4,
   "metadata": {},
   "outputs": [],
   "source": [
    "bucket_name = getenv(\"BUCKET_NAME\")\n",
    "cloud_storage = BackBlazeCloudStorage(environment=\"local\")"
   ]
  },
  {
   "cell_type": "code",
   "execution_count": 5,
   "metadata": {},
   "outputs": [
    {
     "data": {
      "text/plain": [
       "<src.shared.cloud_storage.BackBlazeCloudStorage at 0x105ca0040>"
      ]
     },
     "execution_count": 5,
     "metadata": {},
     "output_type": "execute_result"
    }
   ],
   "source": [
    "cloud_storage"
   ]
  },
  {
   "cell_type": "code",
   "execution_count": null,
   "metadata": {},
   "outputs": [],
   "source": [
    "\n"
   ]
  },
  {
   "cell_type": "code",
   "execution_count": 6,
   "metadata": {},
   "outputs": [],
   "source": [
    "from tempfile import NamedTemporaryFile"
   ]
  },
  {
   "cell_type": "code",
   "execution_count": 7,
   "metadata": {},
   "outputs": [],
   "source": [
    "import numpy as np"
   ]
  },
  {
   "cell_type": "code",
   "execution_count": 8,
   "metadata": {},
   "outputs": [],
   "source": [
    "import pandas as pd"
   ]
  },
  {
   "cell_type": "code",
   "execution_count": 9,
   "metadata": {},
   "outputs": [
    {
     "data": {
      "text/plain": [
       "'1.26.4'"
      ]
     },
     "execution_count": 9,
     "metadata": {},
     "output_type": "execute_result"
    }
   ],
   "source": [
    "np.__version__"
   ]
  },
  {
   "cell_type": "code",
   "execution_count": null,
   "metadata": {},
   "outputs": [],
   "source": [
    "cloud_storage."
   ]
  },
  {
   "cell_type": "code",
   "execution_count": 20,
   "metadata": {},
   "outputs": [],
   "source": [
    "data_path = \"news-clusters-2024-11-15-to-2024-11-14.csv\""
   ]
  },
  {
   "cell_type": "markdown",
   "metadata": {},
   "source": []
  },
  {
   "cell_type": "code",
   "execution_count": 42,
   "metadata": {},
   "outputs": [],
   "source": [
    "to_save = csv_file.content.str.replace(r'\\r+|\\n+|\\t+',' ', regex=True)"
   ]
  },
  {
   "cell_type": "code",
   "execution_count": 46,
   "metadata": {},
   "outputs": [
    {
     "name": "stdout",
     "output_type": "stream",
     "text": [
      "\u001b[32m2024-11-13 22:30:03 | INFO     | data_puller:save_df_to_blackbaze_bucket:75 | Saved 2024-11-11 news to the cloud bucket\u001b[0m\n"
     ]
    },
    {
     "data": {
      "text/plain": [
       "'https://f004.backblazeb2.com/b2api/v2/b2_download_file_by_id?fileId=4_z52fbad27ab96cb6791260910_f110fb37fc5f86af7_d20241113_m223002_c004_v0402025_t0034_u01731537002291'"
      ]
     },
     "execution_count": 46,
     "metadata": {},
     "output_type": "execute_result"
    }
   ],
   "source": [
    "cloud_storage.save_df_to_blackbaze_bucket(\n",
    "    to_save, date=\"2024-11-11\")"
   ]
  },
  {
   "cell_type": "code",
   "execution_count": 45,
   "metadata": {},
   "outputs": [],
   "source": [
    "to_save.to_csv(\"test_csv_2.csv\", sep=\"|\", index=False)"
   ]
  },
  {
   "cell_type": "code",
   "execution_count": null,
   "metadata": {},
   "outputs": [],
   "source": [
    "## Need to comeback and convert the stuff to numpy array"
   ]
  },
  {
   "cell_type": "code",
   "execution_count": 23,
   "metadata": {},
   "outputs": [],
   "source": [
    "documents = cloud_storage.download_by_name(\n",
    "    bucket_name=bucket_name,\n",
    "    file_name=data_path\n",
    ")\n",
    "with NamedTemporaryFile(delete=True, suffix=\".npy\") as temp_file:\n",
    "    documents.save_to(temp_file.name)\n",
    "    test_data = pd.read_csv(temp_file.name, sep=\"|\", index_col=0)\n"
   ]
  },
  {
   "cell_type": "code",
   "execution_count": 25,
   "metadata": {},
   "outputs": [
    {
     "data": {
      "text/html": [
       "<div>\n",
       "<style scoped>\n",
       "    .dataframe tbody tr th:only-of-type {\n",
       "        vertical-align: middle;\n",
       "    }\n",
       "\n",
       "    .dataframe tbody tr th {\n",
       "        vertical-align: top;\n",
       "    }\n",
       "\n",
       "    .dataframe thead th {\n",
       "        text-align: right;\n",
       "    }\n",
       "</style>\n",
       "<table border=\"1\" class=\"dataframe\">\n",
       "  <thead>\n",
       "    <tr style=\"text-align: right;\">\n",
       "      <th></th>\n",
       "      <th>database_id</th>\n",
       "      <th>content</th>\n",
       "      <th>title</th>\n",
       "      <th>posted_at</th>\n",
       "      <th>url</th>\n",
       "      <th>labels</th>\n",
       "    </tr>\n",
       "  </thead>\n",
       "  <tbody>\n",
       "    <tr>\n",
       "      <th>46</th>\n",
       "      <td>29878371</td>\n",
       "      <td>Au moins 4 personnes sont mortes et deux véhic...</td>\n",
       "      <td>Haut-Katanga : quatre morts à Kambove à la sui...</td>\n",
       "      <td>2024-11-14 11:53:00</td>\n",
       "      <td>https://actualite.cd/2024/11/14/haut-katanga-q...</td>\n",
       "      <td>4</td>\n",
       "    </tr>\n",
       "    <tr>\n",
       "      <th>66</th>\n",
       "      <td>29883401</td>\n",
       "      <td>Dans le territoire de Lubao, un conflit de ter...</td>\n",
       "      <td>Lomami : un mort dans un conflit foncier entre...</td>\n",
       "      <td>2024-11-14 00:00:00</td>\n",
       "      <td>https://www.mediacongo.net/article-actualite-1...</td>\n",
       "      <td>4</td>\n",
       "    </tr>\n",
       "    <tr>\n",
       "      <th>40</th>\n",
       "      <td>30150850</td>\n",
       "      <td>Le République démocratique du Congo a obtenu a...</td>\n",
       "      <td>RDC-FMI: le Gouvernement obtient deux accords ...</td>\n",
       "      <td>2024-11-14 06:13:00</td>\n",
       "      <td>https://actualite.cd/2024/11/14/rdc-fmi-le-gou...</td>\n",
       "      <td>11</td>\n",
       "    </tr>\n",
       "    <tr>\n",
       "      <th>54</th>\n",
       "      <td>29878435</td>\n",
       "      <td>Le premier programme, connu sous le nom de Pro...</td>\n",
       "      <td>Deux programmes conclus entre la RDC et le FMI...</td>\n",
       "      <td>2024-11-14 11:35:06</td>\n",
       "      <td>https://actu30.cd/2024/11/deux-programmes-conc...</td>\n",
       "      <td>11</td>\n",
       "    </tr>\n",
       "    <tr>\n",
       "      <th>65</th>\n",
       "      <td>29883387</td>\n",
       "      <td>Lors d’une conférence co-animée avec le minist...</td>\n",
       "      <td>Deux programmes conclus entre la RDC et le FMI...</td>\n",
       "      <td>2024-11-14 00:00:00</td>\n",
       "      <td>https://www.mediacongo.net/article-actualite-1...</td>\n",
       "      <td>11</td>\n",
       "    </tr>\n",
       "    <tr>\n",
       "      <th>...</th>\n",
       "      <td>...</td>\n",
       "      <td>...</td>\n",
       "      <td>...</td>\n",
       "      <td>...</td>\n",
       "      <td>...</td>\n",
       "      <td>...</td>\n",
       "    </tr>\n",
       "    <tr>\n",
       "      <th>84</th>\n",
       "      <td>30157777</td>\n",
       "      <td>C’est ce qu’indique un communiqué des organisa...</td>\n",
       "      <td>La 10è édition du festival Amani aura finaleme...</td>\n",
       "      <td>2024-11-15 09:50:29</td>\n",
       "      <td>https://actu30.cd/2024/11/la-10e-edition-du-fe...</td>\n",
       "      <td>81</td>\n",
       "    </tr>\n",
       "    <tr>\n",
       "      <th>28</th>\n",
       "      <td>30227226</td>\n",
       "      <td>novembre 15, 2024 Goma – Festival Amani 2024: ...</td>\n",
       "      <td>Goma – Festival Amani 2024: Le Maire tombe dan...</td>\n",
       "      <td>2024-11-15 00:00:00</td>\n",
       "      <td>https://depeche.cd/2024/11/15/goma-festival-am...</td>\n",
       "      <td>81</td>\n",
       "    </tr>\n",
       "    <tr>\n",
       "      <th>119</th>\n",
       "      <td>30161895</td>\n",
       "      <td>Retour en arrière dans l’affaire du Festival A...</td>\n",
       "      <td>Goma : sous pression, le maire revient sur sa ...</td>\n",
       "      <td>2024-11-15 00:00:00</td>\n",
       "      <td>https://www.mediacongo.net/article-actualite-1...</td>\n",
       "      <td>81</td>\n",
       "    </tr>\n",
       "    <tr>\n",
       "      <th>58</th>\n",
       "      <td>29878455</td>\n",
       "      <td>Dans ce communiqué, les organisateurs disent p...</td>\n",
       "      <td>Annulation du Festival Amani : les organisateu...</td>\n",
       "      <td>2024-11-14 07:20:11</td>\n",
       "      <td>https://actu30.cd/2024/11/annulation-du-festiv...</td>\n",
       "      <td>81</td>\n",
       "    </tr>\n",
       "    <tr>\n",
       "      <th>36</th>\n",
       "      <td>29955281</td>\n",
       "      <td>novembre 14, 2024 Annulation du Festival Amani...</td>\n",
       "      <td>Annulation du Festival Amani 2024: La déceptio...</td>\n",
       "      <td>2024-11-14 00:00:00</td>\n",
       "      <td>https://depeche.cd/2024/11/14/annulation-du-fe...</td>\n",
       "      <td>81</td>\n",
       "    </tr>\n",
       "  </tbody>\n",
       "</table>\n",
       "<p>95 rows × 6 columns</p>\n",
       "</div>"
      ],
      "text/plain": [
       "     database_id                                            content  \\\n",
       "46      29878371  Au moins 4 personnes sont mortes et deux véhic...   \n",
       "66      29883401  Dans le territoire de Lubao, un conflit de ter...   \n",
       "40      30150850  Le République démocratique du Congo a obtenu a...   \n",
       "54      29878435  Le premier programme, connu sous le nom de Pro...   \n",
       "65      29883387  Lors d’une conférence co-animée avec le minist...   \n",
       "..           ...                                                ...   \n",
       "84      30157777  C’est ce qu’indique un communiqué des organisa...   \n",
       "28      30227226  novembre 15, 2024 Goma – Festival Amani 2024: ...   \n",
       "119     30161895  Retour en arrière dans l’affaire du Festival A...   \n",
       "58      29878455  Dans ce communiqué, les organisateurs disent p...   \n",
       "36      29955281  novembre 14, 2024 Annulation du Festival Amani...   \n",
       "\n",
       "                                                 title            posted_at  \\\n",
       "46   Haut-Katanga : quatre morts à Kambove à la sui...  2024-11-14 11:53:00   \n",
       "66   Lomami : un mort dans un conflit foncier entre...  2024-11-14 00:00:00   \n",
       "40   RDC-FMI: le Gouvernement obtient deux accords ...  2024-11-14 06:13:00   \n",
       "54   Deux programmes conclus entre la RDC et le FMI...  2024-11-14 11:35:06   \n",
       "65   Deux programmes conclus entre la RDC et le FMI...  2024-11-14 00:00:00   \n",
       "..                                                 ...                  ...   \n",
       "84   La 10è édition du festival Amani aura finaleme...  2024-11-15 09:50:29   \n",
       "28   Goma – Festival Amani 2024: Le Maire tombe dan...  2024-11-15 00:00:00   \n",
       "119  Goma : sous pression, le maire revient sur sa ...  2024-11-15 00:00:00   \n",
       "58   Annulation du Festival Amani : les organisateu...  2024-11-14 07:20:11   \n",
       "36   Annulation du Festival Amani 2024: La déceptio...  2024-11-14 00:00:00   \n",
       "\n",
       "                                                   url  labels  \n",
       "46   https://actualite.cd/2024/11/14/haut-katanga-q...       4  \n",
       "66   https://www.mediacongo.net/article-actualite-1...       4  \n",
       "40   https://actualite.cd/2024/11/14/rdc-fmi-le-gou...      11  \n",
       "54   https://actu30.cd/2024/11/deux-programmes-conc...      11  \n",
       "65   https://www.mediacongo.net/article-actualite-1...      11  \n",
       "..                                                 ...     ...  \n",
       "84   https://actu30.cd/2024/11/la-10e-edition-du-fe...      81  \n",
       "28   https://depeche.cd/2024/11/15/goma-festival-am...      81  \n",
       "119  https://www.mediacongo.net/article-actualite-1...      81  \n",
       "58   https://actu30.cd/2024/11/annulation-du-festiv...      81  \n",
       "36   https://depeche.cd/2024/11/14/annulation-du-fe...      81  \n",
       "\n",
       "[95 rows x 6 columns]"
      ]
     },
     "execution_count": 25,
     "metadata": {},
     "output_type": "execute_result"
    }
   ],
   "source": [
    "test_data.sort_values(by=\"labels\")"
   ]
  },
  {
   "cell_type": "code",
   "execution_count": 28,
   "metadata": {},
   "outputs": [
    {
     "data": {
      "text/html": [
       "<div>\n",
       "<style scoped>\n",
       "    .dataframe tbody tr th:only-of-type {\n",
       "        vertical-align: middle;\n",
       "    }\n",
       "\n",
       "    .dataframe tbody tr th {\n",
       "        vertical-align: top;\n",
       "    }\n",
       "\n",
       "    .dataframe thead th {\n",
       "        text-align: right;\n",
       "    }\n",
       "</style>\n",
       "<table border=\"1\" class=\"dataframe\">\n",
       "  <thead>\n",
       "    <tr style=\"text-align: right;\">\n",
       "      <th></th>\n",
       "      <th>database_id</th>\n",
       "      <th>content</th>\n",
       "      <th>title</th>\n",
       "      <th>posted_at</th>\n",
       "      <th>url</th>\n",
       "      <th>labels</th>\n",
       "    </tr>\n",
       "  </thead>\n",
       "  <tbody>\n",
       "    <tr>\n",
       "      <th>14</th>\n",
       "      <td>30213784</td>\n",
       "      <td>Au nom de la République, il a rendu une fière ...</td>\n",
       "      <td>La RDC obtient 2,87 milliards USD du FMI : bel...</td>\n",
       "      <td>2024-11-14 00:00:00</td>\n",
       "      <td>https://econewsrdc.com/la-rdc-obtient-287-mill...</td>\n",
       "      <td>11</td>\n",
       "    </tr>\n",
       "    <tr>\n",
       "      <th>19</th>\n",
       "      <td>30213905</td>\n",
       "      <td>Econews La coopération entre la République Dém...</td>\n",
       "      <td>Avec plus de 550 millions USD en trois ans, la...</td>\n",
       "      <td>2024-11-15 00:00:00</td>\n",
       "      <td>https://econewsrdc.com/avec-plus-de-550-millio...</td>\n",
       "      <td>11</td>\n",
       "    </tr>\n",
       "    <tr>\n",
       "      <th>27</th>\n",
       "      <td>30179506</td>\n",
       "      <td>Le programme soutenu par la FEC vise à favoris...</td>\n",
       "      <td>La RDC et le FMI parviennent à un accord au ni...</td>\n",
       "      <td>2024-11-15 00:00:00</td>\n",
       "      <td>https://econewsrdc.com/la-rdc-et-le-fmi-parvie...</td>\n",
       "      <td>11</td>\n",
       "    </tr>\n",
       "    <tr>\n",
       "      <th>40</th>\n",
       "      <td>30150850</td>\n",
       "      <td>Le République démocratique du Congo a obtenu a...</td>\n",
       "      <td>RDC-FMI: le Gouvernement obtient deux accords ...</td>\n",
       "      <td>2024-11-14 06:13:00</td>\n",
       "      <td>https://actualite.cd/2024/11/14/rdc-fmi-le-gou...</td>\n",
       "      <td>11</td>\n",
       "    </tr>\n",
       "    <tr>\n",
       "      <th>54</th>\n",
       "      <td>29878435</td>\n",
       "      <td>Le premier programme, connu sous le nom de Pro...</td>\n",
       "      <td>Deux programmes conclus entre la RDC et le FMI...</td>\n",
       "      <td>2024-11-14 11:35:06</td>\n",
       "      <td>https://actu30.cd/2024/11/deux-programmes-conc...</td>\n",
       "      <td>11</td>\n",
       "    </tr>\n",
       "    <tr>\n",
       "      <th>59</th>\n",
       "      <td>29878468</td>\n",
       "      <td>L’IGF salue cet « exploit historique » qui, d’...</td>\n",
       "      <td>Conclusion de deux programmes RDC – FMI : l’IG...</td>\n",
       "      <td>2024-11-14 05:21:53</td>\n",
       "      <td>https://actu30.cd/2024/11/conclusion-de-deux-p...</td>\n",
       "      <td>11</td>\n",
       "    </tr>\n",
       "    <tr>\n",
       "      <th>65</th>\n",
       "      <td>29883387</td>\n",
       "      <td>Lors d’une conférence co-animée avec le minist...</td>\n",
       "      <td>Deux programmes conclus entre la RDC et le FMI...</td>\n",
       "      <td>2024-11-14 00:00:00</td>\n",
       "      <td>https://www.mediacongo.net/article-actualite-1...</td>\n",
       "      <td>11</td>\n",
       "    </tr>\n",
       "  </tbody>\n",
       "</table>\n",
       "</div>"
      ],
      "text/plain": [
       "    database_id                                            content  \\\n",
       "14     30213784  Au nom de la République, il a rendu une fière ...   \n",
       "19     30213905  Econews La coopération entre la République Dém...   \n",
       "27     30179506  Le programme soutenu par la FEC vise à favoris...   \n",
       "40     30150850  Le République démocratique du Congo a obtenu a...   \n",
       "54     29878435  Le premier programme, connu sous le nom de Pro...   \n",
       "59     29878468  L’IGF salue cet « exploit historique » qui, d’...   \n",
       "65     29883387  Lors d’une conférence co-animée avec le minist...   \n",
       "\n",
       "                                                title            posted_at  \\\n",
       "14  La RDC obtient 2,87 milliards USD du FMI : bel...  2024-11-14 00:00:00   \n",
       "19  Avec plus de 550 millions USD en trois ans, la...  2024-11-15 00:00:00   \n",
       "27  La RDC et le FMI parviennent à un accord au ni...  2024-11-15 00:00:00   \n",
       "40  RDC-FMI: le Gouvernement obtient deux accords ...  2024-11-14 06:13:00   \n",
       "54  Deux programmes conclus entre la RDC et le FMI...  2024-11-14 11:35:06   \n",
       "59  Conclusion de deux programmes RDC – FMI : l’IG...  2024-11-14 05:21:53   \n",
       "65  Deux programmes conclus entre la RDC et le FMI...  2024-11-14 00:00:00   \n",
       "\n",
       "                                                  url  labels  \n",
       "14  https://econewsrdc.com/la-rdc-obtient-287-mill...      11  \n",
       "19  https://econewsrdc.com/avec-plus-de-550-millio...      11  \n",
       "27  https://econewsrdc.com/la-rdc-et-le-fmi-parvie...      11  \n",
       "40  https://actualite.cd/2024/11/14/rdc-fmi-le-gou...      11  \n",
       "54  https://actu30.cd/2024/11/deux-programmes-conc...      11  \n",
       "59  https://actu30.cd/2024/11/conclusion-de-deux-p...      11  \n",
       "65  https://www.mediacongo.net/article-actualite-1...      11  "
      ]
     },
     "execution_count": 28,
     "metadata": {},
     "output_type": "execute_result"
    }
   ],
   "source": [
    "test_data.query(\"labels == 11\")"
   ]
  },
  {
   "cell_type": "code",
   "execution_count": null,
   "metadata": {},
   "outputs": [],
   "source": []
  }
 ],
 "metadata": {
  "kernelspec": {
   "display_name": "my virtualenviron",
   "language": "python",
   "name": ".venv"
  },
  "language_info": {
   "codemirror_mode": {
    "name": "ipython",
    "version": 3
   },
   "file_extension": ".py",
   "mimetype": "text/x-python",
   "name": "python",
   "nbconvert_exporter": "python",
   "pygments_lexer": "ipython3",
   "version": "3.10.4"
  }
 },
 "nbformat": 4,
 "nbformat_minor": 2
}
