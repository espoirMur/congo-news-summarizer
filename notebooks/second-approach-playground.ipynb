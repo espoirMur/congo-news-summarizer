{
 "cells": [
  {
   "cell_type": "markdown",
   "id": "e46fd974",
   "metadata": {},
   "source": [
    "## Reading the data from LocalFile\n",
    "\n",
    "Alternatively to reading the data from the database you can read it form the CSV file at this [path](../data/2024-11-06-news.csv) and load it in a dataframe named `news_df`.\n"
   ]
  },
  {
   "cell_type": "code",
   "execution_count": null,
   "id": "9148ae99",
   "metadata": {},
   "outputs": [],
   "source": [
    "import pandas as pd"
   ]
  },
  {
   "cell_type": "code",
   "execution_count": null,
   "id": "d8678601",
   "metadata": {},
   "outputs": [],
   "source": [
    "from pathlib import Path\n",
    "current_directory = Path.cwd()"
   ]
  },
  {
   "cell_type": "code",
   "execution_count": null,
   "id": "6ea737f2",
   "metadata": {},
   "outputs": [],
   "source": []
  },
  {
   "cell_type": "code",
   "execution_count": null,
   "id": "202d267f",
   "metadata": {},
   "outputs": [],
   "source": [
    "data_path = current_directory.joinpath(\"data\", \"2025-10-9-news.csv\")"
   ]
  },
  {
   "cell_type": "code",
   "execution_count": null,
   "id": "7bbb698d",
   "metadata": {},
   "outputs": [],
   "source": [
    "news_df = pd.read_csv(data_path, index_col=0, sep='|')"
   ]
  },
  {
   "cell_type": "code",
   "execution_count": null,
   "id": "c33c6e29",
   "metadata": {},
   "outputs": [],
   "source": [
    "news_df.shape"
   ]
  },
  {
   "cell_type": "code",
   "execution_count": null,
   "id": "c06330c5",
   "metadata": {},
   "outputs": [],
   "source": [
    "print(len(news_df.sample(1).content.values[0].split(\"\\nn\")))"
   ]
  },
  {
   "cell_type": "code",
   "execution_count": null,
   "id": "b5c4247c",
   "metadata": {},
   "outputs": [],
   "source": [
    "news_df.head()"
   ]
  },
  {
   "cell_type": "markdown",
   "id": "8a4a19b3",
   "metadata": {},
   "source": [
    "Things I need to do:\n",
    "\n",
    "- Perform the cluster on tile and and paragraph(chunks)\n",
    "\n",
    "- For each cluster generates questions and answers that can be answers by it.\n",
    "- Improve summarization and then do evaluation of the summaries using summarization evaluation metrics."
   ]
  },
  {
   "cell_type": "code",
   "execution_count": null,
   "id": "a33af152",
   "metadata": {},
   "outputs": [],
   "source": [
    "content_paragraphs = news_df.content.str.strip().str.split(\"\\nn\").explode().to_frame()"
   ]
  },
  {
   "cell_type": "code",
   "execution_count": null,
   "id": "d947f60b",
   "metadata": {},
   "outputs": [],
   "source": [
    "content_length = content_paragraphs.content.str.strip().str.len()"
   ]
  },
  {
   "cell_type": "markdown",
   "id": "bb6fadfd",
   "metadata": {},
   "source": [
    "Get content of more than 50 characters."
   ]
  },
  {
   "cell_type": "code",
   "execution_count": null,
   "id": "019d1af7",
   "metadata": {},
   "outputs": [],
   "source": [
    "content_paragraphs = content_paragraphs.loc[content_length > 50]"
   ]
  },
  {
   "cell_type": "code",
   "execution_count": null,
   "id": "0cd133db",
   "metadata": {},
   "outputs": [],
   "source": [
    "content_paragraphs"
   ]
  },
  {
   "cell_type": "code",
   "execution_count": null,
   "id": "99192f28",
   "metadata": {},
   "outputs": [],
   "source": [
    "content_paragraphs = content_paragraphs.merge(news_df[['title']], how='inner', left_index=True, right_index=True)"
   ]
  },
  {
   "cell_type": "code",
   "execution_count": null,
   "id": "6d871136",
   "metadata": {},
   "outputs": [],
   "source": [
    "chunks_df= content_paragraphs.content.str.cat(content_paragraphs.title, sep=\"\\n\\n\").to_frame()"
   ]
  },
  {
   "cell_type": "code",
   "execution_count": null,
   "id": "a8d53948",
   "metadata": {},
   "outputs": [],
   "source": [
    "chunks_df[\"title\"] = content_paragraphs.title"
   ]
  },
  {
   "cell_type": "code",
   "execution_count": null,
   "id": "ea7f4620",
   "metadata": {},
   "outputs": [],
   "source": [
    "chunks_df = chunks_df.reset_index(drop=True)\n",
    "chunks_df.head()"
   ]
  },
  {
   "cell_type": "markdown",
   "id": "d8187a14",
   "metadata": {},
   "source": []
  },
  {
   "cell_type": "markdown",
   "id": "6e700daa",
   "metadata": {},
   "source": [
    "The bellow phase I have split each text in different paragraphs, and then I considered each paragraph as a chunk.\n",
    "\n",
    "On top of each paragraph I added the title of the post where it was found."
   ]
  },
  {
   "cell_type": "markdown",
   "id": "c2712d47",
   "metadata": {},
   "source": [
    "## 2. Embedding phase.\n",
    "\n",
    "\n"
   ]
  },
  {
   "cell_type": "code",
   "execution_count": null,
   "id": "76e37b94",
   "metadata": {},
   "outputs": [],
   "source": [
    "embedding_model_id = \"dunzhang/stella_en_400M_v5\""
   ]
  },
  {
   "cell_type": "code",
   "execution_count": null,
   "id": "ab197a21",
   "metadata": {},
   "outputs": [],
   "source": [
    "current_directory"
   ]
  },
  {
   "cell_type": "code",
   "execution_count": null,
   "id": "59f42be9",
   "metadata": {},
   "outputs": [],
   "source": [
    "model_path = current_directory.joinpath(embedding_model_id)"
   ]
  },
  {
   "cell_type": "code",
   "execution_count": null,
   "id": "26667b5b",
   "metadata": {},
   "outputs": [],
   "source": [
    "embedding_model_path = current_directory.joinpath(\"models\", embedding_model_id)"
   ]
  },
  {
   "cell_type": "code",
   "execution_count": null,
   "id": "377afda3",
   "metadata": {},
   "outputs": [],
   "source": [
    "from src.summarizer.cluster_modeler import HierarchicalClusterModeler\n",
    "from src.summarizer.data_puller import DataPuller\n",
    "from src.summarizer.embeddings_computer import EmbeddingsComputer"
   ]
  },
  {
   "cell_type": "code",
   "execution_count": null,
   "id": "e03ba651",
   "metadata": {},
   "outputs": [],
   "source": [
    "embedding_modeller = EmbeddingsComputer(embedding_model_id=embedding_model_id)"
   ]
  },
  {
   "cell_type": "code",
   "execution_count": null,
   "id": "1102e216",
   "metadata": {},
   "outputs": [],
   "source": [
    "chunks_df.shape"
   ]
  },
  {
   "cell_type": "code",
   "execution_count": null,
   "id": "97307381",
   "metadata": {},
   "outputs": [],
   "source": [
    "embedding_documents = embedding_modeller.run(\n",
    "    documents=chunks_df[\"content\"])"
   ]
  },
  {
   "cell_type": "code",
   "execution_count": null,
   "id": "92fa6ef1",
   "metadata": {},
   "outputs": [],
   "source": [
    "cluster_modeler = HierarchicalClusterModeler()"
   ]
  },
  {
   "cell_type": "code",
   "execution_count": null,
   "id": "38fe17bb",
   "metadata": {},
   "outputs": [],
   "source": [
    "important_news_df = cluster_modeler.run(\n",
    "    today_news_embeddings=embedding_documents, documents=chunks_df\n",
    ")"
   ]
  },
  {
   "cell_type": "code",
   "execution_count": null,
   "id": "a7a91fa6",
   "metadata": {},
   "outputs": [],
   "source": [
    "important_news_df.query(\"labels == 28\").title.unique()"
   ]
  },
  {
   "cell_type": "markdown",
   "id": "a1ba8aff",
   "metadata": {},
   "source": [
    "i"
   ]
  },
  {
   "cell_type": "code",
   "execution_count": null,
   "id": "b2706463",
   "metadata": {},
   "outputs": [],
   "source": [
    "important_news_df.labels.unique()"
   ]
  },
  {
   "cell_type": "markdown",
   "id": "f2ff9261",
   "metadata": {},
   "source": [
    "Ohh let do GenAI,\n",
    "\n",
    "Let stop investing in Machine Learning and Invest in GenAI\n",
    "\n",
    "1 year later: \n",
    "\n",
    "https://www.theregister.com/2025/08/18/generative_ai_zero_return_95_percent/"
   ]
  }
 ],
 "metadata": {
  "kernelspec": {
   "display_name": ".venv",
   "language": "python",
   "name": "python3"
  },
  "language_info": {
   "codemirror_mode": {
    "name": "ipython",
    "version": 3
   },
   "file_extension": ".py",
   "mimetype": "text/x-python",
   "name": "python",
   "nbconvert_exporter": "python",
   "pygments_lexer": "ipython3",
   "version": "3.10.4"
  }
 },
 "nbformat": 4,
 "nbformat_minor": 5
}
