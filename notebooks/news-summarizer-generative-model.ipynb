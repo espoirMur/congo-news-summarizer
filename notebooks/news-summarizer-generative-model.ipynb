{
 "cells": [
  {
   "cell_type": "code",
   "execution_count": 1,
   "metadata": {},
   "outputs": [
    {
     "name": "stderr",
     "output_type": "stream",
     "text": [
      "/Users/esp.py/Projects/Personal/congo-news-summarizer/.venv/lib/python3.10/site-packages/tqdm/auto.py:21: TqdmWarning: IProgress not found. Please update jupyter and ipywidgets. See https://ipywidgets.readthedocs.io/en/stable/user_install.html\n",
      "  from .autonotebook import tqdm as notebook_tqdm\n"
     ]
    }
   ],
   "source": [
    "from src.llm.generator import LLamaCppGeneratorComponent"
   ]
  },
  {
   "cell_type": "code",
   "execution_count": 2,
   "metadata": {},
   "outputs": [],
   "source": [
    "prompt = \"You are a french news reporter\"\n",
    "model_name = \"Qwen/Qwen2.5-1.5B-Instruct\""
   ]
  },
  {
   "cell_type": "code",
   "execution_count": 13,
   "metadata": {},
   "outputs": [],
   "source": [
    "%load_ext dotenv"
   ]
  },
  {
   "cell_type": "code",
   "execution_count": 14,
   "metadata": {},
   "outputs": [],
   "source": [
    "%dotenv ./.env_local -o"
   ]
  },
  {
   "cell_type": "code",
   "execution_count": 15,
   "metadata": {},
   "outputs": [],
   "source": [
    "llama_cpp_generator = LLamaCppGeneratorComponent(\n",
    "    api_url=\"http://127.0.0.1:8001\",\n",
    "    model_name=model_name,\n",
    "    prompt=prompt\n",
    ")"
   ]
  },
  {
   "cell_type": "code",
   "execution_count": 16,
   "metadata": {},
   "outputs": [
    {
     "data": {
      "text/plain": [
       "True"
      ]
     },
     "execution_count": 16,
     "metadata": {},
     "output_type": "execute_result"
    }
   ],
   "source": [
    "llama_cpp_generator._ping_api()"
   ]
  },
  {
   "cell_type": "code",
   "execution_count": 17,
   "metadata": {},
   "outputs": [],
   "source": [
    "summarization_prompt = \"\"\"\n",
    "Give a short summary 2 to 3 sentences in french of the following document:\n",
    "{{content}}\n",
    " Describes it in a style of a french new paper reporters.\n",
    "\n",
    "Don't summarize each document separately, the content in all the documents should be summarized.\n",
    "\n",
    "The summary should be in french not in English\n",
    "\"\"\""
   ]
  },
  {
   "cell_type": "code",
   "execution_count": null,
   "metadata": {},
   "outputs": [],
   "source": []
  },
  {
   "cell_type": "markdown",
   "metadata": {},
   "source": [
    "### Download the File"
   ]
  },
  {
   "cell_type": "code",
   "execution_count": 18,
   "metadata": {},
   "outputs": [],
   "source": [
    "from src.shared.cloud_storage import BackBlazeCloudStorage"
   ]
  },
  {
   "cell_type": "code",
   "execution_count": 19,
   "metadata": {},
   "outputs": [],
   "source": [
    "cloud_storage = BackBlazeCloudStorage(environment=\"local\")"
   ]
  },
  {
   "cell_type": "code",
   "execution_count": 20,
   "metadata": {},
   "outputs": [],
   "source": [
    "filename = \"news-clusters-2024-11-20-to-2024-11-18.csv\""
   ]
  },
  {
   "cell_type": "code",
   "execution_count": 21,
   "metadata": {},
   "outputs": [],
   "source": [
    "BUCKET_NAME = \"congonews-clusters\""
   ]
  },
  {
   "cell_type": "code",
   "execution_count": 22,
   "metadata": {},
   "outputs": [],
   "source": [
    "import pandas as pd"
   ]
  },
  {
   "cell_type": "code",
   "execution_count": 23,
   "metadata": {},
   "outputs": [],
   "source": [
    "from tempfile import NamedTemporaryFile"
   ]
  },
  {
   "cell_type": "code",
   "execution_count": 28,
   "metadata": {},
   "outputs": [],
   "source": [
    "today_news_file = cloud_storage.download_by_name(\n",
    "    bucket_name=BUCKET_NAME, file_name=filename)\n",
    "with NamedTemporaryFile(delete=True, suffix=\".csv\") as temp_file:\n",
    "    today_news_file.save_to(temp_file.name)\n",
    "    today_news_df = pd.read_csv(temp_file.name, sep=\"|\", index_col=0)"
   ]
  },
  {
   "cell_type": "code",
   "execution_count": 29,
   "metadata": {},
   "outputs": [
    {
     "data": {
      "text/html": [
       "<div>\n",
       "<style scoped>\n",
       "    .dataframe tbody tr th:only-of-type {\n",
       "        vertical-align: middle;\n",
       "    }\n",
       "\n",
       "    .dataframe tbody tr th {\n",
       "        vertical-align: top;\n",
       "    }\n",
       "\n",
       "    .dataframe thead th {\n",
       "        text-align: right;\n",
       "    }\n",
       "</style>\n",
       "<table border=\"1\" class=\"dataframe\">\n",
       "  <thead>\n",
       "    <tr style=\"text-align: right;\">\n",
       "      <th></th>\n",
       "      <th>database_id</th>\n",
       "      <th>content</th>\n",
       "      <th>title</th>\n",
       "      <th>posted_at</th>\n",
       "      <th>url</th>\n",
       "      <th>labels</th>\n",
       "    </tr>\n",
       "  </thead>\n",
       "  <tbody>\n",
       "    <tr>\n",
       "      <th>0</th>\n",
       "      <td>31617542</td>\n",
       "      <td>Même s’il est prématuré de sonner le glas de l...</td>\n",
       "      <td>Révision ou changement de la Constitution  : l...</td>\n",
       "      <td>2024-11-20 00:00:00</td>\n",
       "      <td>https://econewsrdc.com/revision-ou-changement-...</td>\n",
       "      <td>76</td>\n",
       "    </tr>\n",
       "    <tr>\n",
       "      <th>1</th>\n",
       "      <td>31262380</td>\n",
       "      <td>Les Léopards reçoivent les Walya de l’Ethiopie...</td>\n",
       "      <td>Elim/CAN 2025 : « nous sommes entrain d’ évalu...</td>\n",
       "      <td>2024-11-19 10:08:00</td>\n",
       "      <td>https://actualite.cd/2024/11/19/elimcan-2025-n...</td>\n",
       "      <td>29</td>\n",
       "    </tr>\n",
       "    <tr>\n",
       "      <th>3</th>\n",
       "      <td>31615265</td>\n",
       "      <td>Dès lors, des élections législatives anticipée...</td>\n",
       "      <td>Bravo Sénégal !</td>\n",
       "      <td>2024-11-20 00:00:00</td>\n",
       "      <td>https://econewsrdc.com/bravo-senegal/</td>\n",
       "      <td>75</td>\n",
       "    </tr>\n",
       "    <tr>\n",
       "      <th>4</th>\n",
       "      <td>31615377</td>\n",
       "      <td>Quand il veut être clair et direct, il passe p...</td>\n",
       "      <td>Steve Mbikayi titille Modeste Bahati</td>\n",
       "      <td>2024-11-20 00:00:00</td>\n",
       "      <td>https://econewsrdc.com/steve-mbikayi-titille-m...</td>\n",
       "      <td>76</td>\n",
       "    </tr>\n",
       "    <tr>\n",
       "      <th>5</th>\n",
       "      <td>31615389</td>\n",
       "      <td>Le procès des «forages», désormais jugé par la...</td>\n",
       "      <td>Procès des «Forages» : tout chemin mène à l’an...</td>\n",
       "      <td>2024-11-20 00:00:00</td>\n",
       "      <td>https://econewsrdc.com/proces-des-forages-tout...</td>\n",
       "      <td>89</td>\n",
       "    </tr>\n",
       "  </tbody>\n",
       "</table>\n",
       "</div>"
      ],
      "text/plain": [
       "   database_id                                            content  \\\n",
       "0     31617542  Même s’il est prématuré de sonner le glas de l...   \n",
       "1     31262380  Les Léopards reçoivent les Walya de l’Ethiopie...   \n",
       "3     31615265  Dès lors, des élections législatives anticipée...   \n",
       "4     31615377  Quand il veut être clair et direct, il passe p...   \n",
       "5     31615389  Le procès des «forages», désormais jugé par la...   \n",
       "\n",
       "                                               title            posted_at  \\\n",
       "0  Révision ou changement de la Constitution  : l...  2024-11-20 00:00:00   \n",
       "1  Elim/CAN 2025 : « nous sommes entrain d’ évalu...  2024-11-19 10:08:00   \n",
       "3                                    Bravo Sénégal !  2024-11-20 00:00:00   \n",
       "4               Steve Mbikayi titille Modeste Bahati  2024-11-20 00:00:00   \n",
       "5  Procès des «Forages» : tout chemin mène à l’an...  2024-11-20 00:00:00   \n",
       "\n",
       "                                                 url  labels  \n",
       "0  https://econewsrdc.com/revision-ou-changement-...      76  \n",
       "1  https://actualite.cd/2024/11/19/elimcan-2025-n...      29  \n",
       "3              https://econewsrdc.com/bravo-senegal/      75  \n",
       "4  https://econewsrdc.com/steve-mbikayi-titille-m...      76  \n",
       "5  https://econewsrdc.com/proces-des-forages-tout...      89  "
      ]
     },
     "execution_count": 29,
     "metadata": {},
     "output_type": "execute_result"
    }
   ],
   "source": [
    "today_news_df.head()"
   ]
  },
  {
   "cell_type": "code",
   "execution_count": 30,
   "metadata": {},
   "outputs": [],
   "source": [
    "today_news_df = today_news_df.sort_values(by=\"labels\")"
   ]
  },
  {
   "cell_type": "code",
   "execution_count": 31,
   "metadata": {},
   "outputs": [
    {
     "data": {
      "text/html": [
       "<div>\n",
       "<style scoped>\n",
       "    .dataframe tbody tr th:only-of-type {\n",
       "        vertical-align: middle;\n",
       "    }\n",
       "\n",
       "    .dataframe tbody tr th {\n",
       "        vertical-align: top;\n",
       "    }\n",
       "\n",
       "    .dataframe thead th {\n",
       "        text-align: right;\n",
       "    }\n",
       "</style>\n",
       "<table border=\"1\" class=\"dataframe\">\n",
       "  <thead>\n",
       "    <tr style=\"text-align: right;\">\n",
       "      <th></th>\n",
       "      <th>database_id</th>\n",
       "      <th>content</th>\n",
       "      <th>title</th>\n",
       "      <th>posted_at</th>\n",
       "      <th>url</th>\n",
       "      <th>labels</th>\n",
       "    </tr>\n",
       "  </thead>\n",
       "  <tbody>\n",
       "    <tr>\n",
       "      <th>92</th>\n",
       "      <td>31562427</td>\n",
       "      <td>En sa qualité de coordonnateur du Conseil prés...</td>\n",
       "      <td>Sud global/Chine : François Muamba en appelle ...</td>\n",
       "      <td>2024-11-20 00:00:00</td>\n",
       "      <td>https://www.mediacongo.net/article-actualite-1...</td>\n",
       "      <td>4</td>\n",
       "    </tr>\n",
       "    <tr>\n",
       "      <th>138</th>\n",
       "      <td>31636465</td>\n",
       "      <td>Au cours de son intervention aux assises lors ...</td>\n",
       "      <td>Global South Think Tanks : François Muamba Tsh...</td>\n",
       "      <td>2024-11-20 11:09:00</td>\n",
       "      <td>https://actualite.cd/index.php/2024/11/20/glob...</td>\n",
       "      <td>4</td>\n",
       "    </tr>\n",
       "    <tr>\n",
       "      <th>140</th>\n",
       "      <td>31000142</td>\n",
       "      <td>La Première Ministre de la République Démocrat...</td>\n",
       "      <td>Conférence Africa Accelerating 2024 : Judith S...</td>\n",
       "      <td>2024-11-18 00:00:00</td>\n",
       "      <td>https://www.mediacongo.net/article-actualite-1...</td>\n",
       "      <td>6</td>\n",
       "    </tr>\n",
       "    <tr>\n",
       "      <th>111</th>\n",
       "      <td>31562749</td>\n",
       "      <td>Le Gouvernement attend d'abord du Canada d'êtr...</td>\n",
       "      <td>Judith Suminwa appelle le Canada à soutenir le...</td>\n",
       "      <td>2024-11-20 00:00:00</td>\n",
       "      <td>https://www.mediacongo.net/article-actualite-1...</td>\n",
       "      <td>6</td>\n",
       "    </tr>\n",
       "    <tr>\n",
       "      <th>17</th>\n",
       "      <td>31345599</td>\n",
       "      <td>novembre 18, 2024 RDC : “Je suis là pour obten...</td>\n",
       "      <td>RDC : “Je suis là pour obtenir des résultats” ...</td>\n",
       "      <td>2024-11-18 00:00:00</td>\n",
       "      <td>https://depeche.cd/2024/11/18/rdc-je-suis-la-p...</td>\n",
       "      <td>6</td>\n",
       "    </tr>\n",
       "    <tr>\n",
       "      <th>...</th>\n",
       "      <td>...</td>\n",
       "      <td>...</td>\n",
       "      <td>...</td>\n",
       "      <td>...</td>\n",
       "      <td>...</td>\n",
       "      <td>...</td>\n",
       "    </tr>\n",
       "    <tr>\n",
       "      <th>203</th>\n",
       "      <td>31288342</td>\n",
       "      <td>Après le moyen exceptionnel soulevé par la déf...</td>\n",
       "      <td>Instruction du procès « forages » : Mike Kasen...</td>\n",
       "      <td>2024-11-19 06:32:16</td>\n",
       "      <td>https://scooprdc.net/2024/11/19/instruction-du...</td>\n",
       "      <td>89</td>\n",
       "    </tr>\n",
       "    <tr>\n",
       "      <th>133</th>\n",
       "      <td>31261209</td>\n",
       "      <td>L’instruction du dossier des constructions des...</td>\n",
       "      <td>Selon François Rubota, l’idée de construire 1 ...</td>\n",
       "      <td>2024-11-19 09:59:00</td>\n",
       "      <td>https://actualite.cd/2024/11/19/selon-francois...</td>\n",
       "      <td>89</td>\n",
       "    </tr>\n",
       "    <tr>\n",
       "      <th>32</th>\n",
       "      <td>30996093</td>\n",
       "      <td>L’affaire mettant en cause François Rubota et ...</td>\n",
       "      <td>Dossier forages : les avocats de François Rubo...</td>\n",
       "      <td>2024-11-18 12:56:00</td>\n",
       "      <td>https://actualite.cd/2024/11/18/dossier-forage...</td>\n",
       "      <td>89</td>\n",
       "    </tr>\n",
       "    <tr>\n",
       "      <th>82</th>\n",
       "      <td>31241267</td>\n",
       "      <td>La Cour de cassation siégeant en matière répre...</td>\n",
       "      <td>Dossier Forages: la Cour a pris en délibéré la...</td>\n",
       "      <td>2024-11-19 07:59:00</td>\n",
       "      <td>https://actualite.cd/index.php/2024/11/19/doss...</td>\n",
       "      <td>89</td>\n",
       "    </tr>\n",
       "    <tr>\n",
       "      <th>5</th>\n",
       "      <td>31615389</td>\n",
       "      <td>Le procès des «forages», désormais jugé par la...</td>\n",
       "      <td>Procès des «Forages» : tout chemin mène à l’an...</td>\n",
       "      <td>2024-11-20 00:00:00</td>\n",
       "      <td>https://econewsrdc.com/proces-des-forages-tout...</td>\n",
       "      <td>89</td>\n",
       "    </tr>\n",
       "  </tbody>\n",
       "</table>\n",
       "<p>160 rows × 6 columns</p>\n",
       "</div>"
      ],
      "text/plain": [
       "     database_id                                            content  \\\n",
       "92      31562427  En sa qualité de coordonnateur du Conseil prés...   \n",
       "138     31636465  Au cours de son intervention aux assises lors ...   \n",
       "140     31000142  La Première Ministre de la République Démocrat...   \n",
       "111     31562749  Le Gouvernement attend d'abord du Canada d'êtr...   \n",
       "17      31345599  novembre 18, 2024 RDC : “Je suis là pour obten...   \n",
       "..           ...                                                ...   \n",
       "203     31288342  Après le moyen exceptionnel soulevé par la déf...   \n",
       "133     31261209  L’instruction du dossier des constructions des...   \n",
       "32      30996093  L’affaire mettant en cause François Rubota et ...   \n",
       "82      31241267  La Cour de cassation siégeant en matière répre...   \n",
       "5       31615389  Le procès des «forages», désormais jugé par la...   \n",
       "\n",
       "                                                 title            posted_at  \\\n",
       "92   Sud global/Chine : François Muamba en appelle ...  2024-11-20 00:00:00   \n",
       "138  Global South Think Tanks : François Muamba Tsh...  2024-11-20 11:09:00   \n",
       "140  Conférence Africa Accelerating 2024 : Judith S...  2024-11-18 00:00:00   \n",
       "111  Judith Suminwa appelle le Canada à soutenir le...  2024-11-20 00:00:00   \n",
       "17   RDC : “Je suis là pour obtenir des résultats” ...  2024-11-18 00:00:00   \n",
       "..                                                 ...                  ...   \n",
       "203  Instruction du procès « forages » : Mike Kasen...  2024-11-19 06:32:16   \n",
       "133  Selon François Rubota, l’idée de construire 1 ...  2024-11-19 09:59:00   \n",
       "32   Dossier forages : les avocats de François Rubo...  2024-11-18 12:56:00   \n",
       "82   Dossier Forages: la Cour a pris en délibéré la...  2024-11-19 07:59:00   \n",
       "5    Procès des «Forages» : tout chemin mène à l’an...  2024-11-20 00:00:00   \n",
       "\n",
       "                                                   url  labels  \n",
       "92   https://www.mediacongo.net/article-actualite-1...       4  \n",
       "138  https://actualite.cd/index.php/2024/11/20/glob...       4  \n",
       "140  https://www.mediacongo.net/article-actualite-1...       6  \n",
       "111  https://www.mediacongo.net/article-actualite-1...       6  \n",
       "17   https://depeche.cd/2024/11/18/rdc-je-suis-la-p...       6  \n",
       "..                                                 ...     ...  \n",
       "203  https://scooprdc.net/2024/11/19/instruction-du...      89  \n",
       "133  https://actualite.cd/2024/11/19/selon-francois...      89  \n",
       "32   https://actualite.cd/2024/11/18/dossier-forage...      89  \n",
       "82   https://actualite.cd/index.php/2024/11/19/doss...      89  \n",
       "5    https://econewsrdc.com/proces-des-forages-tout...      89  \n",
       "\n",
       "[160 rows x 6 columns]"
      ]
     },
     "execution_count": 31,
     "metadata": {},
     "output_type": "execute_result"
    }
   ],
   "source": [
    "today_news_df.sort_values(by=\"labels\")"
   ]
  },
  {
   "cell_type": "markdown",
   "metadata": {},
   "source": [
    "### Prompt"
   ]
  },
  {
   "cell_type": "code",
   "execution_count": 33,
   "metadata": {},
   "outputs": [],
   "source": [
    "from pprint import pprint"
   ]
  },
  {
   "cell_type": "code",
   "execution_count": 34,
   "metadata": {},
   "outputs": [
    {
     "name": "stdout",
     "output_type": "stream",
     "text": [
      "(\"Le 14 novembre dernier, lors du lancement officiel de l'Alliance des Groupes \"\n",
      " 'de réflexion du Sud Global à Nianjing en Chine, François Muamba Tshishimbi, '\n",
      " 'coordonnateur du Conseil présidentiel de veille stratégique (CPVS), a '\n",
      " \"rappelé la responsabilité historique de la Chine d'accompagner les pays en \"\n",
      " 'voie de développement dans leur vocation de diversifier leur base de '\n",
      " 'production au profit des industries manufacturières et de services, plutôt '\n",
      " 'que des exportations primaires traditionnelles. Il a invité la Chine à '\n",
      " 'éviter que ces pays du Sud restent cantonner dans leur rôle classique de '\n",
      " 'fournisseur des matières premières, ce qui renforcerait leur position '\n",
      " 'défavorable dans la division internationale du travail. Pour François Muamba '\n",
      " 'Tshishimbi, le changement de paradigme est la condition sine qua non pour '\n",
      " \"développer et pérenniser la coopération inter Sud Global sur fond d'égalité, \"\n",
      " 'amitié sincère et davantage gagnant-gagnant. Il a également salué le '\n",
      " \"lancement de l'Alliance des Groupes de réflexion du Sud, soulignant sa \"\n",
      " 'nature féconde et son intention de soutenir la RDC dans ses efforts pour '\n",
      " 'jouer un rôle actif comme « plaque tournante dans la sous-région d’Afrique '\n",
      " '».')\n"
     ]
    },
    {
     "data": {
      "text/plain": [
       "92                                                                                                  Sud global/Chine : François Muamba en appelle au renforcement de l'unité et la confiance mutuelle\n",
       "138    Global South Think Tanks : François Muamba Tshishimbi appelle la chine à accompagner les pays en développement dans la diversification de produits d’industries manufacturières | Actualite.cd\n",
       "Name: title, dtype: object"
      ]
     },
     "metadata": {},
     "output_type": "display_data"
    },
    {
     "name": "stdout",
     "output_type": "stream",
     "text": [
      "------------------------------\n",
      "('La Première Ministre de la République Démocratique du Congo (RDC), Judith '\n",
      " 'Suminwa Tuluka, est arrivée à Ottawa pour participer à la conférence Africa '\n",
      " 'Accelerating 2024. Organisée par la Chambre de commerce Canada-Afrique et le '\n",
      " 'gouvernement canadien, cette rencontre vise à renforcer les relations '\n",
      " 'économiques entre la RDC et le Canada. La conférence, axée sur la création '\n",
      " \"de partenariats stratégiques et durables, a pour objectif d'ouvrir de \"\n",
      " \"nouvelles opportunités d'investissement et de promouvoir une coopération \"\n",
      " 'bilatérale fondée sur des principes de bénéfices mutuels. En sa qualité de '\n",
      " 'représentante de la RDC, la Première Ministre Suminwa Tuluka aura '\n",
      " \"l'opportunité d'aborder plusieurs enjeux cruciaux, tels que l'amélioration \"\n",
      " \"de l'environnement des affaires en RDC, l'attraction d'investissements \"\n",
      " \"étrangers et le soutien aux secteurs stratégiques comme l'infrastructure, \"\n",
      " \"l'énergie et les ressources naturelles. Le dialogue entre les acteurs \"\n",
      " \"économiques canadiens et congolais devrait permettre d'explorer des \"\n",
      " 'initiatives concrètes pour stimuler la croissance et favoriser des '\n",
      " 'partenariats gagnant-gagnant. Cette rencontre intervient dans un contexte où '\n",
      " 'la RDC cherche à diversifier ses relations économiques et à attirer des '\n",
      " 'investisseurs étrangers, tout en consolidant sa position sur la scène '\n",
      " 'internationale.')\n"
     ]
    },
    {
     "data": {
      "text/plain": [
       "140    Conférence Africa Accelerating 2024 : Judith Suminwa à Ottawa pour représenter la RDC et renforcer les partenariats gagnant-gagnant avec le Canada\n",
       "111                                                                 Judith Suminwa appelle le Canada à soutenir le retour de la paix dans l'Est de la RDC\n",
       "17                                                       RDC : “Je suis là pour obtenir des résultats” Judith Suminwa à la diaspora congolaise du Canada)\n",
       "43                               RDC-Canada : Judith Suminwa présente les priorités de son Gouvernement au Président de la chambre des communes du Canada\n",
       "Name: title, dtype: object"
      ]
     },
     "metadata": {},
     "output_type": "display_data"
    },
    {
     "name": "stdout",
     "output_type": "stream",
     "text": [
      "------------------------------\n",
      "('La République Démocratique du Congo et le Fonds Monétaire International ont '\n",
      " 'signé un accord préliminaire pour deux nouveaux programmes économiques et '\n",
      " 'financiers. Le premier vise à favoriser la croissance et la diversification '\n",
      " 'économique, tandis que le second soutient la lutte contre le changement '\n",
      " 'climatique. Ces accords, soutenus par des facilités du FMI, sont prévus pour '\n",
      " \"être approuvés par le Conseil d'Administration en janvier 2025. Le \"\n",
      " \"gouvernement a salué ces accords, soulignant l'importance de la mise en \"\n",
      " 'œuvre des réformes liées à ces programmes avec le Fonds Monétaire '\n",
      " 'International.')\n"
     ]
    },
    {
     "data": {
      "text/plain": [
       "135    RDC-FMI : Judith Suminwa presse ses ministres à s'engager dans la mise en œuvre des réformes convenues dans le nouvel accord de service | Actualite.cd\n",
       "58                                                   « Le taux global de mise en œuvre des réformes évalué à 21% » (vice-Premier Ministre en charge du  Plan)\n",
       "97                                                         La question de l’assainissement de l’économie congolaise débattue au Conseil économique et sociale\n",
       "Name: title, dtype: object"
      ]
     },
     "metadata": {},
     "output_type": "display_data"
    },
    {
     "name": "stdout",
     "output_type": "stream",
     "text": [
      "------------------------------\n",
      "('La République Démocratique du Congo (RDC) occupe la présidence tournante '\n",
      " \"mensuelle du Conseil de Paix et de Sécurité (CPS) de l'Union africaine (UA) \"\n",
      " 'pour novembre 2024. Cette réunion stratégique, qui se tient à Kinshasa, est '\n",
      " 'axée sur le thème \"La mise en œuvre des programmes de Désarmement, '\n",
      " 'Démobilisation et Réinsertion (DDR) et de Développement et Reconstruction '\n",
      " 'Post-conflit (DRPC)\". Organisée par la ministre d\\'État aux Affaires '\n",
      " 'étrangères, Coopération internationale et Francophonie, Thérèse Kayikwamba '\n",
      " 'Wagner, la réunion regroupe 11 ambassadeurs et représentants des 15 États '\n",
      " 'membres du CPS. Elle vise à renforcer la compréhension et la coordination '\n",
      " 'des programmes DDR et DRPC, définir le rôle des parties prenantes, évaluer '\n",
      " 'les progrès réalisés, partager les bonnes pratiques et identifier les défis '\n",
      " \"pour améliorer l'efficacité de ces programmes. La RDC, membre du CPS depuis \"\n",
      " 'le 1er avril 2024 pour un mandat de deux ans, met en avant son engagement à '\n",
      " 'promouvoir la paix et la reconstruction post-conflit sur le continent '\n",
      " 'africain.')\n"
     ]
    },
    {
     "data": {
      "text/plain": [
       "181    RDC : Kinshasa accueille la 1245ᵉ réunion du Conseil de Paix et de Sécurité de l’Union africaine sur les défis du DDR et de la reconstruction post-conflit | Actualite.cd\n",
       "121                                                                                      RDC: Ouverture à Kinshasa de la 1245e réunion du conseil de paix et de sécurité de l’UA\n",
       "14                            RDC: ouverture des travaux de la 1245e réunion du Conseil de Paix et de Sécurité (CPS) de l'UA axés notamment sur le programmes DDR | Actualite.cd\n",
       "Name: title, dtype: object"
      ]
     },
     "metadata": {},
     "output_type": "display_data"
    },
    {
     "name": "stdout",
     "output_type": "stream",
     "text": [
      "------------------------------\n",
      "(\"Le 18 novembre 2024, le Conseil de l'Union européenne a adopté une enveloppe \"\n",
      " \"supplémentaire de 20 millions d'euros pour renforcer les Forces de défense \"\n",
      " 'rwandaises (RDF) dans la province de Cabo Delgado au Mozambique. Cette aide '\n",
      " 'vise à soutenir les RDF dans leur lutte contre le terrorisme et à aider à '\n",
      " \"maintenir l'engagement rwandais dans cette région instable. Cette décision \"\n",
      " 'intervient dans un contexte tendu avec la RDC, où le Rwanda est accusé de '\n",
      " 'soutenir le groupe rebelle M23. La Belgique a également condamné '\n",
      " 'systématiquement le soutien du Rwanda au M23 et appelé le pays à retirer ses '\n",
      " \"troupes de l'Est de la RDC.\")\n"
     ]
    },
    {
     "data": {
      "text/plain": [
       "80     L'UE renforce son soutien aux troupes rwandaises au Mozambique, malgré les critiques récurrentes de Kinshasa | Actualite.cd\n",
       "75                                                              Guerre de l’Est : la Belgique condamne le soutien du Rwanda au M23\n",
       "101                      Malgré les pressions de la RDC : l’UE renouvelle son aide financière aux troupes rwandaises au Mozambique\n",
       "Name: title, dtype: object"
      ]
     },
     "metadata": {},
     "output_type": "display_data"
    },
    {
     "name": "stdout",
     "output_type": "stream",
     "text": [
      "------------------------------\n",
      "('Un membre du syndicat de TRANSCO, Didier Kimbumbu, a reçu une déclaration du '\n",
      " \"président de l'Assemblée Nationale, Vital Kamerhe, concernant la prise en \"\n",
      " 'charge des revendications des travailleurs. Le Président a promis '\n",
      " \"d'intervenir pour inclure le barème salarial dans le Projet de loi de \"\n",
      " \"Finances 2025. Le syndicat a souligné que TRANSCO n'a plus les ressources \"\n",
      " 'nécessaires pour régler les arriérés de salaires et que la dépréciation '\n",
      " 'monétaire rend le paiement des salaires difficile.')\n"
     ]
    },
    {
     "data": {
      "text/plain": [
       "190    Budget 2025 : le président de l’Assemblée nationale rassure de la prise en charge du barème salarial des agents de TRANSCO\n",
       "110    Budget 2025 : le président de l’Assemblée nationale rassure de la prise en charge du barème salarial des agents de Transco\n",
       "Name: title, dtype: object"
      ]
     },
     "metadata": {},
     "output_type": "display_data"
    },
    {
     "name": "stdout",
     "output_type": "stream",
     "text": [
      "------------------------------\n",
      "(\"L'As Maniema Union a remporté sa cinquième victoire en phase du groupe B du \"\n",
      " 'championnat national, Ligue 1, ce mercredi 20 novembre. Les unionistes ont '\n",
      " 'remporté la victoire 1-0 contre le Celeste FC lors de la 7e journée. Après '\n",
      " 'la première période dominée par les unionistes avec un score de zéro but '\n",
      " 'partout, les hommes de Papy Kimoto vont accélérer au retour de la pause avec '\n",
      " \"des incursions dans le camp des chérubins jusqu'à l'obtention de l’unique \"\n",
      " 'but de la partie à la 63e minute de jeu grâce à Jonathan Kanu. Malgré les '\n",
      " 'multiples tentatives, Celeste ne parviendra pas à faire face à Maniema Union '\n",
      " \"et s'enfoncera encore un peu plus. Ce score permet à Maniema Union de \"\n",
      " 'consolider sa première place avec 17 points désormais sur 7 matchs.')\n"
     ]
    },
    {
     "data": {
      "text/plain": [
       "115                                                      Foot – Ligue 1 : Renaissance du Congo renoue avec la victoire\n",
       "24          Ligue 1 : Maniema Union sécurise son fauteuil de leader, Celeste s'enfonce encore davantage | Actualite.cd\n",
       "184    Ligue 1 : Face aux Aigles du Congo, l’OC Renaissance arrache une troisième victoire de la saison | Actualite.cd\n",
       "Name: title, dtype: object"
      ]
     },
     "metadata": {},
     "output_type": "display_data"
    },
    {
     "name": "stdout",
     "output_type": "stream",
     "text": [
      "------------------------------\n",
      "('Les finales de la 36ème édition de la Coupe du Congo de la discipline se '\n",
      " 'dérouleront ce mercredi 20 novembre au Stade des Martyrs de la Pentecôte de '\n",
      " 'Kinshasa. Les deux équipes kinoises, sans véritable adversaire depuis '\n",
      " 'plusieurs saisons, dominent respectivement Mazembe (32-29) et Scorpion '\n",
      " '(28-19). Cette année, les résultats sont prometteurs pour les équipes '\n",
      " 'kinoises, malgré la trêve observée pendant trois ans en raison du manque de '\n",
      " 'infrastructures. Les finales féminines opposeront Héritage aux lushoises de '\n",
      " 'Mazembe, tandis que le masculin se déroulera entre la Jeunesse Sportive de '\n",
      " 'Kinshasa (JSK) et Scorpion.')\n"
     ]
    },
    {
     "data": {
      "text/plain": [
       "114                        Handball/Coupe du Congo: La JSK et Héritage poursuivent avec leur hégémonie | Actualite.cd\n",
       "25     Handball/Coupe du Congo: Les verdicts de la 39ème édition seront connus ce mercredi 20 novembre | Actualite.cd\n",
       "Name: title, dtype: object"
      ]
     },
     "metadata": {},
     "output_type": "display_data"
    },
    {
     "name": "stdout",
     "output_type": "stream",
     "text": [
      "------------------------------\n",
      "('Le FCF Mazembe a remporté une victoire incroyable (3-1) contre les Edo '\n",
      " 'Queens du Nigeria lors de la demi-finale de la Ligue des Champions féminine '\n",
      " 'de la CAF disputée à Casablanca ce mardi 19 novembre. Cette qualification '\n",
      " 'historique pour la finale, après deux participations précédentes, marque le '\n",
      " \"premier tournoi de l'histoire du club congolais. Le match a été marqué par \"\n",
      " \"une détermination et une persévérance jusqu'au bout des joueuses de Mazembe, \"\n",
      " 'menées par Merveille Kanjinga qui égalisa à la 89ème minute. Les corbeaux '\n",
      " \"affronteront l'AS FAR du Maroc en finale ce samedi 18 novembre.\")\n"
     ]
    },
    {
     "data": {
      "text/plain": [
       "129                         CAF-C1/dames : « le secret de ce match a été le mental... » (Lamia Boumedhi) | Actualite.cd\n",
       "107                       Ligue des Champions féminine : le TP Mazembe arrache une qualification historique en finale !\n",
       "9                                   CAF - C1/Dames : Renversant, Mazembe ira chercher le sacre en finale | Actualite.cd\n",
       "179    CAF-C1/dames : « pour cette demi-finale, nous allons nous battre jusqu'à la fin» (Lamia Boumedhi) | Actualite.cd\n",
       "44                                                        Foot – Ligue des Champions CAF Dames : Mazembe file en finale\n",
       "146                               Mazembe féminin en finale de la Ligue des Champions féminine de la CAF | Actualite.cd\n",
       "Name: title, dtype: object"
      ]
     },
     "metadata": {},
     "output_type": "display_data"
    },
    {
     "name": "stdout",
     "output_type": "stream",
     "text": [
      "------------------------------\n",
      "(\"La RDC a perdu contre l'Ethiopie lors de la dernière journée des \"\n",
      " \"éliminatoires pour la Coupe d'Afrique des Nations 2025. Les Léopards ont été \"\n",
      " 'battus 1-2 à domicile, une défaite qui a marqué le terme de leur campagne '\n",
      " 'éliminatoire. Malgré deux défaites consécutives, les RDC terminent la phase '\n",
      " 'éliminatoire en première position du groupe H avec 12 points, devant la '\n",
      " \"Tanzanie (10 points) et l'Ethiopie (4 points). Le sélectionneur des Léopards \"\n",
      " \"a admis que cette défaite était une déception et qu'elle apportait des \"\n",
      " 'enseignements pour son staff et son équipe. La RDC espère pouvoir se '\n",
      " 'remettre en route pour la prochaine Coupe du monde 2026.')\n"
     ]
    },
    {
     "data": {
      "text/plain": [
       "176                                                                    Éliminatoires CAN 2025 : la RDC termine par une défaite contre l’Éthiopie\n",
       "128                                                                   Elim/CAN 2025 : « le fautif, c'est moi» (Sébastien Desabre) | Actualite.cd\n",
       "15                                                                              Elim/CAN 2025 :Les Léopards douchés par les Walya | Actualite.cd\n",
       "113    Elim CAN Maroc 2025 : « demain, on va mettre une équipe forcément nouvelle, on verra ce que ça donne » (Sebastien Desabre) | Actualite.cd\n",
       "19                                                          Foot – Éliminatoires CAN 2025 : La RDC clôture par une deuxième défaite consécutive \n",
       "Name: title, dtype: object"
      ]
     },
     "metadata": {},
     "output_type": "display_data"
    },
    {
     "name": "stdout",
     "output_type": "stream",
     "text": [
      "------------------------------\n",
      "('Les Léopards de la République Démocratique du Congo (RDC) ont entamé les '\n",
      " \"préparatifs pour les éliminatoires de l'Afrobasket 2025 en Dakar, au \"\n",
      " 'Sénégal. Ils sont déjà sur place avec plusieurs joueurs et un staff '\n",
      " 'technique, dont Pierrot Ilunga, qui a été nommé par Michel Perrin, '\n",
      " 'entraineur principal. Les éliminatoires se dérouleront du vendredi 22 au '\n",
      " 'dimanche 24 novembre, avec des matchs contre les sud-soudanais, les '\n",
      " 'Tunisiens et les Maliens. Les Léopards dames ont terminé la préparation pour '\n",
      " \"la Coupe d'Afrique des Nations (CAN) de la semaine dernière à Kinshasa, où \"\n",
      " 'elles ont remporté leur stage en Portugal après 3 défaites serrées face à '\n",
      " \"leurs homologues portugais. La RDC s'apprête à accueillir cette compétition \"\n",
      " 'pour la première fois de son histoire.')\n"
     ]
    },
    {
     "data": {
      "text/plain": [
       "33     Elim/Afrobasket 2025: Une partie de la délégation des Léopards a rejoint Dakar | Actualite.cd\n",
       "143              Elim/Afrobasket 2025: 11 Léopards s’entrainent déjà du côté de Dakar | Actualite.cd\n",
       "29                       Handball/CAN 2024: Comme prévu, les Léopards sont à Kinshasa | Actualite.cd\n",
       "Name: title, dtype: object"
      ]
     },
     "metadata": {},
     "output_type": "display_data"
    },
    {
     "name": "stdout",
     "output_type": "stream",
     "text": [
      "------------------------------\n",
      "(\"Les Léopards de la RDC recevront l'Ethiopie ce mardi 19 novembre à Kinshasa. \"\n",
      " 'Le match est attendu pour célébrer la qualification des Léopards pour la CAN '\n",
      " '2025 et le début des éliminatoires pour la Coupe du Monde 2026. Sébastien '\n",
      " 'Desabre, sélectionneur national, a annoncé que Mayele sera titulaire à '\n",
      " \"l'attaque et que des changements dans le onze devraient être faits pour \"\n",
      " 'tester les joueurs. Les Léopards ont perdu leur dernière rencontre face au '\n",
      " 'Syli de la Guinée mais gardent leur place en tête des éliminatoires.')\n"
     ]
    },
    {
     "data": {
      "text/plain": [
       "1      Elim/CAN 2025 : « nous sommes entrain d’ évaluer le poste d’attaquant...On a pas un titulaire à part entière» (Sebastien Desabre) | Actualite.cd\n",
       "183                                Elim/CAN 2025 : « Voir Dimitry réussir avec ses clean sheets nous motive à travailler» (Lionel Mpasi) | Actualite.cd\n",
       "39                                                  Éliminatoires CAN 2025 : Sébastien Desabre va faire tourner son effectif contre l’Éthiopie ce mardi\n",
       "112                                                                         Défaite de la RDC face à l’Ethiopie : Sébastien Désarbre reconnait sa faute\n",
       "69                                                                      RDC-Ethiopie : Sébastien Désarbre sûr de la victoire des Léopards sur les Walya\n",
       "122                                Éliminatoires CAN 2025 – RDC vs Ethiopie  : “Il faudra impérativement remporter cette rencontre” (Sébastien Desabre)\n",
       "Name: title, dtype: object"
      ]
     },
     "metadata": {},
     "output_type": "display_data"
    },
    {
     "name": "stdout",
     "output_type": "stream",
     "text": [
      "------------------------------\n",
      "('Les Léopards U20 de la RDC ont terminé leur stage de préparation en Arabie '\n",
      " 'Saoudite par un match nul (1-1) face aux Falcons Verts. Malgré cette '\n",
      " 'défaite, le sélectionneur Guy Bukasa reste satisfait du contenu proposé par '\n",
      " \"l'équipe. Les Léopards continueront de se préparer pour la CAN U20 qui se \"\n",
      " 'tiendra en 2025.')\n"
     ]
    },
    {
     "data": {
      "text/plain": [
       "130    Léopards U20 : « l’objectif est de créer une symbiose... instaurer l'esprit d'équipe... qui rendront plus fort cette sélection pour la CAN» (Guy Bukasa) | Actualite.cd\n",
       "45                                                                              Foot – Stage de préparation CAN U20 : La RDC clôture par un match nul face à l’Arabie Saoudite\n",
       "200                                                             Elim/CAN 2025 : \"C’est de l’excitation de jouer devant le public de Kinshasa» (Nathanaël Mbuku) | Actualite.cd\n",
       "127                                                                                 Leopards U20 : les Léopardeaux terminent avec un nul face aux Falcons Verts | Actualite.cd\n",
       "Name: title, dtype: object"
      ]
     },
     "metadata": {},
     "output_type": "display_data"
    },
    {
     "name": "stdout",
     "output_type": "stream",
     "text": [
      "------------------------------\n",
      "('Le président ukrainien Volodymyr Zelensky a déclaré au Parlement européen le '\n",
      " \"1.000e jour de l'invasion russe en Ukraine, martelant que Poutine ne \"\n",
      " \"s'arrêtera pas de lui-même et qu'il n'y aura pas de négociations \"\n",
      " 'significatives sans destruction des bases aériennes russes et des capacités '\n",
      " 'de production de missiles et de drones. Le président ukrainien a également '\n",
      " 'égratigné certains dirigeants européens qui pensent aux élections plutôt que '\n",
      " 'l\\'Ukraine. Selon lui, la Russie n\\'aura pas de \"réelle motivation pour '\n",
      " 'engager des négociations significatives sans incendie dans ses dépôts de '\n",
      " 'munitions sur le territoire russe\". Le millième jour de l\\'invasion russe en '\n",
      " \"Ukraine marque également une commémoration en soutien à l'Ukraine à \"\n",
      " 'Bruxelles, avec des drapeaux ukrainiens déployés autour des institutions '\n",
      " 'européennes.')\n"
     ]
    },
    {
     "data": {
      "text/plain": [
       "73    Volodymyr Zelensky s’exprime au Parlement européen : « La Russie est la seule à s’opposer à la paix » (vidéo)\n",
       "76                              Bruxelles aux couleurs de l'Ukraine pour marquer le 1 000e jour de l'invasion russe\n",
       "Name: title, dtype: object"
      ]
     },
     "metadata": {},
     "output_type": "display_data"
    },
    {
     "name": "stdout",
     "output_type": "stream",
     "text": [
      "------------------------------\n",
      "('Dans la province de la Tshopo, au Kisangani, plusieurs cas de justice '\n",
      " 'populaire ont été enregistrés. Un jeune homme présumé voleur a été retrouvé '\n",
      " 'mort brûlé vif dans un quartier de Mangobo le 18 novembre 2024. La '\n",
      " 'population a pris la main pour punir ce présumé voleur, qui aurait tenté de '\n",
      " \"voler chez un particulier. Les responsables des droits de l'homme condamnent \"\n",
      " 'cette pratique. Des cas similaires ont été enregistrés dans la ville de '\n",
      " 'Kananga ces derniers jours, avec 4 cas de justice populaire enregistrés en '\n",
      " 'seulement 4 jours.')\n"
     ]
    },
    {
     "data": {
      "text/plain": [
       "86     Tshopo : justice populaire à Mangobo, un présumé voleur brûlé\n",
       "159          Un présumé voleur brûlé vif par la population à Kananga\n",
       "Name: title, dtype: object"
      ]
     },
     "metadata": {},
     "output_type": "display_data"
    },
    {
     "name": "stdout",
     "output_type": "stream",
     "text": [
      "------------------------------\n",
      "('Le prix du carburant à Kisangani, la capitale de la province de Tshopo, a '\n",
      " 'doublé depuis le 18 novembre. Les stations sont fermées et les prix '\n",
      " \"fluctuent entre 7000 et 8000 FC pour un litre d'essence, contre 4500 FC \"\n",
      " 'auparavant. La carence du carburant est attribuée à la dégradation de la '\n",
      " 'RN4, avec des camions citernes incapable de rejoindre la ville. Les '\n",
      " 'taxis-motos ont revu à la hausse leurs prix, affectant négativement le coût '\n",
      " 'de transport dans la ville.')\n"
     ]
    },
    {
     "data": {
      "text/plain": [
       "57                      Hausse de prix du carburant à Kisangani : le litre d'essence passe de 4500 à 8000 FC\n",
       "142    Hausse de prix de carburant à Kisangani toujours à cause de l’état chaotique de la RN4 | Actualite.cd\n",
       "Name: title, dtype: object"
      ]
     },
     "metadata": {},
     "output_type": "display_data"
    },
    {
     "name": "stdout",
     "output_type": "stream",
     "text": [
      "------------------------------\n",
      "('Une centaine de véhicules sont bloqués depuis une semaine sur la RN27, un '\n",
      " 'tronçon dégradé dans le nord-est de Bunia. Selon Freddy Lotsima, la route '\n",
      " 'est presque impraticable suite à un grand bourbier. Les coupables sont '\n",
      " \"suspects d'opérer de nuit pour voler les biens des voyageurs.\")\n"
     ]
    },
    {
     "data": {
      "text/plain": [
       "91                                                Ituri/Délabrement de la RN27 : une centaine de véhicules bloqués sur le tronçon Lopa-Iga\n",
       "62    Kongo central : des voyageurs surpris par des coupeurs de routes sur la RN1 à Lukala, argent et autres biens emportés | Actualite.cd\n",
       "Name: title, dtype: object"
      ]
     },
     "metadata": {},
     "output_type": "display_data"
    },
    {
     "name": "stdout",
     "output_type": "stream",
     "text": [
      "------------------------------\n",
      "(\"Le Festival Amani 2024, qui s'est déroulé à Goma, au Nord-Kivu, a réuni des \"\n",
      " 'artistes comme Ferré Gola et Voldie Mapenzi. Ces artistes ont offert des '\n",
      " 'performances dans le village Ihusi, où ils ont captivé le public avec leurs '\n",
      " 'chansons. Le festival a été une occasion pour les artistes de montrer leur '\n",
      " 'talent et pour la population de Goma de faire valoir la paix dans la région. '\n",
      " \"L'objectif du festival était de promouvoir la paix à travers la culture, en \"\n",
      " 'rassemblant des artistes, exposants, entrepreneurs, humanitaires, bénévoles, '\n",
      " \"festivaliers et autorités du pays. Le Festival Amani 2024 s'est clôturé avec \"\n",
      " 'une prestation de Ferré Gola, qui a été appréciée par la population locale.')\n"
     ]
    },
    {
     "data": {
      "text/plain": [
       "126                                                  Goma: Ferré Gola et plusieurs artistes brillent au Festival Amani 2024\n",
       "21     Au Festival Amani, Lucha interpelle le gouvernement sur la situation sécuritaire dans l'est de la RDC | Actualite.cd\n",
       "60                                                          Un concert de Ferré Gola marque la fin du festival Amani à Goma\n",
       "Name: title, dtype: object"
      ]
     },
     "metadata": {},
     "output_type": "display_data"
    },
    {
     "name": "stdout",
     "output_type": "stream",
     "text": [
      "------------------------------\n",
      "(\"L'ONG APVEC dénonce le silence des autorités congolaises depuis deux ans \"\n",
      " \"après l'arrestation de deux de ses membres Bob Liongo et Christian Nzumbi. \"\n",
      " \"Ils ont été arrêtés par les forces de l'ordre, mais la destination exacte \"\n",
      " \"est inconnue. L'ONG demande des actions pour faire la lumière sur leur sort \"\n",
      " \"et demande également à l'APVEC de mettre fin aux poursuites contre Éric \"\n",
      " \"Nganga et Crispus Katumba. L'OLPA a également exprimé son indignation face à \"\n",
      " \"l'interpellation de James Lopenda Djembe, directeur de la radio Owoto, dans \"\n",
      " \"la province du Sankuru. L'ONG a appelé les services de sécurité à respecter \"\n",
      " 'les garanties offertes par la législation nationale et les instruments '\n",
      " 'internationaux protégeant les droits des journalistes.')\n"
     ]
    },
    {
     "data": {
      "text/plain": [
       "189    RDC: dénonçant plus de deux ans de silence des autorités, l’APVEC réclame justice pour ses membres arrêtés et portés disparus à Kinshasa | Actualite.cd\n",
       "31                                                                        RDC : Le directeur de Radio Owoto interpellé par l’ANR à Katako-Kombe | Actualite.cd\n",
       "Name: title, dtype: object"
      ]
     },
     "metadata": {},
     "output_type": "display_data"
    },
    {
     "name": "stdout",
     "output_type": "stream",
     "text": [
      "------------------------------\n",
      "('Dans le Nord-Kivu au Congo, deux corps sans vie ont été découverts samedi à '\n",
      " \"Ngura, près de Nyamilima. Selon des sources locales, ils sont ceux d'un \"\n",
      " 'couple de cultivateurs tués par des combattants du M23. Les assaillants '\n",
      " \"avaient déjà interdit aux habitants de l'accéder dans leurs champs. Deux \"\n",
      " 'jeunes ont été tués lundi par les rebelles du M23 dans la localité de '\n",
      " 'Kimoka, située à environ 3 kilomètres au nord de Sake. Une première source '\n",
      " 'indique que les assaillants ont ouvert le feu depuis leur position à '\n",
      " 'Busakara, ciblant des civils qui menaient leurs activités rustiques. Une '\n",
      " 'autre source précise que les corps des victimes ont été transportés à la '\n",
      " 'morgue à Goma. Les attaques du M23 continuent dans cette zone, touchant '\n",
      " 'également les localités voisines, notamment le groupement Mupfuni Shanga.')\n"
     ]
    },
    {
     "data": {
      "text/plain": [
       "59               Rutshuru : 2 cultivateurs retrouvés morts dans leurs champs, des combattants du M23 pointés du doigt\n",
       "22    Masisi : deux jeunes tués et un autre blessé dans une nouvelle attaque des rebelles M23 à Kimoka | Actualite.cd\n",
       "27                                                          Djugu : 3 morts dans des affrontements entre deux milices\n",
       "Name: title, dtype: object"
      ]
     },
     "metadata": {},
     "output_type": "display_data"
    },
    {
     "name": "stdout",
     "output_type": "stream",
     "text": [
      "------------------------------\n",
      "('Dans cette région du Kwango, les Forces Armées de la République Démocratique '\n",
      " 'du Congo ont mené une opération de patrouille qui a conduit à la capture de '\n",
      " 'trois miliciens Mobondo et à la récupération de cinq armes de type calibre '\n",
      " \"12. Cela s'inscrit dans l'opération Ngemba, visant à sécuriser la population \"\n",
      " \"touchée par l'activisme du groupe armé Mobondo. Le capitaine Antony \"\n",
      " 'Mwalushayi a souligné la collaboration entre les forces de défense et de '\n",
      " 'sécurité et la population locale. Cette opération est menée dans le cadre de '\n",
      " \"la pacification du grand Bandundu, qui est touché par l'activisme du \"\n",
      " 'phénomène Mobondo.')\n"
     ]
    },
    {
     "data": {
      "text/plain": [
       "35                                                            Kwango : 3 miliciens Mobondo capturés et 5 armes récupérées par les FARDC\n",
       "116    Kwango : l'armée annonce avoir capturé trois miliciens Mobondo et récupéré plusieurs effets militaires à Popokaba | Actualite.cd\n",
       "Name: title, dtype: object"
      ]
     },
     "metadata": {},
     "output_type": "display_data"
    },
    {
     "name": "stdout",
     "output_type": "stream",
     "text": [
      "------------------------------\n",
      "('Dans le nord du Congo, les forces de sécurité ont affronté les rebelles ADF '\n",
      " 'qui ont incendié 33 maisons, brûlé 9 motos et emporté 20 chèvres. Le '\n",
      " 'porte-parole des FARDC-UPDF déclare que des opérations conjointes sont en '\n",
      " 'cours dans la région. La Convention pour le respect des droits humains '\n",
      " '(CRDH) indique que 96 personnes ont disparu, 33 maisons ont été incendiées '\n",
      " 'et 20 chèvres ont été emportées. Le vice-président du gouvernement de '\n",
      " \"l'Ituri, Jacquemain Shabani, a exprimé son inquiétude face à la présence \"\n",
      " 'massive des populations étrangères dans les territoires de Rutshuru et '\n",
      " 'Masisi, qui sont envahis par des autochtones. Les rebelles M23, soutenus par '\n",
      " 'le Rwanda, poursuivent leur expansion dans le Nord-Kivu. Une incursion des '\n",
      " \"ADF a causé la mort d'un militaire et a mis le feu à 1 voiture, 3 motos et 5 \"\n",
      " 'vélos.')\n"
     ]
    },
    {
     "data": {
      "text/plain": [
       "148                                                Ituri : plus de 300 civils tués depuis le début de l’année dans une seule chefferie du territoire de Mambasa (Rapport CRDH)\n",
       "123                                                                                        Ituri: 51 villages à Babila Babombi vidés des habitants suite aux attaques des ADF \n",
       "205    RDC : Jacquemain Shabani dénonce une forme d'épuration ethnique mise en place par le M23/RDF en ramenant les populations étrangères à Masisi et Rutshuru | Actualite.cd\n",
       "36                                                                                                         Beni : nouvelle attaque meurtrière des ADF signalée près de Kainama\n",
       "Name: title, dtype: object"
      ]
     },
     "metadata": {},
     "output_type": "display_data"
    },
    {
     "name": "stdout",
     "output_type": "stream",
     "text": [
      "------------------------------\n",
      "('Dans la soirée du 18 novembre 2024, un acte de vandalisme a visé le Mausolée '\n",
      " 'Patrice-Emery Lumumba.')\n"
     ]
    },
    {
     "data": {
      "text/plain": [
       "64                                                                                      Kinshasa : le mausolée de Lumumba vandalisé\n",
       "99                                           Le Gouvernement s’engage à restaurer le mausolée profané de Patrice Lumumba à Kinshasa\n",
       "61                                                            Vandalisme au Mausolée Lumumba : déjà six arrestations | Actualite.cd\n",
       "96                                                                          « Indignée », la famille Lumumba accuse le gouvernement\n",
       "145                                             Acte de vandalisme au Mausolée Patrice Lumumba : une enquête ouverte | Actualite.cd\n",
       "161    Acte de vandalisme au mausolée de Lumumba : « des mesures fermes seront prises pour sanctionner les auteurs » (Min. Culture)\n",
       "18                           Kinshasa-Vandalisme au Mausolée de Patrice Lumumba : La Ministre de la culture rassure la population !\n",
       "7                        Profanation du mausolée de Lumumba : un acte abominable et de nombreuses questions en suspens (Communiqué)\n",
       "Name: title, dtype: object"
      ]
     },
     "metadata": {},
     "output_type": "display_data"
    },
    {
     "name": "stdout",
     "output_type": "stream",
     "text": [
      "------------------------------\n",
      "(\"Dans un discours devant l'Assemblée nationale, le ministre des \"\n",
      " 'Infrastructures et travaux publics, Alexis Gizaro, a critiqué les projets de '\n",
      " 'développement financés par le gouvernement, accusant le gouvernement de ne '\n",
      " 'pas avoir accès aux moyens nécessaires pour leur réalisation. Il a également '\n",
      " 'dénoncé la situation dans la province de Mongala, où il y a 4 ministres qui '\n",
      " \"reviennent à chaque composition du gouvernement sans qu'aucune évolution \"\n",
      " \"n'ait eu lieu. Le député national Crispin Ngbundu Malengo a répliqué, \"\n",
      " \"accusant le pouvoir de ne pas se plaindre mais plutôt d'exercer la justice \"\n",
      " \"et l'équité dans la gestion des projets. Cette situation est considérée \"\n",
      " \"comme injuste par les électeurs qui souhaitent voir ces projets s'étendre \"\n",
      " 'sur toute la province.')\n"
     ]
    },
    {
     "data": {
      "text/plain": [
       "196                                                             Nord-Kivu : des députés encouragent le gouverneur à poursuivre la mise en œuvre des projets de développement\n",
       "204    Explications d’Alexis Gizaro sur la gestion des projets « Tshilejelu » et « Kinshasa zéro trou » : Le député national Crispin Ngbundu Malengo n’en croit pas un mot !\n",
       "Name: title, dtype: object"
      ]
     },
     "metadata": {},
     "output_type": "display_data"
    },
    {
     "name": "stdout",
     "output_type": "stream",
     "text": [
      "------------------------------\n",
      "('Le CSAC, en proie à des difficultés financières depuis plusieurs mois, '\n",
      " \"souffre de l'absence de frais de monitoring, de fonctionnement et de \"\n",
      " 'salaires pour ses employés. Christian Bosembe, président du CSAC, a '\n",
      " \"sollicité l'Inspection Générale des Finances (IGF) pour trouver une solution \"\n",
      " \"durable. L'IGF, dirigée par Jules Alingete, s'est engagée à soutenir \"\n",
      " \"l'institution dans sa démarche, assurant que l'implication de cet organe \"\n",
      " 'supérieur de contrôle dans le suivi des dossiers financiers permettra de '\n",
      " \"débloquer les fonds nécessaires pour le bon fonctionnement de l'institution. \"\n",
      " 'Cette démarche illustre la volonté du CSAC de surmonter ses difficultés '\n",
      " 'financières et de continuer à jouer un rôle clé dans la régulation de '\n",
      " \"l'audiovisuel et de la communication en RDC.\")\n"
     ]
    },
    {
     "data": {
      "text/plain": [
       "30                    RDC : Sans frais de fonctionnement depuis plusieurs mois, le CSAC sollicite l’intervention de l’IGF\n",
       "93                                      Le CSAC en difficultés financières:   Christian Bosembe sollicite l’aide de l’IGF\n",
       "6                                   Financièrement asphyxié, le CSAC frappe à la porte de l’IGF pour sauver l’institution\n",
       "201    CSAC : Sans frais de fonctionnement, ni salaires depuis plusieurs mois, Bosembe sollicite l’intervention de l’IGF.\n",
       "Name: title, dtype: object"
      ]
     },
     "metadata": {},
     "output_type": "display_data"
    },
    {
     "name": "stdout",
     "output_type": "stream",
     "text": [
      "------------------------------\n",
      "('Les syndicats de magistrats congolais ont critiqué mardi 19 novembre les '\n",
      " 'états généraux de la justice qui ont été clôturés le 16 novembre dernier. '\n",
      " 'Ils ont dénoncé un rapport final remis au président de la République qui ne '\n",
      " 'reflète pas les travaux en cours, notamment concernant la nature du Conseil '\n",
      " \"supérieur de la magistrature (CSM). Les syndicats ont décidé d'attaquer le \"\n",
      " \"ministre d'État en charge de la Justice et Garde des sceaux, Constant \"\n",
      " 'Mutamba, pour son implication dans la manipulation des conclusions des états '\n",
      " 'généraux. Ils ont également annoncé leur intention de traduire en justice le '\n",
      " 'ministre Constant Mutamba. Cette situation soulève des questions sur la '\n",
      " 'transparence du processus et les intentions réelles des autorités en matière '\n",
      " 'de réforme judiciaire. Les syndicats exigent une réforme profonde du système '\n",
      " 'judiciaire pour restaurer la confiance des citoyens.')\n"
     ]
    },
    {
     "data": {
      "text/plain": [
       "84                               RDC : les syndicats des magistrats rejettent le rapport final des états généraux de la justice et vont porter plainte | Actualite.cd\n",
       "151    Etats généraux de la justice : des syndicats de magistrats contestent la véracité du rapport final et promettent de remettre « l’original » à Félix Tshisekedi\n",
       "10                             Tension au sein de la magistrature après les États généraux de la Justice : des accusations graves contre le ministre Constant Mutamba\n",
       "Name: title, dtype: object"
      ]
     },
     "metadata": {},
     "output_type": "display_data"
    },
    {
     "name": "stdout",
     "output_type": "stream",
     "text": [
      "------------------------------\n",
      "(\"Le professeur Mvemba Dizolele, de l'Université Johns-Hopkins aux États-Unis, \"\n",
      " 'a animé un atelier de restitution des conclusions de sa recherche sur les 32 '\n",
      " 'ans de règne du Maréchal Mobutu Sese Seko. Cette étude, menée entre 2020 et '\n",
      " \"2023, a permis au professeur d'explorer des centaines de documents \"\n",
      " 'déclassifiés provenant des archives de la CIA, du Mossad et du Congrès '\n",
      " 'américain. Ses conclusions visent à enrichir le débat démocratique dans le '\n",
      " \"pays et à alimenter les discussions sur l'héritage de Mobutu. Le professeur \"\n",
      " \"a souligné l'importance d'un leadership fort et visionnaire, capable de \"\n",
      " 'prendre en compte les contributions variées de la société, et de tirer les '\n",
      " 'leçons du passé pour bâtir un avenir meilleur.')\n"
     ]
    },
    {
     "data": {
      "text/plain": [
       "85                           RDC : les 32 ans de règne du Maréchal Mobutu restitués au cours d'un atelier tenu au CEPAS | Actualite.cd\n",
       "191    RDC : « Si Mobutu a pu bâtir l’unité nationale, c’est parce qu’il a investi dans des programmes spécifiques » (Pr. Mvemba Pezo)\n",
       "108     « Il faut tirer les leçons du bon côté du régime du Maréchal Mobutu, notamment rebâtir l’unité nationale » (Professeur Mvemba)\n",
       "Name: title, dtype: object"
      ]
     },
     "metadata": {},
     "output_type": "display_data"
    },
    {
     "name": "stdout",
     "output_type": "stream",
     "text": [
      "------------------------------\n",
      "('Le Conseil supérieur de la magistrature et le Programme des Nations Unies '\n",
      " 'pour le Développement organisent une série de réunions sur les institutions '\n",
      " 'électorales en République démocratique du Congo. Ces discussions, qui se '\n",
      " 'dérouleront pendant trois jours, visent à renforcer le cadre législatif pour '\n",
      " \"traiter les contentieux électoraux. L'occasion est également d'échanger \"\n",
      " 'entre les différents acteurs de la société civile et des institutions '\n",
      " 'judiciaires pour améliorer les institutions électorales et la transparence '\n",
      " 'dans leur fonctionnement. Les conclusions seront ensuite transmises au '\n",
      " 'parlement, au gouvernement et à la Commission électorale nationale '\n",
      " 'indépendante.')\n"
     ]
    },
    {
     "data": {
      "text/plain": [
       "149                         RDC : des acteurs judiciaires et sociaux réflechissent sur l’amélioration du cadre légal de gestion de contentieux électoral\n",
       "50     « Pour le cycle électoral de 2028, la RDC doit sortir du système provisoire de l’enrôlement pour celui du recensement » (Paul-Gaspard Ngondankoy)\n",
       "Name: title, dtype: object"
      ]
     },
     "metadata": {},
     "output_type": "display_data"
    },
    {
     "name": "stdout",
     "output_type": "stream",
     "text": [
      "------------------------------\n",
      "('Pour Evelyne Mulemangabo, chargée des questions genre et inclusion au sein '\n",
      " 'de IFES, le programme She leads du projet Ndeke vise à doter les femmes des '\n",
      " 'compétences et connaissances nécessaires pour jouer un rôle de premier plan '\n",
      " 'dans la vie politique grâce à des formations adaptées aux contextes '\n",
      " 'débutant, intermédiaire et avancé. Au Sud-Kivu, 20 femmes ont été choisies '\n",
      " 'pour la phase pilote, parmi elles des femmes politiques, avocates, '\n",
      " 'entrepreneures et autres. Mamy Wema, femme she leads, soutient que le '\n",
      " 'programme She leads est dans le projet Ndeke exécuté par IFES et financé par '\n",
      " 'le gouvernement britannique via FCDO pour une durée de 6 mois dans 6 '\n",
      " 'provinces pilotes de la RDC, dont le Sud-Kivu. Le directeur de cabinet du '\n",
      " 'ministre de la justice a précisé que le gouvernement provincial assure '\n",
      " \"s'approprier ce programme qui oeuvre pour l'émancipation de la femme à tous \"\n",
      " \"les niveaux. La campagne de sensibilisation, d'identification et \"\n",
      " \"d'enregistrement de nouvelles entreprises lancée par l'Unité de Coordination \"\n",
      " 'du Projet d’Autonomisation des femmes entrepreneures et mise à niveau des '\n",
      " 'petites et moyennes entreprises pour la transformation économique et '\n",
      " 'l’emploi en RDC (TRANSFORME RDC) vise à offrir un accompagnement technique '\n",
      " 'et financier aux petites et moyennes entreprises congolaises. Les équipes de '\n",
      " 'Transforme RDC seront répandues sur terrain pour visiter ces entreprises, '\n",
      " \"les géolocaliser afin d'identifier l'emplacement de leurs activités. Les \"\n",
      " 'candidats doivent se référer aux critères de sélection pour postuler selon '\n",
      " 'les trois catégories: Femmes micro-entrepreneurs individuelles (réception '\n",
      " 'des candidatures clôturée); Nouvelles entreprises (entreprise en démarrage '\n",
      " 'ou activité formalisée ou en cours avec existence de 3 à 36 mois et les MPME '\n",
      " 'établies (activité formalisée avec existence de 3 ans et plus).')\n"
     ]
    },
    {
     "data": {
      "text/plain": [
       "131                          Sud-Kivu : IFES lance le programme \" she leads\" pour renforcer la participation des femmes aux processus politiques et électoraux | Actualite.cd\n",
       "83     Transforme RDC lance la campagne de sensibilisation, d'identification et d'enregistrement de nouvelles entreprises pour le concours de plans d'affaires | Actualite.cd\n",
       "Name: title, dtype: object"
      ]
     },
     "metadata": {},
     "output_type": "display_data"
    },
    {
     "name": "stdout",
     "output_type": "stream",
     "text": [
      "------------------------------\n",
      "('Le président Félix Tshisekedi a inauguré dimanche 17 novembre à Kipushi, '\n",
      " 'dans le Haut-Katanga, l\\'usine de production de zinc \"KICO\", fruit d\\'un '\n",
      " 'partenariat entre Gécamines et Ivanhoe Mines. Cette inauguration marque la '\n",
      " 'relance de la mine de Kipushi, arrêtée depuis 1993, considérée comme un '\n",
      " 'gisement de zinc de classe mondiale. Avec une capacité de production '\n",
      " 'annoncée de 45 000 tonnes de zinc par mois, Kipushi se distingue par ses '\n",
      " 'teneurs exceptionnellement élevées en zinc, dépassant 30%, bien au-dessus de '\n",
      " 'la moyenne mondiale (4-12%). Le projet KICO incarne une nouvelle dynamique '\n",
      " 'dans le secteur minier congolais. Le partenariat initial a été révisé pour '\n",
      " \"permettre à Gécamines d'augmenter progressivement sa participation de 32% à \"\n",
      " \"80% dans un délai de 12 ans, devenant ainsi l'actionnaire majoritaire et le \"\n",
      " 'propriétaire de la mine. La reprise de la production suscite beaucoup '\n",
      " \"d'espoir pour les communautés locales, qui espèrent qu'elle va avoir une \"\n",
      " 'incidence positive sur la vie socio-économique du territoire de Kipushi.')\n"
     ]
    },
    {
     "data": {
      "text/plain": [
       "8                    La relance de Kipushi place la RDC parmi les acteurs clés du marché mondial du zinc | Actualite.cd\n",
       "42      Sécurisation des sites miniers : le gouvernement va mettre en place une nouvelle stratégie (Jacquemain Shabani)\n",
       "72                                  La relance de l'exploitation du zinc consacre \"la renaissance de Kipushi\" (Notable)\n",
       "124    RDC: Jacquemain Shabani annonce la mise en place des nouvelles stratégies pour la sécurisation des sites miniers\n",
       "Name: title, dtype: object"
      ]
     },
     "metadata": {},
     "output_type": "display_data"
    },
    {
     "name": "stdout",
     "output_type": "stream",
     "text": [
      "------------------------------\n",
      "(\"Nicole Bwatshia, directrice adjointe du chef de l'État en charge des \"\n",
      " 'questions juridiques, a livré une déclaration devant le Palais de la Nation. '\n",
      " 'Elle a souligné que les personnes vivant avec handicap ont exprimé leur '\n",
      " 'soutien à la révision de la constitution, un projet porté par le président '\n",
      " 'Tshisekedi. Ces personnes ont également offert au président une chèvre et '\n",
      " 'une lampe tempête en guise de remerciement. La ministre déléguée en charge '\n",
      " 'des Personnes vivant avec handicap et autres personnes vulnérables, Irène '\n",
      " 'Esambo Diata, a visité le département de réadaptation fonctionnelle de '\n",
      " \"l'hôpital général de référence de Kinshasa pour apprendre de la capacité du \"\n",
      " 'département à produire des matériels orthopédiques.')\n"
     ]
    },
    {
     "data": {
      "text/plain": [
       "155                                                                                     RDC : des personnes vivant avec handicap favorables à la révision constitutionnelle\n",
       "98     Décret sur la médaille de la vaillance pour la patrie : la ministre Irène Esambo lance bientôt la production des matériels orthopédiques pour les militaires amputés\n",
       "Name: title, dtype: object"
      ]
     },
     "metadata": {},
     "output_type": "display_data"
    },
    {
     "name": "stdout",
     "output_type": "stream",
     "text": [
      "------------------------------\n",
      "('Le sénateur Jean Tshisekedi Kabasele, du Sénat, a organisé une mission '\n",
      " 'officielle à Kananga, chef-lieu de la province du Kasaï Central. Cette '\n",
      " \"mission, qui dure près d'une semaine, est le premier séminaire sur les \"\n",
      " 'capacités gouvernementales et assemblées provinciales. Elle vise à renforcer '\n",
      " 'les institutions provinciales en matière de gouvernance inclusive et '\n",
      " 'durable. Le sénateur a déclaré que le Sénat doit participer activement aux '\n",
      " 'activités de ce type pour garantir la participation des provinces dans les '\n",
      " 'décisions publiques.')\n"
     ]
    },
    {
     "data": {
      "text/plain": [
       "134                                RDC: le sénateur Jean Tshisekedi attendu à Kananga ce mardi dans le cadre d’une mission officielle | Actualite.cd\n",
       "180    Kasaï Central : début du séminaire de l’Assemblée provinciale et du gouvernement provincial en présence d’une mission du Sénat | Actualite.cd\n",
       "Name: title, dtype: object"
      ]
     },
     "metadata": {},
     "output_type": "display_data"
    },
    {
     "name": "stdout",
     "output_type": "stream",
     "text": [
      "------------------------------\n",
      "('Un nouvel arrêté gouvernemental provincial a été publié le 16 novembre 2024, '\n",
      " \"nommant une femme à la tête du ministère de l'Environnement et Développement \"\n",
      " 'durable. Le gouverneur Nkoso Kevani a déclaré vouloir rectifier le tir pour '\n",
      " 'prendre en compte la représentativité des femmes dans les nominations '\n",
      " \"gouvernementales. Cet arrêté a été suivi d'autres nominations, notamment de \"\n",
      " \"ministres provinciaux pour divers secteurs comme l'Intérieur, les Finances \"\n",
      " \"et Plan, l'Éducation, la Santé publique, les Infrastructures et le \"\n",
      " 'Développement rural. Le gouverneur Jean Bakomito Gambu a également nommé des '\n",
      " 'acteurs stratégiques pour améliorer la gestion provinciale, renforcer les '\n",
      " 'relations institutionnelles et le développement des investissements.')\n"
     ]
    },
    {
     "data": {
      "text/plain": [
       "81                                          Maï-Ndombe : le gouverneur Kevani modifie son premier arrêté et intègre une femme au sein du gouvernement  | Actualite.cd\n",
       "52    Haut-Uele : le gouverneur Bakomito signe des nouveaux arrêtés stratégiques pour l’amélioration de la gestion et le renforcement des relations institutionnelles\n",
       "Name: title, dtype: object"
      ]
     },
     "metadata": {},
     "output_type": "display_data"
    },
    {
     "name": "stdout",
     "output_type": "stream",
     "text": [
      "------------------------------\n",
      "(\"Le 18 novembre 2024, le chef de l'État a effectué une mission d'itinérance \"\n",
      " \"dans l'espace Grand Katanga. Il s'est rendu à la cité de Kanyama Kasese dans \"\n",
      " 'la province du Haut Lomami pour évaluer un programme agro-pastoral exécuté '\n",
      " 'par les bâtisseurs du Service national, dirigés par le Général Kasongo '\n",
      " 'Kabwik. Le président Félix Tshisekedi a encouragé les jeunes bâtisseurs à '\n",
      " 'persévérer dans leur apprentissage et leur engagement patriotique. Le '\n",
      " 'Service national a déjà remis plus de 1500 bancs aux établissements '\n",
      " 'scolaires et universitaires de Kinshasa, avec une production de 5 000 '\n",
      " 'hectares de maïs et des milliers de têtes de vaches en Kanyama Kasese. Le '\n",
      " \"ministre d'État en charge de l'Agriculture a également remis des matériels \"\n",
      " 'agricoles à la province du Haut-Katanga. La mission est le dernier point '\n",
      " \"d'une campagne agricole qui vise à produire au moins 60 000 hectares de \"\n",
      " 'terre dans tout le territoire national.')\n"
     ]
    },
    {
     "data": {
      "text/plain": [
       "65     Évaluation du programme agro-pastoral à Kanyama Kasese : le Président Félix Tshisekedi garantit les jeunes bâtisseurs de l'engagement de l'État congolais\n",
       "157                                                                  Tshisekedi aux ex – Kuluna de Kaniama Kasese : « L’État congolais ne vous oubliera jamais »\n",
       "102                Développement agricole : le ministre Grégoire Mutshail remet 10 tracteurs et plus de 300 000 tonnes de semences à la province du Haut-Katanga\n",
       "Name: title, dtype: object"
      ]
     },
     "metadata": {},
     "output_type": "display_data"
    },
    {
     "name": "stdout",
     "output_type": "stream",
     "text": [
      "------------------------------\n",
      "('Le 19 novembre 2024, le président de la République Félix Tshisekedi a '\n",
      " \"inauguré le nouveau siège de l'Assemblée provinciale du Haut-Katanga à \"\n",
      " 'Lubumbashi. Cette inauguration marque une étape importante dans la '\n",
      " \"modernisation de l'organisation provinciale, avec un hémicycle de 500 places \"\n",
      " 'assises et un parking de plus de 200 véhicules. Le gouverneur Jacques '\n",
      " \"Kyabula Katwe a souligné l'engagement du gouvernement pour développer \"\n",
      " \"l'épanouissement socio-économique de la province, en particulier dans le \"\n",
      " \"cadre des projets d'infrastructures mis en œuvre par le président \"\n",
      " \"Tshisekedi. Cette inauguration est l'une des deux inaugurales réalisées par \"\n",
      " \"le chef de l'État dans le Katanga, après celle du siège de l'Assemblée \"\n",
      " 'provinciale du Lualaba en octobre 2023 à Kolwezi.')\n"
     ]
    },
    {
     "data": {
      "text/plain": [
       "68                                                                          Lubumbashi : le Président Félix Tshisekedi reporte à nouveau l’inauguration de l’Assemblée provinciale du Haut-Katanga\n",
       "95                                                           Échanges avec les parlementaires du Haut-Katanga : Félix Tshisekedi affirme travailler pour laisser les bonnes bases à son successeur\n",
       "152                                                                                                        Haut-Katanga : Félix Tshisekedi inaugure le nouveau bâtiment de l’assemblée provinciale\n",
       "28     Haut-Katanga : à l'inauguration du nouveau siège de l'Assemblée provinciale, Jacques Kyabula a appelé à l'adhésion au changement de mentalité pour une nouvelle Constitution | Actualite.cd\n",
       "104                                                                                                    Haut-Katanga : le Président Tshisekedi inaugure le nouveau siège de l’Assemblée provinciale\n",
       "Name: title, dtype: object"
      ]
     },
     "metadata": {},
     "output_type": "display_data"
    },
    {
     "name": "stdout",
     "output_type": "stream",
     "text": [
      "------------------------------\n",
      "('Le Sénégal a connu une victoire électorale spectaculaire lors des '\n",
      " 'législatives anticipées. Le parti Pastef, dirigé par Ousmane Sonko, a '\n",
      " \"remporté une majorité absolue à l'Assemblée nationale, une première en \"\n",
      " 'Afrique pour un régime dictatorial. Les résultats fiables de la nouvelle '\n",
      " \"Assemblée devraient être publiés d'ici lundi 18 novembre. L'ancien président \"\n",
      " 'Macky Sall a dénoncé une \"fraude massive\" organisée par le Pastef. La RDC, '\n",
      " 'en revanche, a été moins rapide dans son processus électoral, prenant '\n",
      " 'seulement quelques semaines pour nommer un nouveau gouvernement après des '\n",
      " 'élections législatives en avril dernier. Le Gabon a également organisé un '\n",
      " 'référendum sur une nouvelle Constitution, qui a été approuvée par les '\n",
      " 'suffrages de 91,80% des électeurs. Les autorités ont renforcé le couvre-feu '\n",
      " \"pendant la période du processus électoral, mais aucun incident majeur n'a \"\n",
      " 'été signalé.')\n"
     ]
    },
    {
     "data": {
      "text/plain": [
       "3                                                                                                        Bravo Sénégal !\n",
       "55                                         Législatives au Sénégal : le parti au pouvoir revendique une \"large victoire\"\n",
       "56    Référendum sur la Constitution au Gabon : victoire massive du \"Oui\" avec  91,80 %, selon les résultats provisoires\n",
       "Name: title, dtype: object"
      ]
     },
     "metadata": {},
     "output_type": "display_data"
    },
    {
     "name": "stdout",
     "output_type": "stream",
     "text": [
      "------------------------------\n",
      "(\"Dans un contexte de révision constitutionnelle en cours au Congo, l'Union \"\n",
      " 'sacrée de la Nation (USN), soutenue par Félix Tshisekedi, est confrontée à '\n",
      " \"des pressions de son parti opposé, l'Union pour la Nation congolaise (UNPC). \"\n",
      " 'Modeste Bahati, Jean-Pierre Bemba et Vital Kamerhe sont particulièrement '\n",
      " 'impliqués dans cette situation. La révision constitutionnelle, qui pourrait '\n",
      " 'permettre à Tshisekedi de se présenter à un troisième mandat, est critiquée '\n",
      " \"par des sources comme Judith Suminwa Tuluka, qui souligne l'erreur de la \"\n",
      " \"rédaction concernant les émoluments du président. L'opposition au changement \"\n",
      " 'constitutionnel est également soutenue par le gouvernement, menacé par une '\n",
      " 'réélection potentiellement illégale si Tshisekedi ne se prononce pas '\n",
      " 'favorablement.')\n"
     ]
    },
    {
     "data": {
      "text/plain": [
       "0                Révision ou changement de la Constitution  : les ambigüités de Modeste Bahati\n",
       "175    À propos de sa prestation sur TV5Monde : Ça va dans tous les sens contre Judith Suminwa\n",
       "4                                                         Steve Mbikayi titille Modeste Bahati\n",
       "Name: title, dtype: object"
      ]
     },
     "metadata": {},
     "output_type": "display_data"
    },
    {
     "name": "stdout",
     "output_type": "stream",
     "text": [
      "------------------------------\n",
      "('Dans une vidéo publiée le 20 novembre 2024, Bernadette Tokwaulu, actrice '\n",
      " \"politique de l'opposition en République démocratique du Congo, déclare que \"\n",
      " 'Félix Tshisekedi dirige le pays dans le mensonge. Elle souligne que '\n",
      " \"l'article 217 ne permet pas de céder une partie de la terre à d'autres pays \"\n",
      " \"voisins, mais plutôt de signer des accords avec d'autres pays africains. \"\n",
      " \"Tokwaulu explique qu'il y a eu deux fautes de part Tshisekedi : dans un \"\n",
      " \"accord avec l'EAC, il a permis aux États membres d'acheter, vendre ou \"\n",
      " 'exploiter une partie de leur territoire ; et il a abandonné une menace de '\n",
      " \"cessez-le-feu à l'Est. Elle conclut que le pouvoir de Tshisekedi est \"\n",
      " 'contesté par la majorité du peuple congolais et que les accords '\n",
      " 'internationaux ne sont pas acceptables.')\n"
     ]
    },
    {
     "data": {
      "text/plain": [
       "88    Changement de la Constitution : Bernadette Tokwaulu relève deux faux pas de Félix Tshisekedi et lui promet son départ du pouvoir\n",
       "12                     Jean-Claude Katende : «Cette politique de tâtonnement est une des causes de l’occupation de nos terres à l’Est»\n",
       "Name: title, dtype: object"
      ]
     },
     "metadata": {},
     "output_type": "display_data"
    },
    {
     "name": "stdout",
     "output_type": "stream",
     "text": [
      "------------------------------\n",
      "(\"### Révision de la Constitution : Félix Tshisekedi face à l'Opposition\\n\"\n",
      " '\\n'\n",
      " '#### La Réunion des Forces Opposant et Sociales\\n'\n",
      " \"Le 20 novembre 2024, une réunion des forces politiques de l'opposition et \"\n",
      " \"sociales a été organisée à Kinshasa. Les principaux leaders de l'opposition \"\n",
      " 'ont déclaré que le projet de Félix Tshisekedi de modifier ou changer la '\n",
      " 'Constitution est inopportune, illégale et anti-constitutionnelle. Ils ont '\n",
      " 'estimé que cette initiative est une menace grave contre la cohésion '\n",
      " 'nationale et une haute trahison. Les leaders ont invité la population à se '\n",
      " 'mobiliser pour barrer la route à cette révision de la Constitution de 2006.\\n'\n",
      " '\\n'\n",
      " '#### Réaction de Augustin Kabuya\\n'\n",
      " \"Le Secrétaire général de l'Union pour la Démocratie et le Progrès Social \"\n",
      " '(Udps), parti au pouvoir, a réagi à la déclaration des leaders de '\n",
      " \"l'opposition. Il a accusé Tshisekedi d'avoir voulu s'éterniser au pouvoir en \"\n",
      " 'utilisant la révision de la Constitution comme moyen. Kabuya a souligné que '\n",
      " \"la Constitution est une œuvre de personnes sans mandat et n'a pas été \"\n",
      " 'réalisée par des hommes libres. Il a également déclaré que le président de '\n",
      " \"la République voulait utiliser cette révision pour s'éterniser au pouvoir.\\n\"\n",
      " '\\n'\n",
      " '#### Manifestations\\n'\n",
      " \"Les leaders de l'opposition ont prévenu que les manifestations sur le \"\n",
      " 'terrain seront organisées en conséquence. Ils ont souligné que Tshisekedi a '\n",
      " 'utilisé le même argument lors de la présidentielle de 2018, où il a prétendu '\n",
      " 'avoir gagné. Ils ont appelé à ne pas oublier les souffrances du peuple '\n",
      " 'congolais et à ne pas faire de fausse panique en prêchant une déformation '\n",
      " 'des termes constitutionnels.\\n'\n",
      " '\\n'\n",
      " '#### Réflexions de Moïse Katumbi\\n'\n",
      " \"Le leader de l'opposition Moïse Katumbi a réagi à la déclaration de Félix \"\n",
      " 'Tshisekedi. Il a accusé le président de vouloir se maintenir au pouvoir '\n",
      " \"au-delà de son second mandat usurpé et d'avoir une ambition autoritaire. \"\n",
      " \"Katumbi a également critiqué l'\")\n"
     ]
    },
    {
     "data": {
      "text/plain": [
       "74                                                                  « Félix Tshisekedi s’est dévoilé comme l’ennemi public numéro un, incarnant un régime dictatorial et sanguinaire » (Franck Diongo)\n",
       "87                                                                                                     Tentative de révision constitutionnelle : Kabila, Fayulu et Katumbi font bloc contre Tshisekedi\n",
       "166                                                                   RDC : Félix Tshisekedi clarifie sa position sur la révision de la Constitution devant les députés du Haut-Katanga | Actualite.cd\n",
       "163                                                                 RDC : Les opposants à la révision (ou changement) de la Constitution dénoncent un projet \"autoritaire et dangereux\" | Actualite.cd\n",
       "66     \"Je demande à Félix Tshisekedi de sélectionner 4 étudiants en 4ème année de Droit afin qu'ils lui expliquent de manière détaillée l'exposé des motifs de notre Constitution...\" (Martin Fayulu)\n",
       "77                                                  Révision de la Constitution : \"Félix Tshisekedi manipule l’article 217 et entretient la confusion pour se maintenir au pouvoir\" (Olivier Kamitatu)\n",
       "53                                                                                Kipushi : « Interdire de réfléchir sur la Constitution est une insulte à l’élite congolaise » (Président Tshisekedi)\n",
       "187                                                              Kabila, Fayulu, Katumbi et d’autres leaders de l’opposition forment un front uni contre la révision de la Constitution | Actualite.cd\n",
       "16                                                                     Polémique autour de l'article 217 de la Constitution : Fayulu dénonce l'interprétation « erronée » de Tshisekedi | Actualite.cd\n",
       "120                                                                                                   Tribune: “Delly Sesanga : Le sursaut d’un aspirant dictateur démasqué” (Jean thierry Monsenepwo)\n",
       "11                                                                                                            Moïse Katumbi : «Félix Tshisekedi ne reculera devant rien pour se maintenir au pouvoir…»\n",
       "182                                            Révision ou  changement de la constitution : Martin Fayulu promet d'être devant la population pour faire barrage au projet de Tshisekedi | Actualite.cd\n",
       "48                                                                                                                 Katumbi à Tshisekedi : « La souveraineté n’est pas à confondre avec le territoire »\n",
       "46                                                                               Révision de la constitution : Avec Kabila, Katumbi, Fayulu, l’Opposition fait bloc contre l’idée de Félix Tshisekedi \n",
       "63                                                                                     Réplique d'Augustin Kabuya à Martin Fayulu : \"C'est lui qui rêve comme un petit gamin dans une salle de cinéma\"\n",
       "Name: title, dtype: object"
      ]
     },
     "metadata": {},
     "output_type": "display_data"
    },
    {
     "name": "stdout",
     "output_type": "stream",
     "text": [
      "------------------------------\n",
      "('Le mouvement Lutte pour le changement (Lucha) est opposé au projet de '\n",
      " 'modification constitutionnelle en place. Ils affirment que la Constitution '\n",
      " 'actuelle est le fruit des efforts ardu et des sacrifices des Congolais, dont '\n",
      " \"les militants de l'UDPS. La Lucha a annoncé une série d'actions citoyennes \"\n",
      " 'pour défendre la Constitution à partir du 20 novembre 2024 dans tout le '\n",
      " 'pays.')\n"
     ]
    },
    {
     "data": {
      "text/plain": [
       "67                                                                                                  Kasaï : la Lucha Tshikapa dit non à la modification de la constitution\n",
       "170    Lucha à Félix Antoine Tshisekedi : \"Toute tentative pour vous éterniser au pouvoir par des velléités de modification constitutionnelle sera farouchement combattue\"\n",
       "195                                                                 La LUCHA annonce une mobilisation pour empêcher Félix Tshisekedi de se maintenir au pouvoir après 2028\n",
       "Name: title, dtype: object"
      ]
     },
     "metadata": {},
     "output_type": "display_data"
    },
    {
     "name": "stdout",
     "output_type": "stream",
     "text": [
      "------------------------------\n",
      "('### Révision de la Constitution en République Démocratique du Congo\\n'\n",
      " '\\n'\n",
      " '#### Contexte et État Actuel\\n'\n",
      " 'La République démocratique du Congo (RDC) est confrontée à un débat intense '\n",
      " 'sur la révision ou le changement de sa Constitution. Ce sujet suscite des '\n",
      " 'réactions fortes dans la classe politique congolaise, avec une majorité de '\n",
      " 'soutien pour cette initiative. Le président Félix Tshisekedi a affirmé son '\n",
      " 'intention de reformer la Constitution en 2025, mettant en place une '\n",
      " 'commission multidisciplinaire pour étudier les amendements nécessaires.\\n'\n",
      " '\\n'\n",
      " '#### Partenaires et Opposants\\n'\n",
      " 'Les partisans de la révision de la Constitution incluent des figures comme '\n",
      " 'Maître Junior Tshisuaka, qui souhaite que le pays bascule vers un régime '\n",
      " \"présidentiel. Cependant, l'opposition et certaines sections de la société \"\n",
      " 'civile sont opposées à cette initiative, considérant que la Constitution '\n",
      " 'actuelle ne correspond pas aux réalités du pays.\\n'\n",
      " '\\n'\n",
      " '#### Débats Politiques\\n'\n",
      " 'Dans la province de Lomami, la Nouvelle société civile congolaise soutient '\n",
      " \"la révision de la Constitution, affirmant qu'elle est nécessaire pour \"\n",
      " \"l'avenir du pays. Le ministre des Finances, Doudou Fwamba Likunde, suggère \"\n",
      " 'que la révision de la Constitution sera un levier de développement pour la '\n",
      " 'RDC.\\n'\n",
      " '\\n'\n",
      " '#### Réactions et Controverses\\n'\n",
      " \"Le président de l’ECIDé, Patrick Muyaya, affirme qu'il déployera toute sa \"\n",
      " 'énergie pour gagner cette bataille. Moïse Katumbi accuse le président de la '\n",
      " 'République de piétiner le sang et la mémoire des martyrs qui avaient '\n",
      " \"consenti des sacrifices pour que l'actuelle constitution ne soit pas \"\n",
      " 'révisée.\\n'\n",
      " '\\n'\n",
      " '#### Conclusion\\n'\n",
      " 'Le débat sur la révision ou le changement de la Constitution en RDC est en '\n",
      " 'cours, suscitant une forte controverse dans la classe politique congolaise. '\n",
      " 'Les partisans et opposants expriment leurs opinions, mettant en lumière les '\n",
      " 'divergences politiques et les défis auxquels la RDC fait face.')\n"
     ]
    },
    {
     "data": {
      "text/plain": [
       "198                                     RDC : « Sesanga a porté le combat pour la révision de certaines dispositions et non du changement de la constitution » (Rodrigue Ramazani)\n",
       "194                                                         Jacques Kyabula : « Face à toutes les réalisations du président, qui s’opposerait au changement de la constitution ? »\n",
       "192                                          RDC : « Aucune disposition de la constitution n’empêche Félix Tshisekedi d’améliorer les conditions sociales du peuple » (Opposition)\n",
       "79                           La révocabilité de la nationalité congolaise nécessite une révision constitutionnelle, explique Suminwa aux congolais vivant au Canada | Actualite.cd\n",
       "169                                                                                                                        Constitution : Félix Tshisekedi plus pour le changement\n",
       "100                                                                                   Changement de la Constitution : une déclaration commune de l’Opposition attendue ce mercredi\n",
       "106                                                         Jacques Kyabula : « Face à toutes les réalisations du président, qui s’opposerait au changement de la constitution ? »\n",
       "119    Révision constitutionnelle : Patrick Muyaya invite les détracteurs de Félix Tshisekedi à éviter la haine et à cultiver le sens des intérêts de la République | Actualite.cd\n",
       "125                                                 \"Le changement de la constitution nécessite un large consensus pour éviter le chaos\" (société civile du Lomami) | Actualite.cd\n",
       "41                           Révision constitutionnelle : « Tshisekedi a dit que personne ne l’empêchera, il me connaît très bien. On verra bien qui gagnera à la fin » ( Fayulu )\n",
       "171                                                    Changement de la Constitution : Junior Tshisuaka soutient l'idée et souhaite l'instauration d'un régime présidentiel en RDC\n",
       "37                                                                  Révision de la constitution : « Félix Tshisekedi assume avec grande fierté son statut de dictateur » (Katumbi)\n",
       "40                                                              Doudou Fwamba : « La révision de notre constitution est plus que nécessaire pour moderniser la gestion de l’État »\n",
       "26        Le parti ENVOL répond au porte-parole du gouvernement : « Sesanga a porté le combat pour la révision de certaines dispositions et non du changement de la constitution »\n",
       "154                                                               RDC : « Delly Sesanga était parmi les plus fervents avocats de la révision de la constitution » (Patrick Muyaya)\n",
       "Name: title, dtype: object"
      ]
     },
     "metadata": {},
     "output_type": "display_data"
    },
    {
     "name": "stdout",
     "output_type": "stream",
     "text": [
      "------------------------------\n",
      "('Le procès contre Seth Kikuni, candidat malheureux à la présidentielle de '\n",
      " \"2023, continue lentement mais sûrement. L'organe de la loi a rendu sa \"\n",
      " \"sentence à l'audience de ce mercredi 20 novembre 2023 contre ce farouche \"\n",
      " 'opposant au régime de Félix Tshisekedi. Le ministère public a requis trois '\n",
      " 'ans de prison et une amende de 950 000 FC contre Seth Kikuni. En attendant '\n",
      " \"le verdict du juge, un porte-parole de l'opposant soutient la thèse d'un \"\n",
      " 'procès politique. Arrêté pour \"incitation à la haine\", Seth Kikuni a été '\n",
      " \"détenu à l'ANR avant d'être transféré à la Prison centrale. La Cour \"\n",
      " 'Militaire de Kinshasa/Gombe va poursuivre ce lundi 18 novembre 2024 avec '\n",
      " \"l'examen de l'affaire Coup d'État manqué du 19 mai dernier, après une \"\n",
      " 'interruption due aux conditions météorologiques. Les 37 prévenus sont en '\n",
      " \"train d'invoquer les motifs de l'appel qu'ils ont formé, c'est-à-dire en \"\n",
      " 'quoi il y a eu \"mal jugé\" au premier degré. Selon certains avocats de la '\n",
      " 'défense, la décision du premier juge dans cette affaire a été prise sur base '\n",
      " '\"des suppositions\". Le ministère public qui avait fait appel dans cette '\n",
      " \"affaire n'avait limité son recours qu'à l'encontre des 37 prévenus condamnés \"\n",
      " 'et a donc demandé à la Cour militaire de Kinshasa/Gombe de se déclarer non '\n",
      " 'saisie à leurs égards.')\n"
     ]
    },
    {
     "data": {
      "text/plain": [
       "90                                                                                               Justice : 3 ans de prison requis contre Seth Kikuni\n",
       "132    Procès coup d'État manqué: les prévenus et leurs avocats vont exposer sur les motifs d’appel devant la Cour militaire ce lundi | Actualite.cd\n",
       "Name: title, dtype: object"
      ]
     },
     "metadata": {},
     "output_type": "display_data"
    },
    {
     "name": "stdout",
     "output_type": "stream",
     "text": [
      "------------------------------\n",
      "('Le ministre de la Justice et Garde des Sceaux, Constant Mutamba Tungunga, a '\n",
      " \"ordonné au Procureur général près la Cour d'appel de Mbuji-Mayi de procéder \"\n",
      " 'à une enquête judiciaire contre les membres de la commission chargée de '\n",
      " \"l'indemnisation des habitants des avenues Dodoma et Zaire, situées dans le \"\n",
      " \"quartier de la Plaine, autour de l'aéroport de Bipemba. Cette décision est \"\n",
      " \"motivée par la non-reception d'une somme de 3 millions de dollars américains \"\n",
      " 'alloués par la Banque Mondiale pour indemniser les propriétaires des maisons '\n",
      " \"démolies suite aux travaux de modernisation de l'aéroport de Mbuji-Mayi.\")\n"
     ]
    },
    {
     "data": {
      "text/plain": [
       "34     Kasaï-Oriental : Constant Mutamba ordonne l'instruction judiciaire contre la commission chargée d'indemniser les victimes de démolition autour de l'aéroport de Mbuji-Mayi | Actualite.cd\n",
       "168                                     Kasaï-Oriental : Constant Mutamba ordonne des poursuites contre la commission chargée d'indemniser les victimes des démolitions des maisons à l’aéroport\n",
       "Name: title, dtype: object"
      ]
     },
     "metadata": {},
     "output_type": "display_data"
    },
    {
     "name": "stdout",
     "output_type": "stream",
     "text": [
      "------------------------------\n",
      "('### Procès des \"forages\" : Nicolas Kazadi à l\\'honneur\\n'\n",
      " '\\n'\n",
      " 'Le procès des \"forages\", désormais jugé par la Cour de cassation, prend un '\n",
      " \"tournant crucial alors que les révélations autour du rôle de l'ancien \"\n",
      " 'ministre des Finances, Nicolas Kazadi, continuent de dominer les débats. '\n",
      " 'Bien que le procureur général près la Cour de cassation, Firmin Mvonde, ait '\n",
      " 'innocenté Nicolas Kazadi de toute implication, les accusations se font de '\n",
      " \"plus en plus pressantes, notamment de la part de l'ex-ministre du \"\n",
      " 'Développement rural, François Rubota, qui réclame la comparution de '\n",
      " \"l'ex-argentier national pour faire toute la lumière sur cette affaire.\\n\"\n",
      " '\\n'\n",
      " 'Le procès, qui porte sur un contrat de mise en place de stations de '\n",
      " 'traitement d’eau, fait face à de nombreuses interrogations, notamment sur la '\n",
      " 'modification du nombre de stations initialement prévues. Rubota a affirmé '\n",
      " \"qu'il n’était en rien responsable de l'extension du projet, passé de 1 000 à \"\n",
      " '1 340 stations de traitement d’eau. Selon lui, cette décision émane '\n",
      " 'directement de Nicolas Kazadi, qui aurait pris cette initiative sans le '\n",
      " 'consulter, ce qui rend sa comparution au procès \"indispensable\".\\n'\n",
      " '\\n'\n",
      " 'Le procès des \"forages\" est également marqué par la situation d\\'un des '\n",
      " 'entrepreneurs impliqués, Mike Kasenga, actuellement en détention. Alors que '\n",
      " \"les travaux d'installation des stations de traitement d’eau soient en cours \"\n",
      " 'dans différents sites, les avocats de Kasenga ont une nouvelle fois '\n",
      " \"sollicité sa mise en liberté provisoire, estimant que l'entrepreneur ne \"\n",
      " 'constituait plus un danger et que ses travaux avaient progressé de manière '\n",
      " 'significative.\\n'\n",
      " '\\n'\n",
      " \"L'entrepreneur est la seule personne incarcérée dans ce dossier, alors que \"\n",
      " 'plusieurs figures politiques et économiques, dont Nicolas Kazadi, ont été '\n",
      " 'exemptées de toute poursuite judiciaire, suscitant des interrogations sur '\n",
      " \"l'égalité de traitement et les dynamiques de pouvoir qui traversent ce \"\n",
      " 'procès. Le principal mystère qui entoure encore le procès des \"forages\" '\n",
      " 'reste le rôle de Nicolas Kazadi. Bien que le procureur général Firmin Mvonde '\n",
      " \"ait explicitement blanchi l'ancien\")\n"
     ]
    },
    {
     "data": {
      "text/plain": [
       "133                   Selon François Rubota, l’idée de construire 1 340 forages au lieu de 1000 prévus au contrat est venue de Nicolas Kazadi | Actualite.cd\n",
       "32                                          Dossier forages : les avocats de François Rubota soulèvent l’incompétence de la Cour de cassation | Actualite.cd\n",
       "82     Dossier Forages: la Cour a pris en délibéré la demande de liberté provisoire de l'entrepreneur Mike Kasenga, arrêt attendu ce mercredi | Actualite.cd\n",
       "203                                          Instruction du procès « forages » : Mike Kasenga imperturbable et tout droit dans ses bottes devant les juges !\n",
       "5                                                                   Procès des «Forages» : tout chemin mène à l’ancien ministre des Finances, Nicolas Kazadi\n",
       "Name: title, dtype: object"
      ]
     },
     "metadata": {},
     "output_type": "display_data"
    },
    {
     "name": "stdout",
     "output_type": "stream",
     "text": [
      "------------------------------\n"
     ]
    }
   ],
   "source": [
    "summaries_16bits = []\n",
    "for id, news_group in today_news_df.groupby(\"labels\"):\n",
    "    news = news_group.content.str.cat(sep=\"\\n\")\n",
    "    summary = llama_cpp_generator.run(\n",
    "        template_values={\"content\": news}, prompt_template=summarization_prompt)\n",
    "    summaries_16bits.append(summary)\n",
    "    pprint(summary)\n",
    "    with pd.option_context('display.max_colwidth', None):\n",
    "        display(news_group.title)\n",
    "    print(\"---\" * 10)"
   ]
  },
  {
   "cell_type": "markdown",
   "metadata": {},
   "source": [
    "I will keep both model in the server and use them. I will be benchmackring them."
   ]
  },
  {
   "cell_type": "markdown",
   "metadata": {},
   "source": [
    "Chat template without huggingface."
   ]
  },
  {
   "cell_type": "code",
   "execution_count": 43,
   "metadata": {},
   "outputs": [],
   "source": [
    "text = \" Sample text\""
   ]
  },
  {
   "cell_type": "code",
   "execution_count": null,
   "metadata": {},
   "outputs": [],
   "source": []
  },
  {
   "cell_type": "code",
   "execution_count": null,
   "metadata": {},
   "outputs": [],
   "source": []
  },
  {
   "cell_type": "code",
   "execution_count": 44,
   "metadata": {},
   "outputs": [],
   "source": [
    "chat_input = llama_cpp_generator.generate_chat_input(template_values={\"content\": text}, prompt_template=summarization_prompt)\n",
    "chat_tokens = llama_cpp_generator.tokenizer.apply_chat_template(\n",
    "            chat_input, tokenize=False, add_generation_prompt=True\n",
    "        )"
   ]
  },
  {
   "cell_type": "code",
   "execution_count": 49,
   "metadata": {},
   "outputs": [
    {
     "data": {
      "text/plain": [
       "\"<|im_start|>system\\nYou are a french news reporter<|im_end|>\\n<|im_start|>user\\n\\nGive a short summary 2 to 3 sentences in french of the following document:\\n Sample text\\n Describes it in a style of a french new paper reporters.\\n\\nDon't summarize each document separately, the content in all the documents should be summarized.\\n\\nThe summary should be in french not in English<|im_end|>\\n<|im_start|>assistant\\n\""
      ]
     },
     "execution_count": 49,
     "metadata": {},
     "output_type": "execute_result"
    }
   ],
   "source": [
    "chat_tokens"
   ]
  },
  {
   "cell_type": "code",
   "execution_count": 47,
   "metadata": {},
   "outputs": [],
   "source": [
    "from jinja2 import Template"
   ]
  },
  {
   "cell_type": "code",
   "execution_count": 115,
   "metadata": {},
   "outputs": [],
   "source": [
    "def generate_chat_prompt(messages, add_generation_prompt=False):\n",
    "    \"\"\"\n",
    "    Generates a structured prompt based on a list of message dictionaries.\n",
    "\n",
    "    Args:\n",
    "    messages (list): A list of dictionaries, each with 'role' and 'content' keys.\n",
    "    add_generation_prompt (bool): Whether to add a final assistant prompt block.\n",
    "\n",
    "    Returns:\n",
    "    str: The formatted prompt.\n",
    "    \"\"\"\n",
    "    chat_template = \"{%- if tools %}\\n    {{- '<|im_start|>system\\\\n' }}\\n    {%- if messages[0]['role'] == 'system' %}\\n        {{- messages[0]['content'] }}\\n    {%- else %}\\n        {{- 'You are Qwen, created by Alibaba Cloud. You are a helpful assistant.' }}\\n    {%- endif %}\\n    {{- \\\"\\\\n\\\\n# Tools\\\\n\\\\nYou may call one or more functions to assist with the user query.\\\\n\\\\nYou are provided with function signatures within <tools></tools> XML tags:\\\\n<tools>\\\" }}\\n    {%- for tool in tools %}\\n        {{- \\\"\\\\n\\\" }}\\n        {{- tool | tojson }}\\n    {%- endfor %}\\n    {{- \\\"\\\\n</tools>\\\\n\\\\nFor each function call, return a json object with function name and arguments within <tool_call></tool_call> XML tags:\\\\n<tool_call>\\\\n{\\\\\\\"name\\\\\\\": <function-name>, \\\\\\\"arguments\\\\\\\": <args-json-object>}\\\\n</tool_call><|im_end|>\\\\n\\\" }}\\n{%- else %}\\n    {%- if messages[0]['role'] == 'system' %}\\n        {{- '<|im_start|>system\\\\n' + messages[0]['content'] + '<|im_end|>\\\\n' }}\\n    {%- else %}\\n        {{- '<|im_start|>system\\\\nYou are Qwen, created by Alibaba Cloud. You are a helpful assistant.<|im_end|>\\\\n' }}\\n    {%- endif %}\\n{%- endif %}\\n{%- for message in messages %}\\n    {%- if (message.role == \\\"user\\\") or (message.role == \\\"system\\\" and not loop.first) or (message.role == \\\"assistant\\\" and not message.tool_calls) %}\\n        {{- '<|im_start|>' + message.role + '\\\\n' + message.content + '<|im_end|>' + '\\\\n' }}\\n    {%- elif message.role == \\\"assistant\\\" %}\\n        {{- '<|im_start|>' + message.role }}\\n        {%- if message.content %}\\n            {{- '\\\\n' + message.content }}\\n        {%- endif %}\\n        {%- for tool_call in message.tool_calls %}\\n            {%- if tool_call.function is defined %}\\n                {%- set tool_call = tool_call.function %}\\n            {%- endif %}\\n            {{- '\\\\n<tool_call>\\\\n{\\\"name\\\": \\\"' }}\\n            {{- tool_call.name }}\\n            {{- '\\\", \\\"arguments\\\": ' }}\\n            {{- tool_call.arguments | tojson }}\\n            {{- '}\\\\n</tool_call>' }}\\n        {%- endfor %}\\n        {{- '<|im_end|>\\\\n' }}\\n    {%- elif message.role == \\\"tool\\\" %}\\n        {%- if (loop.index0 == 0) or (messages[loop.index0 - 1].role != \\\"tool\\\") %}\\n            {{- '<|im_start|>user' }}\\n        {%- endif %}\\n        {{- '\\\\n<tool_response>\\\\n' }}\\n        {{- message.content }}\\n        {{- '\\\\n</tool_response>' }}\\n        {%- if loop.last or (messages[loop.index0 + 1].role != \\\"tool\\\") %}\\n            {{- '<|im_end|>\\\\n' }}\\n        {%- endif %}\\n    {%- endif %}\\n{%- endfor %}\\n{%- if add_generation_prompt %}\\n    {{- '<|im_start|>assistant\\\\n' }}\\n{%- endif %}\\n\"\n",
    "    template = Template(chat_template)\n",
    "    return template.render(messages=messages, add_generation_prompt=add_generation_prompt)"
   ]
  },
  {
   "cell_type": "code",
   "execution_count": 116,
   "metadata": {},
   "outputs": [],
   "source": [
    "chat_token_from_function = generate_chat_prompt(chat_input, add_generation_prompt=True)"
   ]
  },
  {
   "cell_type": "code",
   "execution_count": 117,
   "metadata": {},
   "outputs": [
    {
     "data": {
      "text/plain": [
       "\"<|im_start|>system\\nYou are a french news reporter<|im_end|>\\n<|im_start|>user\\n\\nGive a short summary 2 to 3 sentences in french of the following document:\\n Sample text\\n Describes it in a style of a french new paper reporters.\\n\\nDon't summarize each document separately, the content in all the documents should be summarized.\\n\\nThe summary should be in french not in English<|im_end|>\\n<|im_start|>assistant\\n\""
      ]
     },
     "execution_count": 117,
     "metadata": {},
     "output_type": "execute_result"
    }
   ],
   "source": [
    "chat_tokens"
   ]
  },
  {
   "cell_type": "code",
   "execution_count": 118,
   "metadata": {},
   "outputs": [
    {
     "data": {
      "text/plain": [
       "\"<|im_start|>system\\nYou are a french news reporter<|im_end|>\\n<|im_start|>user\\n\\nGive a short summary 2 to 3 sentences in french of the following document:\\n Sample text\\n Describes it in a style of a french new paper reporters.\\n\\nDon't summarize each document separately, the content in all the documents should be summarized.\\n\\nThe summary should be in french not in English<|im_end|>\\n<|im_start|>assistant\\n\""
      ]
     },
     "execution_count": 118,
     "metadata": {},
     "output_type": "execute_result"
    }
   ],
   "source": [
    "chat_token_from_function\n"
   ]
  },
  {
   "cell_type": "code",
   "execution_count": 119,
   "metadata": {},
   "outputs": [],
   "source": [
    "assert chat_token_from_function == chat_tokens"
   ]
  },
  {
   "cell_type": "code",
   "execution_count": null,
   "metadata": {},
   "outputs": [],
   "source": [
    "chat_template = \"\"\" {%- if tools %}\\n    {{- '<|im_start|>system\\\\n' }}\\n    {%- if messages[0]['role'] == 'system' %}\\n        {{- messages[0]['content'] }}\\n    {%- else %}\\n        {{- 'You are Qwen, created by Alibaba Cloud. You are a helpful assistant.' }}\\n    {%- endif %}\\n    {{- \\\"\\\\n\\\\n# Tools\\\\n\\\\nYou may call one or more functions to assist with the user query.\\\\n\\\\nYou are provided with function signatures within <tools></tools> XML tags:\\\\n<tools>\\\" }}\\n    {%- for tool in tools %}\\n        {{- \\\"\\\\n\\\" }}\\n        {{- tool | tojson }}\\n    {%- endfor %}\\n    {{- \\\"\\\\n</tools>\\\\n\\\\nFor each function call, return a json object with function name and arguments within <tool_call></tool_call> XML tags:\\\\n<tool_call>\\\\n{\\\\\\\"name\\\\\\\": <function-name>, \\\\\\\"arguments\\\\\\\": <args-json-object>}\\\\n</tool_call><|im_end|>\\\\n\\\" }}\\n{%- else %}\\n    {%- if messages[0]['role'] == 'system' %}\\n        {{- '<|im_start|>system\\\\n' + messages[0]['content'] + '<|im_end|>\\\\n' }}\\n    {%- else %}\\n        {{- '<|im_start|>system\\\\nYou are Qwen, created by Alibaba Cloud. You are a helpful assistant.<|im_end|>\\\\n' }}\\n    {%- endif %}\\n{%- endif %}\\n{%- for message in messages %}\\n    {%- if (message.role == \\\"user\\\") or (message.role == \\\"system\\\" and not loop.first) or (message.role == \\\"assistant\\\" and not message.tool_calls) %}\\n        {{- '<|im_start|>' + message.role + '\\\\n' + message.content + '<|im_end|>' + '\\\\n' }}\\n    {%- elif message.role == \\\"assistant\\\" %}\\n        {{- '<|im_start|>' + message.role }}\\n        {%- if message.content %}\\n            {{- '\\\\n' + message.content }}\\n        {%- endif %}\\n        {%- for tool_call in message.tool_calls %}\\n            {%- if tool_call.function is defined %}\\n                {%- set tool_call = tool_call.function %}\\n            {%- endif %}\\n            {{- '\\\\n<tool_call>\\\\n{\\\"name\\\": \\\"' }}\\n            {{- tool_call.name }}\\n            {{- '\\\", \\\"arguments\\\": ' }}\\n            {{- tool_call.arguments | tojson }}\\n            {{- '}\\\\n</tool_call>' }}\\n        {%- endfor %}\\n        {{- '<|im_end|>\\\\n' }}\\n    {%- elif message.role == \\\"tool\\\" %}\\n        {%- if (loop.index0 == 0) or (messages[loop.index0 - 1].role != \\\"tool\\\") %}\\n            {{- '<|im_start|>user' }}\\n        {%- endif %}\\n        {{- '\\\\n<tool_response>\\\\n' }}\\n        {{- message.content }}\\n        {{- '\\\\n</tool_response>' }}\\n        {%- if loop.last or (messages[loop.index0 + 1].role != \\\"tool\\\") %}\\n            {{- '<|im_end|>\\\\n' }}\\n        {%- endif %}\\n    {%- endif %}\\n{%- endfor %}\\n{%- if add_generation_prompt %}\\n    {{- '<|im_start|>assistant\\\\n' }}\\n{%- endif %}\\n,\n",
    "\"\"\""
   ]
  },
  {
   "cell_type": "markdown",
   "metadata": {},
   "source": []
  }
 ],
 "metadata": {
  "kernelspec": {
   "display_name": ".venv",
   "language": "python",
   "name": "python3"
  },
  "language_info": {
   "codemirror_mode": {
    "name": "ipython",
    "version": 3
   },
   "file_extension": ".py",
   "mimetype": "text/x-python",
   "name": "python",
   "nbconvert_exporter": "python",
   "pygments_lexer": "ipython3",
   "version": "3.10.4"
  }
 },
 "nbformat": 4,
 "nbformat_minor": 2
}
