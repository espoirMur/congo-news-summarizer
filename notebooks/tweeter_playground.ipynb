{
 "cells": [
  {
   "cell_type": "code",
   "execution_count": null,
   "metadata": {},
   "outputs": [],
   "source": [
    "import os\n",
    "import tweepy"
   ]
  },
  {
   "cell_type": "markdown",
   "metadata": {},
   "source": [
    "Install the python [dotenv extension](https://github.com/theskumar/python-dotenv) from this link and load the extension with this."
   ]
  },
  {
   "cell_type": "code",
   "execution_count": null,
   "metadata": {},
   "outputs": [],
   "source": [
    "%load_ext dotenv\n",
    "\n",
    "#"
   ]
  },
  {
   "cell_type": "markdown",
   "metadata": {},
   "source": [
    "### Load environment variable"
   ]
  },
  {
   "cell_type": "markdown",
   "metadata": {},
   "source": [
    "Create a file named `.env_twitter` and add the twitter credentials like in this way: \n",
    "\n",
    "Please add the `.env_twitter` file to `.gitignore` and never share this credentials with anyone.\n",
    "\n",
    "```\n",
    "\n",
    "TWITTER_ACCESS_TOKEN=xxxx\n",
    "TWITTER_ACCESS_SECRET=xxxx\n",
    "TWITTER_CONSUMER_KEY=xxxxx\n",
    "TWITTER_CONSUMER_SECRET=xxxxxx\n",
    "\n",
    "TWITTER_BEARER_TOKEN=xxxxxx\n",
    "TWITTER_CLIENT_ID=xxxx\n",
    "TWITTER_CLIENT_SECRET=xxxxxxxx\n",
    "\n",
    "```"
   ]
  },
  {
   "cell_type": "code",
   "execution_count": null,
   "metadata": {},
   "outputs": [],
   "source": [
    "%dotenv ./.env_twitter -o\n"
   ]
  },
  {
   "cell_type": "code",
   "execution_count": null,
   "metadata": {},
   "outputs": [],
   "source": [
    "consumer_key = os.getenv('TWITTER_CONSUMER_KEY')\n",
    "consumer_secret = os.getenv('TWITTER_CONSUMER_SECRET')\n",
    "access_token = os.getenv('TWITTER_ACCESS_TOKEN')\n",
    "access_secret = os.getenv('TWITTER_ACCESS_SECRET')"
   ]
  },
  {
   "cell_type": "code",
   "execution_count": null,
   "metadata": {},
   "outputs": [],
   "source": [
    "auth = tweepy.OAuthHandler(consumer_key, consumer_secret)\n",
    "auth.set_access_token(access_token, access_secret)"
   ]
  },
  {
   "cell_type": "code",
   "execution_count": null,
   "metadata": {},
   "outputs": [],
   "source": [
    "client = tweepy.Client(\n",
    "    consumer_key=consumer_key,\n",
    "    consumer_secret=consumer_secret,\n",
    "    access_token=access_token,\n",
    "    access_token_secret=access_secret\n",
    ")"
   ]
  },
  {
   "cell_type": "code",
   "execution_count": null,
   "metadata": {},
   "outputs": [],
   "source": [
    "client.create_tweet(text=\"Hello, world!\")"
   ]
  },
  {
   "cell_type": "markdown",
   "metadata": {},
   "source": [
    "If you can manage to make this work, don't tweet very often!\n",
    "\n",
    "You don't have a lot of credentials."
   ]
  },
  {
   "cell_type": "markdown",
   "metadata": {},
   "source": [
    "You can learn more from the example here: https://docs.tweepy.org/en/stable/examples.html"
   ]
  },
  {
   "cell_type": "markdown",
   "metadata": {},
   "source": []
  }
 ],
 "metadata": {
  "kernelspec": {
   "display_name": ".venv",
   "language": "python",
   "name": "python3"
  },
  "language_info": {
   "codemirror_mode": {
    "name": "ipython",
    "version": 3
   },
   "file_extension": ".py",
   "mimetype": "text/x-python",
   "name": "python",
   "nbconvert_exporter": "python",
   "pygments_lexer": "ipython3",
   "version": "3.10.4"
  }
 },
 "nbformat": 4,
 "nbformat_minor": 2
}
